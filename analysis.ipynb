{
 "cells":[
  {
   "cell_type":"code",
   "source":[
    "#libraries\n",
    "# Importad las librerías necesarias aquí\n",
    "import pandas as pd\n",
    "import numpy as np\n",
    "import plotly.graph_objects as go\n",
    "import matplotlib.pyplot as plt\n",
    "import seaborn as sns\n",
    "import sklearn.datasets\n",
    "import plotly.figure_factory as ff\n",
    "\n",
    "from plotly.subplots import make_subplots\n",
    "from sklearn.model_selection import train_test_split\n",
    "from sklearn.decomposition import PCA\n",
    "from sklearn.svm import LinearSVC\n",
    "from sklearn.metrics import (accuracy_score, confusion_matrix, \n",
    "                             mean_squared_error, mean_absolute_error, mean_absolute_percentage_error,\n",
    "                             silhouette_score, davies_bouldin_score,silhouette_samples)\n",
    "from sklearn.ensemble import RandomForestRegressor\n",
    "from sklearn.impute import SimpleImputer\n",
    "from sklearn.preprocessing import MinMaxScaler\n",
    "from sklearn.cluster import KMeans\n",
    "from sklearn.manifold import TSNE\n",
    "\n",
    "import plotly.express as px"
   ],
   "execution_count":96,
   "outputs":[
    
   ],
   "metadata":{
    "datalore":{
     "node_id":"y9QwaSVHS3WAPxyjev8xPk",
     "type":"CODE",
     "hide_input_from_viewers":false,
     "hide_output_from_viewers":false
    }
   }
  },
  {
   "cell_type":"markdown",
   "source":[
    "\n",
    "Attributes\n",
    "\n",
    "People\n",
    "\n",
    "* ID: Customer's unique identifier\n",
    "* Year_Birth: Customer's birth year\n",
    "* Education: Customer's education level\n",
    "* Marital_Status: Customer's marital status\n",
    "* Income: Customer's yearly household income\n",
    "* Kidhome: Number of children in customer's household\n",
    "* Teenhome: Number of teenagers in customer's household\n",
    "* Dt_Customer: Date of customer's enrollment with the company\n",
    "* Recency: Number of days since customer's last purchase\n",
    "* (0\/1)Complain: 1 if the customer complained in the last 2 years, 0 otherwise\n",
    "\n",
    "Products\n",
    "\n",
    "* MntWines: Amount spent on wine in last 2 years\n",
    "* MntFruits: Amount spent on fruits in last 2 years\n",
    "* MntMeatProducts: Amount spent on meat in last 2 years\n",
    "* MntFishProducts: Amount spent on fish in last 2 years\n",
    "* MntSweetProducts: Amount spent on sweets in last 2 years\n",
    "* MntGoldProds: Amount spent on gold in last 2 years\n",
    "\n",
    "Promotion\n",
    "\n",
    "* NumDealsPurchases: Number of purchases made with a discount\n",
    "* (0\/1)AcceptedCmp1: 1 if customer accepted the offer in the 1st campaign, 0 otherwise\n",
    "* (0\/1)AcceptedCmp2: 1 if customer accepted the offer in the 2nd campaign, 0 otherwise\n",
    "* (0\/1)AcceptedCmp3: 1 if customer accepted the offer in the 3rd campaign, 0 otherwise\n",
    "* (0\/1)AcceptedCmp4: 1 if customer accepted the offer in the 4th campaign, 0 otherwise\n",
    "* (0\/1)AcceptedCmp5: 1 if customer accepted the offer in the 5th campaign, 0 otherwise\n",
    "* (0\/1)Response: 1 if customer accepted the offer in the last campaign, 0 otherwise\n",
    "\n",
    "Place\n",
    "\n",
    "* NumWebPurchases: Number of purchases made through the company’s website\n",
    "* NumCatalogPurchases: Number of purchases made using a catalogue\n",
    "* NumStorePurchases: Number of purchases made directly in stores\n",
    "* NumWebVisitsMonth: Number of visits to company’s website in the last month*"
   ],
   "attachments":{
    
   },
   "metadata":{
    "datalore":{
     "node_id":"gbdnMwbxfpBdtcZBaGZ64F",
     "type":"MD",
     "hide_input_from_viewers":false,
     "hide_output_from_viewers":false
    }
   }
  },
  {
   "cell_type":"code",
   "source":[
    "df=pd.read_csv('https:\/\/raw.githubusercontent.com\/jorgecalvar\/project-client-segmentation\/main\/marketing_campaign.csv',header=0,sep='\\t')\n",
    "df"
   ],
   "execution_count":97,
   "outputs":[
    {
     "data":{
      "text\/html":[
       "<div>\n",
       "<style scoped>\n",
       "    .dataframe tbody tr th:only-of-type {\n",
       "        vertical-align: middle;\n",
       "    }\n",
       "\n",
       "    .dataframe tbody tr th {\n",
       "        vertical-align: top;\n",
       "    }\n",
       "\n",
       "    .dataframe thead th {\n",
       "        text-align: right;\n",
       "    }\n",
       "<\/style>\n",
       "<table border=\"1\" class=\"dataframe\">\n",
       "  <thead>\n",
       "    <tr style=\"text-align: right;\">\n",
       "      <th><\/th>\n",
       "      <th>ID<\/th>\n",
       "      <th>Year_Birth<\/th>\n",
       "      <th>Education<\/th>\n",
       "      <th>Marital_Status<\/th>\n",
       "      <th>Income<\/th>\n",
       "      <th>Kidhome<\/th>\n",
       "      <th>Teenhome<\/th>\n",
       "      <th>Dt_Customer<\/th>\n",
       "      <th>Recency<\/th>\n",
       "      <th>MntWines<\/th>\n",
       "      <th>...<\/th>\n",
       "      <th>NumWebVisitsMonth<\/th>\n",
       "      <th>AcceptedCmp3<\/th>\n",
       "      <th>AcceptedCmp4<\/th>\n",
       "      <th>AcceptedCmp5<\/th>\n",
       "      <th>AcceptedCmp1<\/th>\n",
       "      <th>AcceptedCmp2<\/th>\n",
       "      <th>Complain<\/th>\n",
       "      <th>Z_CostContact<\/th>\n",
       "      <th>Z_Revenue<\/th>\n",
       "      <th>Response<\/th>\n",
       "    <\/tr>\n",
       "  <\/thead>\n",
       "  <tbody>\n",
       "    <tr>\n",
       "      <th>0<\/th>\n",
       "      <td>5524<\/td>\n",
       "      <td>1957<\/td>\n",
       "      <td>Graduation<\/td>\n",
       "      <td>Single<\/td>\n",
       "      <td>58138.0<\/td>\n",
       "      <td>0<\/td>\n",
       "      <td>0<\/td>\n",
       "      <td>04-09-2012<\/td>\n",
       "      <td>58<\/td>\n",
       "      <td>635<\/td>\n",
       "      <td>...<\/td>\n",
       "      <td>7<\/td>\n",
       "      <td>0<\/td>\n",
       "      <td>0<\/td>\n",
       "      <td>0<\/td>\n",
       "      <td>0<\/td>\n",
       "      <td>0<\/td>\n",
       "      <td>0<\/td>\n",
       "      <td>3<\/td>\n",
       "      <td>11<\/td>\n",
       "      <td>1<\/td>\n",
       "    <\/tr>\n",
       "    <tr>\n",
       "      <th>1<\/th>\n",
       "      <td>2174<\/td>\n",
       "      <td>1954<\/td>\n",
       "      <td>Graduation<\/td>\n",
       "      <td>Single<\/td>\n",
       "      <td>46344.0<\/td>\n",
       "      <td>1<\/td>\n",
       "      <td>1<\/td>\n",
       "      <td>08-03-2014<\/td>\n",
       "      <td>38<\/td>\n",
       "      <td>11<\/td>\n",
       "      <td>...<\/td>\n",
       "      <td>5<\/td>\n",
       "      <td>0<\/td>\n",
       "      <td>0<\/td>\n",
       "      <td>0<\/td>\n",
       "      <td>0<\/td>\n",
       "      <td>0<\/td>\n",
       "      <td>0<\/td>\n",
       "      <td>3<\/td>\n",
       "      <td>11<\/td>\n",
       "      <td>0<\/td>\n",
       "    <\/tr>\n",
       "    <tr>\n",
       "      <th>2<\/th>\n",
       "      <td>4141<\/td>\n",
       "      <td>1965<\/td>\n",
       "      <td>Graduation<\/td>\n",
       "      <td>Together<\/td>\n",
       "      <td>71613.0<\/td>\n",
       "      <td>0<\/td>\n",
       "      <td>0<\/td>\n",
       "      <td>21-08-2013<\/td>\n",
       "      <td>26<\/td>\n",
       "      <td>426<\/td>\n",
       "      <td>...<\/td>\n",
       "      <td>4<\/td>\n",
       "      <td>0<\/td>\n",
       "      <td>0<\/td>\n",
       "      <td>0<\/td>\n",
       "      <td>0<\/td>\n",
       "      <td>0<\/td>\n",
       "      <td>0<\/td>\n",
       "      <td>3<\/td>\n",
       "      <td>11<\/td>\n",
       "      <td>0<\/td>\n",
       "    <\/tr>\n",
       "    <tr>\n",
       "      <th>3<\/th>\n",
       "      <td>6182<\/td>\n",
       "      <td>1984<\/td>\n",
       "      <td>Graduation<\/td>\n",
       "      <td>Together<\/td>\n",
       "      <td>26646.0<\/td>\n",
       "      <td>1<\/td>\n",
       "      <td>0<\/td>\n",
       "      <td>10-02-2014<\/td>\n",
       "      <td>26<\/td>\n",
       "      <td>11<\/td>\n",
       "      <td>...<\/td>\n",
       "      <td>6<\/td>\n",
       "      <td>0<\/td>\n",
       "      <td>0<\/td>\n",
       "      <td>0<\/td>\n",
       "      <td>0<\/td>\n",
       "      <td>0<\/td>\n",
       "      <td>0<\/td>\n",
       "      <td>3<\/td>\n",
       "      <td>11<\/td>\n",
       "      <td>0<\/td>\n",
       "    <\/tr>\n",
       "    <tr>\n",
       "      <th>4<\/th>\n",
       "      <td>5324<\/td>\n",
       "      <td>1981<\/td>\n",
       "      <td>PhD<\/td>\n",
       "      <td>Married<\/td>\n",
       "      <td>58293.0<\/td>\n",
       "      <td>1<\/td>\n",
       "      <td>0<\/td>\n",
       "      <td>19-01-2014<\/td>\n",
       "      <td>94<\/td>\n",
       "      <td>173<\/td>\n",
       "      <td>...<\/td>\n",
       "      <td>5<\/td>\n",
       "      <td>0<\/td>\n",
       "      <td>0<\/td>\n",
       "      <td>0<\/td>\n",
       "      <td>0<\/td>\n",
       "      <td>0<\/td>\n",
       "      <td>0<\/td>\n",
       "      <td>3<\/td>\n",
       "      <td>11<\/td>\n",
       "      <td>0<\/td>\n",
       "    <\/tr>\n",
       "    <tr>\n",
       "      <th>...<\/th>\n",
       "      <td>...<\/td>\n",
       "      <td>...<\/td>\n",
       "      <td>...<\/td>\n",
       "      <td>...<\/td>\n",
       "      <td>...<\/td>\n",
       "      <td>...<\/td>\n",
       "      <td>...<\/td>\n",
       "      <td>...<\/td>\n",
       "      <td>...<\/td>\n",
       "      <td>...<\/td>\n",
       "      <td>...<\/td>\n",
       "      <td>...<\/td>\n",
       "      <td>...<\/td>\n",
       "      <td>...<\/td>\n",
       "      <td>...<\/td>\n",
       "      <td>...<\/td>\n",
       "      <td>...<\/td>\n",
       "      <td>...<\/td>\n",
       "      <td>...<\/td>\n",
       "      <td>...<\/td>\n",
       "      <td>...<\/td>\n",
       "    <\/tr>\n",
       "    <tr>\n",
       "      <th>2235<\/th>\n",
       "      <td>10870<\/td>\n",
       "      <td>1967<\/td>\n",
       "      <td>Graduation<\/td>\n",
       "      <td>Married<\/td>\n",
       "      <td>61223.0<\/td>\n",
       "      <td>0<\/td>\n",
       "      <td>1<\/td>\n",
       "      <td>13-06-2013<\/td>\n",
       "      <td>46<\/td>\n",
       "      <td>709<\/td>\n",
       "      <td>...<\/td>\n",
       "      <td>5<\/td>\n",
       "      <td>0<\/td>\n",
       "      <td>0<\/td>\n",
       "      <td>0<\/td>\n",
       "      <td>0<\/td>\n",
       "      <td>0<\/td>\n",
       "      <td>0<\/td>\n",
       "      <td>3<\/td>\n",
       "      <td>11<\/td>\n",
       "      <td>0<\/td>\n",
       "    <\/tr>\n",
       "    <tr>\n",
       "      <th>2236<\/th>\n",
       "      <td>4001<\/td>\n",
       "      <td>1946<\/td>\n",
       "      <td>PhD<\/td>\n",
       "      <td>Together<\/td>\n",
       "      <td>64014.0<\/td>\n",
       "      <td>2<\/td>\n",
       "      <td>1<\/td>\n",
       "      <td>10-06-2014<\/td>\n",
       "      <td>56<\/td>\n",
       "      <td>406<\/td>\n",
       "      <td>...<\/td>\n",
       "      <td>7<\/td>\n",
       "      <td>0<\/td>\n",
       "      <td>0<\/td>\n",
       "      <td>0<\/td>\n",
       "      <td>1<\/td>\n",
       "      <td>0<\/td>\n",
       "      <td>0<\/td>\n",
       "      <td>3<\/td>\n",
       "      <td>11<\/td>\n",
       "      <td>0<\/td>\n",
       "    <\/tr>\n",
       "    <tr>\n",
       "      <th>2237<\/th>\n",
       "      <td>7270<\/td>\n",
       "      <td>1981<\/td>\n",
       "      <td>Graduation<\/td>\n",
       "      <td>Divorced<\/td>\n",
       "      <td>56981.0<\/td>\n",
       "      <td>0<\/td>\n",
       "      <td>0<\/td>\n",
       "      <td>25-01-2014<\/td>\n",
       "      <td>91<\/td>\n",
       "      <td>908<\/td>\n",
       "      <td>...<\/td>\n",
       "      <td>6<\/td>\n",
       "      <td>0<\/td>\n",
       "      <td>1<\/td>\n",
       "      <td>0<\/td>\n",
       "      <td>0<\/td>\n",
       "      <td>0<\/td>\n",
       "      <td>0<\/td>\n",
       "      <td>3<\/td>\n",
       "      <td>11<\/td>\n",
       "      <td>0<\/td>\n",
       "    <\/tr>\n",
       "    <tr>\n",
       "      <th>2238<\/th>\n",
       "      <td>8235<\/td>\n",
       "      <td>1956<\/td>\n",
       "      <td>Master<\/td>\n",
       "      <td>Together<\/td>\n",
       "      <td>69245.0<\/td>\n",
       "      <td>0<\/td>\n",
       "      <td>1<\/td>\n",
       "      <td>24-01-2014<\/td>\n",
       "      <td>8<\/td>\n",
       "      <td>428<\/td>\n",
       "      <td>...<\/td>\n",
       "      <td>3<\/td>\n",
       "      <td>0<\/td>\n",
       "      <td>0<\/td>\n",
       "      <td>0<\/td>\n",
       "      <td>0<\/td>\n",
       "      <td>0<\/td>\n",
       "      <td>0<\/td>\n",
       "      <td>3<\/td>\n",
       "      <td>11<\/td>\n",
       "      <td>0<\/td>\n",
       "    <\/tr>\n",
       "    <tr>\n",
       "      <th>2239<\/th>\n",
       "      <td>9405<\/td>\n",
       "      <td>1954<\/td>\n",
       "      <td>PhD<\/td>\n",
       "      <td>Married<\/td>\n",
       "      <td>52869.0<\/td>\n",
       "      <td>1<\/td>\n",
       "      <td>1<\/td>\n",
       "      <td>15-10-2012<\/td>\n",
       "      <td>40<\/td>\n",
       "      <td>84<\/td>\n",
       "      <td>...<\/td>\n",
       "      <td>7<\/td>\n",
       "      <td>0<\/td>\n",
       "      <td>0<\/td>\n",
       "      <td>0<\/td>\n",
       "      <td>0<\/td>\n",
       "      <td>0<\/td>\n",
       "      <td>0<\/td>\n",
       "      <td>3<\/td>\n",
       "      <td>11<\/td>\n",
       "      <td>1<\/td>\n",
       "    <\/tr>\n",
       "  <\/tbody>\n",
       "<\/table>\n",
       "<p>2240 rows × 29 columns<\/p>\n",
       "<\/div>"
      ]
     },
     "metadata":{
      
     },
     "output_type":"display_data"
    }
   ],
   "metadata":{
    "datalore":{
     "node_id":"iWDN5tGzs91S8Ss6BNlWkm",
     "type":"CODE",
     "hide_input_from_viewers":false,
     "hide_output_from_viewers":false
    }
   }
  },
  {
   "cell_type":"code",
   "source":[
    "df.info()"
   ],
   "execution_count":98,
   "outputs":[
    {
     "name":"stdout",
     "text":[
      "<class 'pandas.core.frame.DataFrame'>\n",
      "RangeIndex: 2240 entries, 0 to 2239\n",
      "Data columns (total 29 columns):\n",
      " #   Column               Non-Null Count  Dtype  \n",
      "---  ------               --------------  -----  \n",
      " 0   ID                   2240 non-null   int64  \n",
      " 1   Year_Birth           2240 non-null   int64  \n",
      " 2   Education            2240 non-null   object \n",
      " 3   Marital_Status       2240 non-null   object \n",
      " 4   Income               2216 non-null   float64\n",
      " 5   Kidhome              2240 non-null   int64  \n",
      " 6   Teenhome             2240 non-null   int64  \n",
      " 7   Dt_Customer          2240 non-null   object \n",
      " 8   Recency              2240 non-null   int64  \n",
      " 9   MntWines             2240 non-null   int64  \n",
      " 10  MntFruits            2240 non-null   int64  \n",
      " 11  MntMeatProducts      2240 non-null   int64  \n",
      " 12  MntFishProducts      2240 non-null   int64  \n",
      " 13  MntSweetProducts     2240 non-null   int64  \n",
      " 14  MntGoldProds         2240 non-null   int64  \n",
      " 15  NumDealsPurchases    2240 non-null   int64  \n",
      " 16  NumWebPurchases      2240 non-null   int64  \n",
      " 17  NumCatalogPurchases  2240 non-null   int64  \n",
      " 18  NumStorePurchases    2240 non-null   int64  \n",
      " 19  NumWebVisitsMonth    2240 non-null   int64  \n",
      " 20  AcceptedCmp3         2240 non-null   int64  \n",
      " 21  AcceptedCmp4         2240 non-null   int64  \n",
      " 22  AcceptedCmp5         2240 non-null   int64  \n",
      " 23  AcceptedCmp1         2240 non-null   int64  \n",
      " 24  AcceptedCmp2         2240 non-null   int64  \n",
      " 25  Complain             2240 non-null   int64  \n",
      " 26  Z_CostContact        2240 non-null   int64  \n",
      " 27  Z_Revenue            2240 non-null   int64  \n",
      " 28  Response             2240 non-null   int64  \n",
      "dtypes: float64(1), int64(25), object(3)\n",
      "memory usage: 507.6+ KB\n"
     ],
     "output_type":"stream"
    }
   ],
   "metadata":{
    "datalore":{
     "node_id":"4Qr7VlgVbROE8KllijdGHq",
     "type":"CODE",
     "hide_input_from_viewers":false,
     "hide_output_from_viewers":false
    }
   }
  },
  {
   "cell_type":"code",
   "source":[
    "numerical_features = df.select_dtypes(include='number').columns.tolist()\n",
    "print(len(numerical_features) , numerical_features)\n",
    "categorical_features = df.select_dtypes(exclude='number').columns.tolist()\n",
    "print(len(categorical_features) , categorical_features)\n",
    "\n",
    "df_num=df.select_dtypes(include='number')\n",
    "df_cat=df.select_dtypes(exclude='number')"
   ],
   "execution_count":99,
   "outputs":[
    {
     "name":"stdout",
     "text":[
      "26 ['ID', 'Year_Birth', 'Income', 'Kidhome', 'Teenhome', 'Recency', 'MntWines', 'MntFruits', 'MntMeatProducts', 'MntFishProducts', 'MntSweetProducts', 'MntGoldProds', 'NumDealsPurchases', 'NumWebPurchases', 'NumCatalogPurchases', 'NumStorePurchases', 'NumWebVisitsMonth', 'AcceptedCmp3', 'AcceptedCmp4', 'AcceptedCmp5', 'AcceptedCmp1', 'AcceptedCmp2', 'Complain', 'Z_CostContact', 'Z_Revenue', 'Response']\n",
      "3 ['Education', 'Marital_Status', 'Dt_Customer']\n"
     ],
     "output_type":"stream"
    }
   ],
   "metadata":{
    "datalore":{
     "node_id":"nCdsnsLXeqXAPvjh46i1sF",
     "type":"CODE",
     "hide_input_from_viewers":false,
     "hide_output_from_viewers":false
    }
   }
  },
  {
   "cell_type":"code",
   "source":[
    "df[numerical_features].describe().T"
   ],
   "execution_count":100,
   "outputs":[
    {
     "data":{
      "text\/html":[
       "<div>\n",
       "<style scoped>\n",
       "    .dataframe tbody tr th:only-of-type {\n",
       "        vertical-align: middle;\n",
       "    }\n",
       "\n",
       "    .dataframe tbody tr th {\n",
       "        vertical-align: top;\n",
       "    }\n",
       "\n",
       "    .dataframe thead th {\n",
       "        text-align: right;\n",
       "    }\n",
       "<\/style>\n",
       "<table border=\"1\" class=\"dataframe\">\n",
       "  <thead>\n",
       "    <tr style=\"text-align: right;\">\n",
       "      <th><\/th>\n",
       "      <th>count<\/th>\n",
       "      <th>mean<\/th>\n",
       "      <th>std<\/th>\n",
       "      <th>min<\/th>\n",
       "      <th>25%<\/th>\n",
       "      <th>50%<\/th>\n",
       "      <th>75%<\/th>\n",
       "      <th>max<\/th>\n",
       "    <\/tr>\n",
       "  <\/thead>\n",
       "  <tbody>\n",
       "    <tr>\n",
       "      <th>ID<\/th>\n",
       "      <td>2240.0<\/td>\n",
       "      <td>5592.159821<\/td>\n",
       "      <td>3246.662198<\/td>\n",
       "      <td>0.0<\/td>\n",
       "      <td>2828.25<\/td>\n",
       "      <td>5458.5<\/td>\n",
       "      <td>8427.75<\/td>\n",
       "      <td>11191.0<\/td>\n",
       "    <\/tr>\n",
       "    <tr>\n",
       "      <th>Year_Birth<\/th>\n",
       "      <td>2240.0<\/td>\n",
       "      <td>1968.805804<\/td>\n",
       "      <td>11.984069<\/td>\n",
       "      <td>1893.0<\/td>\n",
       "      <td>1959.00<\/td>\n",
       "      <td>1970.0<\/td>\n",
       "      <td>1977.00<\/td>\n",
       "      <td>1996.0<\/td>\n",
       "    <\/tr>\n",
       "    <tr>\n",
       "      <th>Income<\/th>\n",
       "      <td>2216.0<\/td>\n",
       "      <td>52247.251354<\/td>\n",
       "      <td>25173.076661<\/td>\n",
       "      <td>1730.0<\/td>\n",
       "      <td>35303.00<\/td>\n",
       "      <td>51381.5<\/td>\n",
       "      <td>68522.00<\/td>\n",
       "      <td>666666.0<\/td>\n",
       "    <\/tr>\n",
       "    <tr>\n",
       "      <th>Kidhome<\/th>\n",
       "      <td>2240.0<\/td>\n",
       "      <td>0.444196<\/td>\n",
       "      <td>0.538398<\/td>\n",
       "      <td>0.0<\/td>\n",
       "      <td>0.00<\/td>\n",
       "      <td>0.0<\/td>\n",
       "      <td>1.00<\/td>\n",
       "      <td>2.0<\/td>\n",
       "    <\/tr>\n",
       "    <tr>\n",
       "      <th>Teenhome<\/th>\n",
       "      <td>2240.0<\/td>\n",
       "      <td>0.506250<\/td>\n",
       "      <td>0.544538<\/td>\n",
       "      <td>0.0<\/td>\n",
       "      <td>0.00<\/td>\n",
       "      <td>0.0<\/td>\n",
       "      <td>1.00<\/td>\n",
       "      <td>2.0<\/td>\n",
       "    <\/tr>\n",
       "    <tr>\n",
       "      <th>Recency<\/th>\n",
       "      <td>2240.0<\/td>\n",
       "      <td>49.109375<\/td>\n",
       "      <td>28.962453<\/td>\n",
       "      <td>0.0<\/td>\n",
       "      <td>24.00<\/td>\n",
       "      <td>49.0<\/td>\n",
       "      <td>74.00<\/td>\n",
       "      <td>99.0<\/td>\n",
       "    <\/tr>\n",
       "    <tr>\n",
       "      <th>MntWines<\/th>\n",
       "      <td>2240.0<\/td>\n",
       "      <td>303.935714<\/td>\n",
       "      <td>336.597393<\/td>\n",
       "      <td>0.0<\/td>\n",
       "      <td>23.75<\/td>\n",
       "      <td>173.5<\/td>\n",
       "      <td>504.25<\/td>\n",
       "      <td>1493.0<\/td>\n",
       "    <\/tr>\n",
       "    <tr>\n",
       "      <th>MntFruits<\/th>\n",
       "      <td>2240.0<\/td>\n",
       "      <td>26.302232<\/td>\n",
       "      <td>39.773434<\/td>\n",
       "      <td>0.0<\/td>\n",
       "      <td>1.00<\/td>\n",
       "      <td>8.0<\/td>\n",
       "      <td>33.00<\/td>\n",
       "      <td>199.0<\/td>\n",
       "    <\/tr>\n",
       "    <tr>\n",
       "      <th>MntMeatProducts<\/th>\n",
       "      <td>2240.0<\/td>\n",
       "      <td>166.950000<\/td>\n",
       "      <td>225.715373<\/td>\n",
       "      <td>0.0<\/td>\n",
       "      <td>16.00<\/td>\n",
       "      <td>67.0<\/td>\n",
       "      <td>232.00<\/td>\n",
       "      <td>1725.0<\/td>\n",
       "    <\/tr>\n",
       "    <tr>\n",
       "      <th>MntFishProducts<\/th>\n",
       "      <td>2240.0<\/td>\n",
       "      <td>37.525446<\/td>\n",
       "      <td>54.628979<\/td>\n",
       "      <td>0.0<\/td>\n",
       "      <td>3.00<\/td>\n",
       "      <td>12.0<\/td>\n",
       "      <td>50.00<\/td>\n",
       "      <td>259.0<\/td>\n",
       "    <\/tr>\n",
       "    <tr>\n",
       "      <th>MntSweetProducts<\/th>\n",
       "      <td>2240.0<\/td>\n",
       "      <td>27.062946<\/td>\n",
       "      <td>41.280498<\/td>\n",
       "      <td>0.0<\/td>\n",
       "      <td>1.00<\/td>\n",
       "      <td>8.0<\/td>\n",
       "      <td>33.00<\/td>\n",
       "      <td>263.0<\/td>\n",
       "    <\/tr>\n",
       "    <tr>\n",
       "      <th>MntGoldProds<\/th>\n",
       "      <td>2240.0<\/td>\n",
       "      <td>44.021875<\/td>\n",
       "      <td>52.167439<\/td>\n",
       "      <td>0.0<\/td>\n",
       "      <td>9.00<\/td>\n",
       "      <td>24.0<\/td>\n",
       "      <td>56.00<\/td>\n",
       "      <td>362.0<\/td>\n",
       "    <\/tr>\n",
       "    <tr>\n",
       "      <th>NumDealsPurchases<\/th>\n",
       "      <td>2240.0<\/td>\n",
       "      <td>2.325000<\/td>\n",
       "      <td>1.932238<\/td>\n",
       "      <td>0.0<\/td>\n",
       "      <td>1.00<\/td>\n",
       "      <td>2.0<\/td>\n",
       "      <td>3.00<\/td>\n",
       "      <td>15.0<\/td>\n",
       "    <\/tr>\n",
       "    <tr>\n",
       "      <th>NumWebPurchases<\/th>\n",
       "      <td>2240.0<\/td>\n",
       "      <td>4.084821<\/td>\n",
       "      <td>2.778714<\/td>\n",
       "      <td>0.0<\/td>\n",
       "      <td>2.00<\/td>\n",
       "      <td>4.0<\/td>\n",
       "      <td>6.00<\/td>\n",
       "      <td>27.0<\/td>\n",
       "    <\/tr>\n",
       "    <tr>\n",
       "      <th>NumCatalogPurchases<\/th>\n",
       "      <td>2240.0<\/td>\n",
       "      <td>2.662054<\/td>\n",
       "      <td>2.923101<\/td>\n",
       "      <td>0.0<\/td>\n",
       "      <td>0.00<\/td>\n",
       "      <td>2.0<\/td>\n",
       "      <td>4.00<\/td>\n",
       "      <td>28.0<\/td>\n",
       "    <\/tr>\n",
       "    <tr>\n",
       "      <th>NumStorePurchases<\/th>\n",
       "      <td>2240.0<\/td>\n",
       "      <td>5.790179<\/td>\n",
       "      <td>3.250958<\/td>\n",
       "      <td>0.0<\/td>\n",
       "      <td>3.00<\/td>\n",
       "      <td>5.0<\/td>\n",
       "      <td>8.00<\/td>\n",
       "      <td>13.0<\/td>\n",
       "    <\/tr>\n",
       "    <tr>\n",
       "      <th>NumWebVisitsMonth<\/th>\n",
       "      <td>2240.0<\/td>\n",
       "      <td>5.316518<\/td>\n",
       "      <td>2.426645<\/td>\n",
       "      <td>0.0<\/td>\n",
       "      <td>3.00<\/td>\n",
       "      <td>6.0<\/td>\n",
       "      <td>7.00<\/td>\n",
       "      <td>20.0<\/td>\n",
       "    <\/tr>\n",
       "    <tr>\n",
       "      <th>AcceptedCmp3<\/th>\n",
       "      <td>2240.0<\/td>\n",
       "      <td>0.072768<\/td>\n",
       "      <td>0.259813<\/td>\n",
       "      <td>0.0<\/td>\n",
       "      <td>0.00<\/td>\n",
       "      <td>0.0<\/td>\n",
       "      <td>0.00<\/td>\n",
       "      <td>1.0<\/td>\n",
       "    <\/tr>\n",
       "    <tr>\n",
       "      <th>AcceptedCmp4<\/th>\n",
       "      <td>2240.0<\/td>\n",
       "      <td>0.074554<\/td>\n",
       "      <td>0.262728<\/td>\n",
       "      <td>0.0<\/td>\n",
       "      <td>0.00<\/td>\n",
       "      <td>0.0<\/td>\n",
       "      <td>0.00<\/td>\n",
       "      <td>1.0<\/td>\n",
       "    <\/tr>\n",
       "    <tr>\n",
       "      <th>AcceptedCmp5<\/th>\n",
       "      <td>2240.0<\/td>\n",
       "      <td>0.072768<\/td>\n",
       "      <td>0.259813<\/td>\n",
       "      <td>0.0<\/td>\n",
       "      <td>0.00<\/td>\n",
       "      <td>0.0<\/td>\n",
       "      <td>0.00<\/td>\n",
       "      <td>1.0<\/td>\n",
       "    <\/tr>\n",
       "    <tr>\n",
       "      <th>AcceptedCmp1<\/th>\n",
       "      <td>2240.0<\/td>\n",
       "      <td>0.064286<\/td>\n",
       "      <td>0.245316<\/td>\n",
       "      <td>0.0<\/td>\n",
       "      <td>0.00<\/td>\n",
       "      <td>0.0<\/td>\n",
       "      <td>0.00<\/td>\n",
       "      <td>1.0<\/td>\n",
       "    <\/tr>\n",
       "    <tr>\n",
       "      <th>AcceptedCmp2<\/th>\n",
       "      <td>2240.0<\/td>\n",
       "      <td>0.013393<\/td>\n",
       "      <td>0.114976<\/td>\n",
       "      <td>0.0<\/td>\n",
       "      <td>0.00<\/td>\n",
       "      <td>0.0<\/td>\n",
       "      <td>0.00<\/td>\n",
       "      <td>1.0<\/td>\n",
       "    <\/tr>\n",
       "    <tr>\n",
       "      <th>Complain<\/th>\n",
       "      <td>2240.0<\/td>\n",
       "      <td>0.009375<\/td>\n",
       "      <td>0.096391<\/td>\n",
       "      <td>0.0<\/td>\n",
       "      <td>0.00<\/td>\n",
       "      <td>0.0<\/td>\n",
       "      <td>0.00<\/td>\n",
       "      <td>1.0<\/td>\n",
       "    <\/tr>\n",
       "    <tr>\n",
       "      <th>Z_CostContact<\/th>\n",
       "      <td>2240.0<\/td>\n",
       "      <td>3.000000<\/td>\n",
       "      <td>0.000000<\/td>\n",
       "      <td>3.0<\/td>\n",
       "      <td>3.00<\/td>\n",
       "      <td>3.0<\/td>\n",
       "      <td>3.00<\/td>\n",
       "      <td>3.0<\/td>\n",
       "    <\/tr>\n",
       "    <tr>\n",
       "      <th>Z_Revenue<\/th>\n",
       "      <td>2240.0<\/td>\n",
       "      <td>11.000000<\/td>\n",
       "      <td>0.000000<\/td>\n",
       "      <td>11.0<\/td>\n",
       "      <td>11.00<\/td>\n",
       "      <td>11.0<\/td>\n",
       "      <td>11.00<\/td>\n",
       "      <td>11.0<\/td>\n",
       "    <\/tr>\n",
       "    <tr>\n",
       "      <th>Response<\/th>\n",
       "      <td>2240.0<\/td>\n",
       "      <td>0.149107<\/td>\n",
       "      <td>0.356274<\/td>\n",
       "      <td>0.0<\/td>\n",
       "      <td>0.00<\/td>\n",
       "      <td>0.0<\/td>\n",
       "      <td>0.00<\/td>\n",
       "      <td>1.0<\/td>\n",
       "    <\/tr>\n",
       "  <\/tbody>\n",
       "<\/table>\n",
       "<\/div>"
      ]
     },
     "metadata":{
      
     },
     "output_type":"display_data"
    }
   ],
   "metadata":{
    "datalore":{
     "node_id":"xeAKtZ2S1KeBaekwTvkaz3",
     "type":"CODE",
     "hide_input_from_viewers":false,
     "hide_output_from_viewers":false
    }
   }
  },
  {
   "cell_type":"code",
   "source":[
    "df[categorical_features].describe(include=object).T"
   ],
   "execution_count":101,
   "outputs":[
    {
     "data":{
      "text\/html":[
       "<div>\n",
       "<style scoped>\n",
       "    .dataframe tbody tr th:only-of-type {\n",
       "        vertical-align: middle;\n",
       "    }\n",
       "\n",
       "    .dataframe tbody tr th {\n",
       "        vertical-align: top;\n",
       "    }\n",
       "\n",
       "    .dataframe thead th {\n",
       "        text-align: right;\n",
       "    }\n",
       "<\/style>\n",
       "<table border=\"1\" class=\"dataframe\">\n",
       "  <thead>\n",
       "    <tr style=\"text-align: right;\">\n",
       "      <th><\/th>\n",
       "      <th>count<\/th>\n",
       "      <th>unique<\/th>\n",
       "      <th>top<\/th>\n",
       "      <th>freq<\/th>\n",
       "    <\/tr>\n",
       "  <\/thead>\n",
       "  <tbody>\n",
       "    <tr>\n",
       "      <th>Education<\/th>\n",
       "      <td>2240<\/td>\n",
       "      <td>5<\/td>\n",
       "      <td>Graduation<\/td>\n",
       "      <td>1127<\/td>\n",
       "    <\/tr>\n",
       "    <tr>\n",
       "      <th>Marital_Status<\/th>\n",
       "      <td>2240<\/td>\n",
       "      <td>8<\/td>\n",
       "      <td>Married<\/td>\n",
       "      <td>864<\/td>\n",
       "    <\/tr>\n",
       "    <tr>\n",
       "      <th>Dt_Customer<\/th>\n",
       "      <td>2240<\/td>\n",
       "      <td>663<\/td>\n",
       "      <td>31-08-2012<\/td>\n",
       "      <td>12<\/td>\n",
       "    <\/tr>\n",
       "  <\/tbody>\n",
       "<\/table>\n",
       "<\/div>"
      ]
     },
     "metadata":{
      
     },
     "output_type":"display_data"
    }
   ],
   "metadata":{
    "datalore":{
     "node_id":"PP5XMzM5hPdf3IAofk0Yvq",
     "type":"CODE",
     "hide_input_from_viewers":false,
     "hide_output_from_viewers":false
    }
   }
  },
  {
   "cell_type":"code",
   "source":[
    "above_0_missing = df.isnull().sum() > 0\n",
    "percentage = df.isnull().sum()\/df.isnull().count() \n",
    "pd.concat([df.isnull().sum()[above_0_missing], percentage[above_0_missing]], axis=1, keys=['Total', 'Percentage'])"
   ],
   "execution_count":114,
   "outputs":[
    {
     "data":{
      "text\/html":[
       "<div>\n",
       "<style scoped>\n",
       "    .dataframe tbody tr th:only-of-type {\n",
       "        vertical-align: middle;\n",
       "    }\n",
       "\n",
       "    .dataframe tbody tr th {\n",
       "        vertical-align: top;\n",
       "    }\n",
       "\n",
       "    .dataframe thead th {\n",
       "        text-align: right;\n",
       "    }\n",
       "<\/style>\n",
       "<table border=\"1\" class=\"dataframe\">\n",
       "  <thead>\n",
       "    <tr style=\"text-align: right;\">\n",
       "      <th><\/th>\n",
       "      <th>Total<\/th>\n",
       "      <th>Percentage<\/th>\n",
       "    <\/tr>\n",
       "  <\/thead>\n",
       "  <tbody>\n",
       "    <tr>\n",
       "      <th>Income<\/th>\n",
       "      <td>24<\/td>\n",
       "      <td>0.010714<\/td>\n",
       "    <\/tr>\n",
       "  <\/tbody>\n",
       "<\/table>\n",
       "<\/div>"
      ]
     },
     "metadata":{
      
     },
     "output_type":"display_data"
    }
   ],
   "metadata":{
    "datalore":{
     "node_id":"JlsGRZq78FBm6XeuALpFgM",
     "type":"CODE",
     "hide_input_from_viewers":false,
     "hide_output_from_viewers":false
    }
   }
  },
  {
   "cell_type":"markdown",
   "source":[
    "24 missing income values"
   ],
   "attachments":{
    
   },
   "metadata":{
    "datalore":{
     "node_id":"YAxfe4iwrua3IrFpXOQoBH",
     "type":"MD",
     "hide_input_from_viewers":false,
     "hide_output_from_viewers":false
    }
   }
  },
  {
   "cell_type":"code",
   "source":[
    "corr = df_num.corr()\n",
    "corr.style.background_gradient(cmap='coolwarm')"
   ],
   "execution_count":103,
   "outputs":[
    {
     "name":"stderr",
     "text":[
      "\/opt\/python\/envs\/default\/lib\/python3.8\/site-packages\/pandas\/io\/formats\/style.py:2813: RuntimeWarning:\n",
      "\n",
      "All-NaN slice encountered\n",
      "\n",
      "\/opt\/python\/envs\/default\/lib\/python3.8\/site-packages\/pandas\/io\/formats\/style.py:2814: RuntimeWarning:\n",
      "\n",
      "All-NaN slice encountered\n",
      "\n"
     ],
     "output_type":"stream"
    },
    {
     "data":{
      "text\/html":[
       "<style type=\"text\/css\">\n",
       "#T_5f4d8_row0_col0, #T_5f4d8_row1_col1, #T_5f4d8_row2_col2, #T_5f4d8_row3_col3, #T_5f4d8_row4_col4, #T_5f4d8_row5_col5, #T_5f4d8_row6_col6, #T_5f4d8_row7_col7, #T_5f4d8_row8_col8, #T_5f4d8_row9_col9, #T_5f4d8_row10_col10, #T_5f4d8_row11_col11, #T_5f4d8_row12_col12, #T_5f4d8_row13_col13, #T_5f4d8_row14_col14, #T_5f4d8_row15_col15, #T_5f4d8_row16_col16, #T_5f4d8_row17_col17, #T_5f4d8_row18_col18, #T_5f4d8_row19_col19, #T_5f4d8_row20_col20, #T_5f4d8_row21_col21, #T_5f4d8_row22_col22, #T_5f4d8_row25_col25 {\n",
       "  background-color: #b40426;\n",
       "  color: #f1f1f1;\n",
       "}\n",
       "#T_5f4d8_row0_col1, #T_5f4d8_row0_col4, #T_5f4d8_row9_col25, #T_5f4d8_row14_col18 {\n",
       "  background-color: #90b2fe;\n",
       "  color: #000000;\n",
       "}\n",
       "#T_5f4d8_row0_col2, #T_5f4d8_row4_col15, #T_5f4d8_row5_col8, #T_5f4d8_row10_col20 {\n",
       "  background-color: #b5cdfa;\n",
       "  color: #000000;\n",
       "}\n",
       "#T_5f4d8_row0_col3, #T_5f4d8_row4_col6, #T_5f4d8_row5_col15, #T_5f4d8_row18_col16, #T_5f4d8_row22_col8 {\n",
       "  background-color: #aac7fd;\n",
       "  color: #000000;\n",
       "}\n",
       "#T_5f4d8_row0_col5 {\n",
       "  background-color: #6282ea;\n",
       "  color: #f1f1f1;\n",
       "}\n",
       "#T_5f4d8_row0_col6, #T_5f4d8_row5_col10, #T_5f4d8_row15_col20, #T_5f4d8_row18_col25 {\n",
       "  background-color: #a3c2fe;\n",
       "  color: #000000;\n",
       "}\n",
       "#T_5f4d8_row0_col7, #T_5f4d8_row2_col18, #T_5f4d8_row15_col4, #T_5f4d8_row17_col10 {\n",
       "  background-color: #9ebeff;\n",
       "  color: #000000;\n",
       "}\n",
       "#T_5f4d8_row0_col8, #T_5f4d8_row17_col2, #T_5f4d8_row17_col3, #T_5f4d8_row18_col21 {\n",
       "  background-color: #aec9fc;\n",
       "  color: #000000;\n",
       "}\n",
       "#T_5f4d8_row0_col9, #T_5f4d8_row0_col10, #T_5f4d8_row5_col7, #T_5f4d8_row13_col20, #T_5f4d8_row13_col25, #T_5f4d8_row18_col4, #T_5f4d8_row21_col13, #T_5f4d8_row22_col7, #T_5f4d8_row25_col18 {\n",
       "  background-color: #9bbcff;\n",
       "  color: #000000;\n",
       "}\n",
       "#T_5f4d8_row0_col11, #T_5f4d8_row1_col15, #T_5f4d8_row7_col1, #T_5f4d8_row10_col1, #T_5f4d8_row21_col4 {\n",
       "  background-color: #8caffe;\n",
       "  color: #000000;\n",
       "}\n",
       "#T_5f4d8_row0_col12, #T_5f4d8_row11_col21, #T_5f4d8_row21_col12 {\n",
       "  background-color: #6180e9;\n",
       "  color: #f1f1f1;\n",
       "}\n",
       "#T_5f4d8_row0_col13, #T_5f4d8_row1_col2, #T_5f4d8_row22_col13 {\n",
       "  background-color: #8db0fe;\n",
       "  color: #000000;\n",
       "}\n",
       "#T_5f4d8_row0_col14, #T_5f4d8_row3_col12, #T_5f4d8_row5_col3, #T_5f4d8_row5_col6, #T_5f4d8_row5_col16 {\n",
       "  background-color: #adc9fd;\n",
       "  color: #000000;\n",
       "}\n",
       "#T_5f4d8_row0_col15, #T_5f4d8_row22_col15 {\n",
       "  background-color: #a6c4fe;\n",
       "  color: #000000;\n",
       "}\n",
       "#T_5f4d8_row0_col16, #T_5f4d8_row14_col25, #T_5f4d8_row16_col1, #T_5f4d8_row17_col11, #T_5f4d8_row21_col16 {\n",
       "  background-color: #afcafc;\n",
       "  color: #000000;\n",
       "}\n",
       "#T_5f4d8_row0_col17, #T_5f4d8_row3_col9, #T_5f4d8_row4_col0, #T_5f4d8_row4_col22, #T_5f4d8_row8_col0, #T_5f4d8_row12_col21, #T_5f4d8_row14_col0 {\n",
       "  background-color: #465ecf;\n",
       "  color: #f1f1f1;\n",
       "}\n",
       "#T_5f4d8_row0_col18, #T_5f4d8_row16_col6, #T_5f4d8_row19_col4 {\n",
       "  background-color: #5f7fe8;\n",
       "  color: #f1f1f1;\n",
       "}\n",
       "#T_5f4d8_row0_col19, #T_5f4d8_row1_col11, #T_5f4d8_row11_col1, #T_5f4d8_row12_col9, #T_5f4d8_row12_col10, #T_5f4d8_row15_col12 {\n",
       "  background-color: #80a3fa;\n",
       "  color: #f1f1f1;\n",
       "}\n",
       "#T_5f4d8_row0_col20, #T_5f4d8_row2_col1, #T_5f4d8_row6_col1, #T_5f4d8_row17_col21 {\n",
       "  background-color: #6788ee;\n",
       "  color: #f1f1f1;\n",
       "}\n",
       "#T_5f4d8_row0_col21, #T_5f4d8_row2_col17, #T_5f4d8_row4_col21 {\n",
       "  background-color: #4c66d6;\n",
       "  color: #f1f1f1;\n",
       "}\n",
       "#T_5f4d8_row0_col22, #T_5f4d8_row1_col21, #T_5f4d8_row3_col8, #T_5f4d8_row4_col19, #T_5f4d8_row7_col21, #T_5f4d8_row8_col4, #T_5f4d8_row9_col16, #T_5f4d8_row16_col21 {\n",
       "  background-color: #4f69d9;\n",
       "  color: #f1f1f1;\n",
       "}\n",
       "#T_5f4d8_row0_col23, #T_5f4d8_row0_col24, #T_5f4d8_row1_col23, #T_5f4d8_row1_col24, #T_5f4d8_row2_col23, #T_5f4d8_row2_col24, #T_5f4d8_row3_col23, #T_5f4d8_row3_col24, #T_5f4d8_row4_col23, #T_5f4d8_row4_col24, #T_5f4d8_row5_col23, #T_5f4d8_row5_col24, #T_5f4d8_row6_col23, #T_5f4d8_row6_col24, #T_5f4d8_row7_col23, #T_5f4d8_row7_col24, #T_5f4d8_row8_col23, #T_5f4d8_row8_col24, #T_5f4d8_row9_col23, #T_5f4d8_row9_col24, #T_5f4d8_row10_col23, #T_5f4d8_row10_col24, #T_5f4d8_row11_col23, #T_5f4d8_row11_col24, #T_5f4d8_row12_col23, #T_5f4d8_row12_col24, #T_5f4d8_row13_col23, #T_5f4d8_row13_col24, #T_5f4d8_row14_col23, #T_5f4d8_row14_col24, #T_5f4d8_row15_col23, #T_5f4d8_row15_col24, #T_5f4d8_row16_col23, #T_5f4d8_row16_col24, #T_5f4d8_row17_col23, #T_5f4d8_row17_col24, #T_5f4d8_row18_col23, #T_5f4d8_row18_col24, #T_5f4d8_row19_col23, #T_5f4d8_row19_col24, #T_5f4d8_row20_col23, #T_5f4d8_row20_col24, #T_5f4d8_row21_col23, #T_5f4d8_row21_col24, #T_5f4d8_row22_col23, #T_5f4d8_row22_col24, #T_5f4d8_row23_col0, #T_5f4d8_row23_col1, #T_5f4d8_row23_col2, #T_5f4d8_row23_col3, #T_5f4d8_row23_col4, #T_5f4d8_row23_col5, #T_5f4d8_row23_col6, #T_5f4d8_row23_col7, #T_5f4d8_row23_col8, #T_5f4d8_row23_col9, #T_5f4d8_row23_col10, #T_5f4d8_row23_col11, #T_5f4d8_row23_col12, #T_5f4d8_row23_col13, #T_5f4d8_row23_col14, #T_5f4d8_row23_col15, #T_5f4d8_row23_col16, #T_5f4d8_row23_col17, #T_5f4d8_row23_col18, #T_5f4d8_row23_col19, #T_5f4d8_row23_col20, #T_5f4d8_row23_col21, #T_5f4d8_row23_col22, #T_5f4d8_row23_col23, #T_5f4d8_row23_col24, #T_5f4d8_row23_col25, #T_5f4d8_row24_col0, #T_5f4d8_row24_col1, #T_5f4d8_row24_col2, #T_5f4d8_row24_col3, #T_5f4d8_row24_col4, #T_5f4d8_row24_col5, #T_5f4d8_row24_col6, #T_5f4d8_row24_col7, #T_5f4d8_row24_col8, #T_5f4d8_row24_col9, #T_5f4d8_row24_col10, #T_5f4d8_row24_col11, #T_5f4d8_row24_col12, #T_5f4d8_row24_col13, #T_5f4d8_row24_col14, #T_5f4d8_row24_col15, #T_5f4d8_row24_col16, #T_5f4d8_row24_col17, #T_5f4d8_row24_col18, #T_5f4d8_row24_col19, #T_5f4d8_row24_col20, #T_5f4d8_row24_col21, #T_5f4d8_row24_col22, #T_5f4d8_row24_col23, #T_5f4d8_row24_col24, #T_5f4d8_row24_col25, #T_5f4d8_row25_col23, #T_5f4d8_row25_col24 {\n",
       "  background-color: #000000;\n",
       "  color: #f1f1f1;\n",
       "}\n",
       "#T_5f4d8_row0_col25, #T_5f4d8_row5_col20, #T_5f4d8_row7_col18, #T_5f4d8_row14_col12, #T_5f4d8_row16_col5, #T_5f4d8_row19_col17, #T_5f4d8_row25_col4 {\n",
       "  background-color: #688aef;\n",
       "  color: #f1f1f1;\n",
       "}\n",
       "#T_5f4d8_row1_col0, #T_5f4d8_row3_col0, #T_5f4d8_row4_col20, #T_5f4d8_row5_col17, #T_5f4d8_row7_col12, #T_5f4d8_row8_col3, #T_5f4d8_row17_col22 {\n",
       "  background-color: #485fd1;\n",
       "  color: #f1f1f1;\n",
       "}\n",
       "#T_5f4d8_row1_col3, #T_5f4d8_row25_col14 {\n",
       "  background-color: #d9dce1;\n",
       "  color: #000000;\n",
       "}\n",
       "#T_5f4d8_row1_col4, #T_5f4d8_row2_col16, #T_5f4d8_row3_col6, #T_5f4d8_row3_col11, #T_5f4d8_row3_col13, #T_5f4d8_row3_col15, #T_5f4d8_row3_col18, #T_5f4d8_row3_col21, #T_5f4d8_row4_col1, #T_5f4d8_row5_col0, #T_5f4d8_row5_col25, #T_5f4d8_row6_col22, #T_5f4d8_row14_col3, #T_5f4d8_row15_col3, #T_5f4d8_row16_col2, #T_5f4d8_row16_col7, #T_5f4d8_row16_col8, #T_5f4d8_row16_col9, #T_5f4d8_row16_col10, #T_5f4d8_row16_col14, #T_5f4d8_row16_col19, #T_5f4d8_row16_col20, #T_5f4d8_row18_col17, #T_5f4d8_row19_col12, #T_5f4d8_row25_col5 {\n",
       "  background-color: #3b4cc0;\n",
       "  color: #f1f1f1;\n",
       "}\n",
       "#T_5f4d8_row1_col5, #T_5f4d8_row6_col16, #T_5f4d8_row20_col5 {\n",
       "  background-color: #6a8bef;\n",
       "  color: #f1f1f1;\n",
       "}\n",
       "#T_5f4d8_row1_col6, #T_5f4d8_row1_col19, #T_5f4d8_row16_col13 {\n",
       "  background-color: #84a7fc;\n",
       "  color: #f1f1f1;\n",
       "}\n",
       "#T_5f4d8_row1_col7, #T_5f4d8_row1_col10, #T_5f4d8_row11_col25, #T_5f4d8_row22_col10 {\n",
       "  background-color: #98b9ff;\n",
       "  color: #000000;\n",
       "}\n",
       "#T_5f4d8_row1_col8, #T_5f4d8_row22_col14 {\n",
       "  background-color: #a9c6fd;\n",
       "  color: #000000;\n",
       "}\n",
       "#T_5f4d8_row1_col9, #T_5f4d8_row17_col19, #T_5f4d8_row19_col21, #T_5f4d8_row21_col3, #T_5f4d8_row25_col3 {\n",
       "  background-color: #97b8ff;\n",
       "  color: #000000;\n",
       "}\n",
       "#T_5f4d8_row1_col12, #T_5f4d8_row11_col3 {\n",
       "  background-color: #5a78e4;\n",
       "  color: #f1f1f1;\n",
       "}\n",
       "#T_5f4d8_row1_col13, #T_5f4d8_row1_col20, #T_5f4d8_row2_col21, #T_5f4d8_row11_col18, #T_5f4d8_row13_col5, #T_5f4d8_row20_col4, #T_5f4d8_row25_col12 {\n",
       "  background-color: #6c8ff1;\n",
       "  color: #f1f1f1;\n",
       "}\n",
       "#T_5f4d8_row1_col14, #T_5f4d8_row6_col4, #T_5f4d8_row10_col25, #T_5f4d8_row22_col4 {\n",
       "  background-color: #92b4fe;\n",
       "  color: #000000;\n",
       "}\n",
       "#T_5f4d8_row1_col16, #T_5f4d8_row18_col14 {\n",
       "  background-color: #cbd8ee;\n",
       "  color: #000000;\n",
       "}\n",
       "#T_5f4d8_row1_col17, #T_5f4d8_row6_col17, #T_5f4d8_row7_col4, #T_5f4d8_row16_col17 {\n",
       "  background-color: #6384eb;\n",
       "  color: #f1f1f1;\n",
       "}\n",
       "#T_5f4d8_row1_col18, #T_5f4d8_row3_col17, #T_5f4d8_row7_col3, #T_5f4d8_row7_col16, #T_5f4d8_row7_col17, #T_5f4d8_row10_col3 {\n",
       "  background-color: #5572df;\n",
       "  color: #f1f1f1;\n",
       "}\n",
       "#T_5f4d8_row1_col22, #T_5f4d8_row2_col22, #T_5f4d8_row8_col16, #T_5f4d8_row11_col22, #T_5f4d8_row12_col0, #T_5f4d8_row15_col17, #T_5f4d8_row17_col0, #T_5f4d8_row18_col22 {\n",
       "  background-color: #3d50c3;\n",
       "  color: #f1f1f1;\n",
       "}\n",
       "#T_5f4d8_row1_col25, #T_5f4d8_row4_col8, #T_5f4d8_row4_col10, #T_5f4d8_row18_col5 {\n",
       "  background-color: #7597f6;\n",
       "  color: #f1f1f1;\n",
       "}\n",
       "#T_5f4d8_row2_col0, #T_5f4d8_row3_col19, #T_5f4d8_row12_col20, #T_5f4d8_row16_col22 {\n",
       "  background-color: #4b64d5;\n",
       "  color: #f1f1f1;\n",
       "}\n",
       "#T_5f4d8_row2_col3, #T_5f4d8_row5_col22, #T_5f4d8_row7_col0, #T_5f4d8_row16_col15, #T_5f4d8_row20_col12 {\n",
       "  background-color: #4961d2;\n",
       "  color: #f1f1f1;\n",
       "}\n",
       "#T_5f4d8_row2_col4, #T_5f4d8_row2_col25, #T_5f4d8_row18_col11, #T_5f4d8_row25_col1 {\n",
       "  background-color: #96b7ff;\n",
       "  color: #000000;\n",
       "}\n",
       "#T_5f4d8_row2_col5, #T_5f4d8_row7_col5, #T_5f4d8_row10_col18, #T_5f4d8_row16_col25, #T_5f4d8_row20_col17 {\n",
       "  background-color: #6e90f2;\n",
       "  color: #f1f1f1;\n",
       "}\n",
       "#T_5f4d8_row2_col6, #T_5f4d8_row6_col8 {\n",
       "  background-color: #f7a688;\n",
       "  color: #000000;\n",
       "}\n",
       "#T_5f4d8_row2_col7, #T_5f4d8_row9_col6, #T_5f4d8_row11_col9 {\n",
       "  background-color: #f2cbb7;\n",
       "  color: #000000;\n",
       "}\n",
       "#T_5f4d8_row2_col8, #T_5f4d8_row2_col14, #T_5f4d8_row6_col2 {\n",
       "  background-color: #f6a283;\n",
       "  color: #000000;\n",
       "}\n",
       "#T_5f4d8_row2_col9, #T_5f4d8_row15_col10 {\n",
       "  background-color: #f3c8b2;\n",
       "  color: #000000;\n",
       "}\n",
       "#T_5f4d8_row2_col10, #T_5f4d8_row13_col2 {\n",
       "  background-color: #f2c9b4;\n",
       "  color: #000000;\n",
       "}\n",
       "#T_5f4d8_row2_col11 {\n",
       "  background-color: #dddcdc;\n",
       "  color: #000000;\n",
       "}\n",
       "#T_5f4d8_row2_col12, #T_5f4d8_row10_col16, #T_5f4d8_row10_col21 {\n",
       "  background-color: #5470de;\n",
       "  color: #f1f1f1;\n",
       "}\n",
       "#T_5f4d8_row2_col13, #T_5f4d8_row7_col11, #T_5f4d8_row12_col4 {\n",
       "  background-color: #e9d5cb;\n",
       "  color: #000000;\n",
       "}\n",
       "#T_5f4d8_row2_col15 {\n",
       "  background-color: #f7b194;\n",
       "  color: #000000;\n",
       "}\n",
       "#T_5f4d8_row2_col19, #T_5f4d8_row19_col10 {\n",
       "  background-color: #d7dce3;\n",
       "  color: #000000;\n",
       "}\n",
       "#T_5f4d8_row2_col20, #T_5f4d8_row19_col11, #T_5f4d8_row21_col18, #T_5f4d8_row21_col19 {\n",
       "  background-color: #bed2f6;\n",
       "  color: #000000;\n",
       "}\n",
       "#T_5f4d8_row3_col1, #T_5f4d8_row20_col7 {\n",
       "  background-color: #cad8ef;\n",
       "  color: #000000;\n",
       "}\n",
       "#T_5f4d8_row3_col2, #T_5f4d8_row15_col16, #T_5f4d8_row22_col17 {\n",
       "  background-color: #536edd;\n",
       "  color: #f1f1f1;\n",
       "}\n",
       "#T_5f4d8_row3_col4, #T_5f4d8_row20_col16, #T_5f4d8_row25_col21 {\n",
       "  background-color: #86a9fc;\n",
       "  color: #f1f1f1;\n",
       "}\n",
       "#T_5f4d8_row3_col5, #T_5f4d8_row4_col18 {\n",
       "  background-color: #7295f4;\n",
       "  color: #f1f1f1;\n",
       "}\n",
       "#T_5f4d8_row3_col7, #T_5f4d8_row4_col17, #T_5f4d8_row7_col22, #T_5f4d8_row11_col0 {\n",
       "  background-color: #445acc;\n",
       "  color: #f1f1f1;\n",
       "}\n",
       "#T_5f4d8_row3_col10, #T_5f4d8_row4_col25, #T_5f4d8_row9_col12, #T_5f4d8_row10_col0, #T_5f4d8_row12_col22, #T_5f4d8_row16_col0, #T_5f4d8_row19_col0, #T_5f4d8_row25_col22 {\n",
       "  background-color: #455cce;\n",
       "  color: #f1f1f1;\n",
       "}\n",
       "#T_5f4d8_row3_col14, #T_5f4d8_row8_col22, #T_5f4d8_row20_col22 {\n",
       "  background-color: #3e51c5;\n",
       "  color: #f1f1f1;\n",
       "}\n",
       "#T_5f4d8_row3_col16, #T_5f4d8_row7_col15, #T_5f4d8_row14_col10 {\n",
       "  background-color: #f6bfa6;\n",
       "  color: #000000;\n",
       "}\n",
       "#T_5f4d8_row3_col20, #T_5f4d8_row9_col22, #T_5f4d8_row10_col22, #T_5f4d8_row14_col22 {\n",
       "  background-color: #3f53c6;\n",
       "  color: #f1f1f1;\n",
       "}\n",
       "#T_5f4d8_row3_col22, #T_5f4d8_row9_col3, #T_5f4d8_row9_col21, #T_5f4d8_row10_col17, #T_5f4d8_row12_col19, #T_5f4d8_row22_col0 {\n",
       "  background-color: #516ddb;\n",
       "  color: #f1f1f1;\n",
       "}\n",
       "#T_5f4d8_row3_col25 {\n",
       "  background-color: #5977e3;\n",
       "  color: #f1f1f1;\n",
       "}\n",
       "#T_5f4d8_row4_col2, #T_5f4d8_row19_col13, #T_5f4d8_row22_col16 {\n",
       "  background-color: #b6cefa;\n",
       "  color: #000000;\n",
       "}\n",
       "#T_5f4d8_row4_col3, #T_5f4d8_row5_col9, #T_5f4d8_row17_col9, #T_5f4d8_row21_col9, #T_5f4d8_row25_col17 {\n",
       "  background-color: #a2c1ff;\n",
       "  color: #000000;\n",
       "}\n",
       "#T_5f4d8_row4_col5, #T_5f4d8_row6_col5, #T_5f4d8_row11_col5, #T_5f4d8_row14_col4, #T_5f4d8_row19_col16, #T_5f4d8_row22_col5 {\n",
       "  background-color: #7396f5;\n",
       "  color: #f1f1f1;\n",
       "}\n",
       "#T_5f4d8_row4_col7, #T_5f4d8_row14_col1, #T_5f4d8_row14_col17, #T_5f4d8_row18_col12 {\n",
       "  background-color: #7093f3;\n",
       "  color: #f1f1f1;\n",
       "}\n",
       "#T_5f4d8_row4_col9, #T_5f4d8_row6_col12, #T_5f4d8_row9_col5, #T_5f4d8_row12_col5, #T_5f4d8_row12_col25, #T_5f4d8_row14_col21, #T_5f4d8_row15_col1, #T_5f4d8_row15_col5, #T_5f4d8_row19_col5, #T_5f4d8_row21_col5, #T_5f4d8_row22_col25 {\n",
       "  background-color: #6f92f3;\n",
       "  color: #f1f1f1;\n",
       "}\n",
       "#T_5f4d8_row4_col11, #T_5f4d8_row5_col1, #T_5f4d8_row11_col4 {\n",
       "  background-color: #8badfd;\n",
       "  color: #000000;\n",
       "}\n",
       "#T_5f4d8_row4_col12, #T_5f4d8_row7_col13, #T_5f4d8_row8_col13, #T_5f4d8_row9_col13, #T_5f4d8_row12_col3 {\n",
       "  background-color: #d8dce2;\n",
       "  color: #000000;\n",
       "}\n",
       "#T_5f4d8_row4_col13, #T_5f4d8_row9_col20, #T_5f4d8_row12_col15, #T_5f4d8_row18_col13, #T_5f4d8_row20_col11, #T_5f4d8_row20_col13, #T_5f4d8_row25_col10 {\n",
       "  background-color: #bad0f8;\n",
       "  color: #000000;\n",
       "}\n",
       "#T_5f4d8_row4_col14, #T_5f4d8_row6_col21, #T_5f4d8_row19_col1 {\n",
       "  background-color: #93b5fe;\n",
       "  color: #000000;\n",
       "}\n",
       "#T_5f4d8_row4_col16, #T_5f4d8_row25_col2 {\n",
       "  background-color: #cdd9ec;\n",
       "  color: #000000;\n",
       "}\n",
       "#T_5f4d8_row5_col2, #T_5f4d8_row13_col12, #T_5f4d8_row20_col18, #T_5f4d8_row25_col16 {\n",
       "  background-color: #b1cbfc;\n",
       "  color: #000000;\n",
       "}\n",
       "#T_5f4d8_row5_col4, #T_5f4d8_row5_col11, #T_5f4d8_row7_col25, #T_5f4d8_row12_col8, #T_5f4d8_row13_col18 {\n",
       "  background-color: #94b6ff;\n",
       "  color: #000000;\n",
       "}\n",
       "#T_5f4d8_row5_col12, #T_5f4d8_row5_col18, #T_5f4d8_row9_col18, #T_5f4d8_row12_col18, #T_5f4d8_row13_col1, #T_5f4d8_row15_col21, #T_5f4d8_row22_col12 {\n",
       "  background-color: #6b8df0;\n",
       "  color: #f1f1f1;\n",
       "}\n",
       "#T_5f4d8_row5_col13, #T_5f4d8_row20_col1, #T_5f4d8_row21_col1 {\n",
       "  background-color: #8fb1fe;\n",
       "  color: #000000;\n",
       "}\n",
       "#T_5f4d8_row5_col14, #T_5f4d8_row11_col19 {\n",
       "  background-color: #b2ccfb;\n",
       "  color: #000000;\n",
       "}\n",
       "#T_5f4d8_row5_col19, #T_5f4d8_row12_col1, #T_5f4d8_row18_col1 {\n",
       "  background-color: #81a4fb;\n",
       "  color: #f1f1f1;\n",
       "}\n",
       "#T_5f4d8_row5_col21, #T_5f4d8_row9_col17, #T_5f4d8_row16_col11, #T_5f4d8_row17_col18 {\n",
       "  background-color: #506bda;\n",
       "  color: #f1f1f1;\n",
       "}\n",
       "#T_5f4d8_row6_col0, #T_5f4d8_row9_col0, #T_5f4d8_row13_col22, #T_5f4d8_row14_col16, #T_5f4d8_row15_col22, #T_5f4d8_row18_col0 {\n",
       "  background-color: #4055c8;\n",
       "  color: #f1f1f1;\n",
       "}\n",
       "#T_5f4d8_row6_col3 {\n",
       "  background-color: #3c4ec2;\n",
       "  color: #f1f1f1;\n",
       "}\n",
       "#T_5f4d8_row6_col7, #T_5f4d8_row6_col10, #T_5f4d8_row20_col6 {\n",
       "  background-color: #edd2c3;\n",
       "  color: #000000;\n",
       "}\n",
       "#T_5f4d8_row6_col9, #T_5f4d8_row14_col11 {\n",
       "  background-color: #efcebd;\n",
       "  color: #000000;\n",
       "}\n",
       "#T_5f4d8_row6_col11, #T_5f4d8_row14_col13, #T_5f4d8_row20_col14 {\n",
       "  background-color: #e8d6cc;\n",
       "  color: #000000;\n",
       "}\n",
       "#T_5f4d8_row6_col13, #T_5f4d8_row7_col14, #T_5f4d8_row15_col8 {\n",
       "  background-color: #f7b99e;\n",
       "  color: #000000;\n",
       "}\n",
       "#T_5f4d8_row6_col14, #T_5f4d8_row6_col15, #T_5f4d8_row15_col6 {\n",
       "  background-color: #f39577;\n",
       "  color: #000000;\n",
       "}\n",
       "#T_5f4d8_row6_col18, #T_5f4d8_row6_col20, #T_5f4d8_row18_col19 {\n",
       "  background-color: #d2dbe8;\n",
       "  color: #000000;\n",
       "}\n",
       "#T_5f4d8_row6_col19, #T_5f4d8_row11_col15 {\n",
       "  background-color: #f0cdbb;\n",
       "  color: #000000;\n",
       "}\n",
       "#T_5f4d8_row6_col25, #T_5f4d8_row9_col19, #T_5f4d8_row17_col6, #T_5f4d8_row18_col20, #T_5f4d8_row25_col13 {\n",
       "  background-color: #b7cff9;\n",
       "  color: #000000;\n",
       "}\n",
       "#T_5f4d8_row7_col2, #T_5f4d8_row15_col13 {\n",
       "  background-color: #f5c1a9;\n",
       "  color: #000000;\n",
       "}\n",
       "#T_5f4d8_row7_col6, #T_5f4d8_row10_col6, #T_5f4d8_row11_col6, #T_5f4d8_row13_col14, #T_5f4d8_row19_col8 {\n",
       "  background-color: #f1cdba;\n",
       "  color: #000000;\n",
       "}\n",
       "#T_5f4d8_row7_col8, #T_5f4d8_row9_col10 {\n",
       "  background-color: #f7aa8c;\n",
       "  color: #000000;\n",
       "}\n",
       "#T_5f4d8_row7_col9, #T_5f4d8_row9_col8 {\n",
       "  background-color: #f6a586;\n",
       "  color: #000000;\n",
       "}\n",
       "#T_5f4d8_row7_col10, #T_5f4d8_row15_col2 {\n",
       "  background-color: #f7ad90;\n",
       "  color: #000000;\n",
       "}\n",
       "#T_5f4d8_row7_col19, #T_5f4d8_row15_col19, #T_5f4d8_row25_col7, #T_5f4d8_row25_col9 {\n",
       "  background-color: #bbd1f8;\n",
       "  color: #000000;\n",
       "}\n",
       "#T_5f4d8_row7_col20, #T_5f4d8_row13_col19 {\n",
       "  background-color: #a7c5fe;\n",
       "  color: #000000;\n",
       "}\n",
       "#T_5f4d8_row8_col1, #T_5f4d8_row20_col21, #T_5f4d8_row22_col1, #T_5f4d8_row22_col11 {\n",
       "  background-color: #88abfd;\n",
       "  color: #000000;\n",
       "}\n",
       "#T_5f4d8_row8_col2 {\n",
       "  background-color: #f5a081;\n",
       "  color: #000000;\n",
       "}\n",
       "#T_5f4d8_row8_col5, #T_5f4d8_row10_col5, #T_5f4d8_row14_col5 {\n",
       "  background-color: #7699f6;\n",
       "  color: #f1f1f1;\n",
       "}\n",
       "#T_5f4d8_row8_col6, #T_5f4d8_row10_col9 {\n",
       "  background-color: #f7a98b;\n",
       "  color: #000000;\n",
       "}\n",
       "#T_5f4d8_row8_col7, #T_5f4d8_row14_col9, #T_5f4d8_row14_col15 {\n",
       "  background-color: #f7b497;\n",
       "  color: #000000;\n",
       "}\n",
       "#T_5f4d8_row8_col9 {\n",
       "  background-color: #f7ac8e;\n",
       "  color: #000000;\n",
       "}\n",
       "#T_5f4d8_row8_col10, #T_5f4d8_row10_col14 {\n",
       "  background-color: #f7b89c;\n",
       "  color: #000000;\n",
       "}\n",
       "#T_5f4d8_row8_col11 {\n",
       "  background-color: #e1dad6;\n",
       "  color: #000000;\n",
       "}\n",
       "#T_5f4d8_row8_col12, #T_5f4d8_row10_col12, #T_5f4d8_row12_col17 {\n",
       "  background-color: #4a63d3;\n",
       "  color: #f1f1f1;\n",
       "}\n",
       "#T_5f4d8_row8_col14 {\n",
       "  background-color: #ea7b60;\n",
       "  color: #f1f1f1;\n",
       "}\n",
       "#T_5f4d8_row8_col15 {\n",
       "  background-color: #f7bca1;\n",
       "  color: #000000;\n",
       "}\n",
       "#T_5f4d8_row8_col17, #T_5f4d8_row13_col3 {\n",
       "  background-color: #5673e0;\n",
       "  color: #f1f1f1;\n",
       "}\n",
       "#T_5f4d8_row8_col18, #T_5f4d8_row9_col1, #T_5f4d8_row17_col4, #T_5f4d8_row18_col3 {\n",
       "  background-color: #85a8fc;\n",
       "  color: #f1f1f1;\n",
       "}\n",
       "#T_5f4d8_row8_col19, #T_5f4d8_row13_col9 {\n",
       "  background-color: #dfdbd9;\n",
       "  color: #000000;\n",
       "}\n",
       "#T_5f4d8_row8_col20, #T_5f4d8_row10_col19, #T_5f4d8_row14_col20 {\n",
       "  background-color: #c6d6f1;\n",
       "  color: #000000;\n",
       "}\n",
       "#T_5f4d8_row8_col21, #T_5f4d8_row22_col18 {\n",
       "  background-color: #5e7de7;\n",
       "  color: #f1f1f1;\n",
       "}\n",
       "#T_5f4d8_row8_col25, #T_5f4d8_row16_col4, #T_5f4d8_row17_col8, #T_5f4d8_row22_col3, #T_5f4d8_row25_col11, #T_5f4d8_row25_col15 {\n",
       "  background-color: #b3cdfb;\n",
       "  color: #000000;\n",
       "}\n",
       "#T_5f4d8_row9_col2, #T_5f4d8_row9_col15, #T_5f4d8_row10_col2, #T_5f4d8_row14_col7 {\n",
       "  background-color: #f5c0a7;\n",
       "  color: #000000;\n",
       "}\n",
       "#T_5f4d8_row9_col4, #T_5f4d8_row13_col17, #T_5f4d8_row16_col18 {\n",
       "  background-color: #5d7ce6;\n",
       "  color: #f1f1f1;\n",
       "}\n",
       "#T_5f4d8_row9_col7 {\n",
       "  background-color: #f7a889;\n",
       "  color: #000000;\n",
       "}\n",
       "#T_5f4d8_row9_col11, #T_5f4d8_row11_col7, #T_5f4d8_row13_col11, #T_5f4d8_row19_col2 {\n",
       "  background-color: #edd1c2;\n",
       "  color: #000000;\n",
       "}\n",
       "#T_5f4d8_row9_col14, #T_5f4d8_row10_col7, #T_5f4d8_row13_col6 {\n",
       "  background-color: #f7af91;\n",
       "  color: #000000;\n",
       "}\n",
       "#T_5f4d8_row10_col4, #T_5f4d8_row17_col5, #T_5f4d8_row21_col17, #T_5f4d8_row22_col20 {\n",
       "  background-color: #6687ed;\n",
       "  color: #f1f1f1;\n",
       "}\n",
       "#T_5f4d8_row10_col8 {\n",
       "  background-color: #f7b093;\n",
       "  color: #000000;\n",
       "}\n",
       "#T_5f4d8_row10_col11, #T_5f4d8_row20_col2, #T_5f4d8_row20_col19 {\n",
       "  background-color: #e5d8d1;\n",
       "  color: #000000;\n",
       "}\n",
       "#T_5f4d8_row10_col13 {\n",
       "  background-color: #e2dad5;\n",
       "  color: #000000;\n",
       "}\n",
       "#T_5f4d8_row10_col15, #T_5f4d8_row11_col14, #T_5f4d8_row16_col3 {\n",
       "  background-color: #f5c2aa;\n",
       "  color: #000000;\n",
       "}\n",
       "#T_5f4d8_row11_col2 {\n",
       "  background-color: #ecd3c5;\n",
       "  color: #000000;\n",
       "}\n",
       "#T_5f4d8_row11_col8, #T_5f4d8_row12_col16, #T_5f4d8_row18_col6 {\n",
       "  background-color: #efcfbf;\n",
       "  color: #000000;\n",
       "}\n",
       "#T_5f4d8_row11_col10 {\n",
       "  background-color: #ead4c8;\n",
       "  color: #000000;\n",
       "}\n",
       "#T_5f4d8_row11_col12, #T_5f4d8_row15_col25, #T_5f4d8_row19_col3 {\n",
       "  background-color: #7a9df8;\n",
       "  color: #f1f1f1;\n",
       "}\n",
       "#T_5f4d8_row11_col13 {\n",
       "  background-color: #eed0c0;\n",
       "  color: #000000;\n",
       "}\n",
       "#T_5f4d8_row11_col16 {\n",
       "  background-color: #799cf8;\n",
       "  color: #f1f1f1;\n",
       "}\n",
       "#T_5f4d8_row11_col17 {\n",
       "  background-color: #779af7;\n",
       "  color: #f1f1f1;\n",
       "}\n",
       "#T_5f4d8_row11_col20, #T_5f4d8_row12_col2, #T_5f4d8_row18_col7, #T_5f4d8_row21_col10 {\n",
       "  background-color: #9fbfff;\n",
       "  color: #000000;\n",
       "}\n",
       "#T_5f4d8_row12_col6, #T_5f4d8_row12_col14, #T_5f4d8_row22_col2 {\n",
       "  background-color: #abc8fd;\n",
       "  color: #000000;\n",
       "}\n",
       "#T_5f4d8_row12_col7 {\n",
       "  background-color: #7b9ff9;\n",
       "  color: #f1f1f1;\n",
       "}\n",
       "#T_5f4d8_row12_col11, #T_5f4d8_row15_col18, #T_5f4d8_row17_col13, #T_5f4d8_row21_col11, #T_5f4d8_row22_col9 {\n",
       "  background-color: #9dbdff;\n",
       "  color: #000000;\n",
       "}\n",
       "#T_5f4d8_row12_col13, #T_5f4d8_row19_col25 {\n",
       "  background-color: #ccd9ed;\n",
       "  color: #000000;\n",
       "}\n",
       "#T_5f4d8_row13_col0, #T_5f4d8_row20_col0, #T_5f4d8_row21_col22, #T_5f4d8_row25_col0 {\n",
       "  background-color: #4257c9;\n",
       "  color: #f1f1f1;\n",
       "}\n",
       "#T_5f4d8_row13_col4, #T_5f4d8_row17_col25, #T_5f4d8_row21_col8 {\n",
       "  background-color: #b9d0f9;\n",
       "  color: #000000;\n",
       "}\n",
       "#T_5f4d8_row13_col7, #T_5f4d8_row25_col8 {\n",
       "  background-color: #dedcdb;\n",
       "  color: #000000;\n",
       "}\n",
       "#T_5f4d8_row13_col8, #T_5f4d8_row13_col10, #T_5f4d8_row15_col11 {\n",
       "  background-color: #e7d7ce;\n",
       "  color: #000000;\n",
       "}\n",
       "#T_5f4d8_row13_col15 {\n",
       "  background-color: #f7b79b;\n",
       "  color: #000000;\n",
       "}\n",
       "#T_5f4d8_row13_col16, #T_5f4d8_row18_col9, #T_5f4d8_row18_col10 {\n",
       "  background-color: #a5c3fe;\n",
       "  color: #000000;\n",
       "}\n",
       "#T_5f4d8_row13_col21 {\n",
       "  background-color: #5b7ae5;\n",
       "  color: #f1f1f1;\n",
       "}\n",
       "#T_5f4d8_row14_col2 {\n",
       "  background-color: #f59f80;\n",
       "  color: #000000;\n",
       "}\n",
       "#T_5f4d8_row14_col6 {\n",
       "  background-color: #f39778;\n",
       "  color: #000000;\n",
       "}\n",
       "#T_5f4d8_row14_col8 {\n",
       "  background-color: #e97a5f;\n",
       "  color: #f1f1f1;\n",
       "}\n",
       "#T_5f4d8_row14_col19, #T_5f4d8_row21_col6 {\n",
       "  background-color: #d5dbe5;\n",
       "  color: #000000;\n",
       "}\n",
       "#T_5f4d8_row15_col0, #T_5f4d8_row19_col22, #T_5f4d8_row21_col0 {\n",
       "  background-color: #4358cb;\n",
       "  color: #f1f1f1;\n",
       "}\n",
       "#T_5f4d8_row15_col7 {\n",
       "  background-color: #f4c6af;\n",
       "  color: #000000;\n",
       "}\n",
       "#T_5f4d8_row15_col9 {\n",
       "  background-color: #f5c4ac;\n",
       "  color: #000000;\n",
       "}\n",
       "#T_5f4d8_row15_col14 {\n",
       "  background-color: #f7b396;\n",
       "  color: #000000;\n",
       "}\n",
       "#T_5f4d8_row16_col12, #T_5f4d8_row19_col7, #T_5f4d8_row19_col9 {\n",
       "  background-color: #cedaeb;\n",
       "  color: #000000;\n",
       "}\n",
       "#T_5f4d8_row17_col1, #T_5f4d8_row17_col7, #T_5f4d8_row21_col20, #T_5f4d8_row21_col25, #T_5f4d8_row22_col6 {\n",
       "  background-color: #a1c0ff;\n",
       "  color: #000000;\n",
       "}\n",
       "#T_5f4d8_row17_col12 {\n",
       "  background-color: #6485ec;\n",
       "  color: #f1f1f1;\n",
       "}\n",
       "#T_5f4d8_row17_col14, #T_5f4d8_row20_col25, #T_5f4d8_row21_col2 {\n",
       "  background-color: #c4d5f3;\n",
       "  color: #000000;\n",
       "}\n",
       "#T_5f4d8_row17_col15, #T_5f4d8_row21_col7 {\n",
       "  background-color: #9abbff;\n",
       "  color: #000000;\n",
       "}\n",
       "#T_5f4d8_row17_col16 {\n",
       "  background-color: #bfd3f6;\n",
       "  color: #000000;\n",
       "}\n",
       "#T_5f4d8_row17_col20 {\n",
       "  background-color: #89acfd;\n",
       "  color: #000000;\n",
       "}\n",
       "#T_5f4d8_row18_col2, #T_5f4d8_row19_col15, #T_5f4d8_row25_col19 {\n",
       "  background-color: #d6dce4;\n",
       "  color: #000000;\n",
       "}\n",
       "#T_5f4d8_row18_col8 {\n",
       "  background-color: #c5d6f2;\n",
       "  color: #000000;\n",
       "}\n",
       "#T_5f4d8_row18_col15 {\n",
       "  background-color: #cfdaea;\n",
       "  color: #000000;\n",
       "}\n",
       "#T_5f4d8_row19_col6 {\n",
       "  background-color: #f6bea4;\n",
       "  color: #000000;\n",
       "}\n",
       "#T_5f4d8_row19_col14, #T_5f4d8_row20_col8 {\n",
       "  background-color: #ead5c9;\n",
       "  color: #000000;\n",
       "}\n",
       "#T_5f4d8_row19_col18 {\n",
       "  background-color: #c1d4f4;\n",
       "  color: #000000;\n",
       "}\n",
       "#T_5f4d8_row19_col20, #T_5f4d8_row25_col6 {\n",
       "  background-color: #dcdddd;\n",
       "  color: #000000;\n",
       "}\n",
       "#T_5f4d8_row20_col3 {\n",
       "  background-color: #82a6fb;\n",
       "  color: #f1f1f1;\n",
       "}\n",
       "#T_5f4d8_row20_col9 {\n",
       "  background-color: #dadce0;\n",
       "  color: #000000;\n",
       "}\n",
       "#T_5f4d8_row20_col10 {\n",
       "  background-color: #d4dbe6;\n",
       "  color: #000000;\n",
       "}\n",
       "#T_5f4d8_row20_col15 {\n",
       "  background-color: #d1dae9;\n",
       "  color: #000000;\n",
       "}\n",
       "#T_5f4d8_row21_col14, #T_5f4d8_row25_col20 {\n",
       "  background-color: #c3d5f4;\n",
       "  color: #000000;\n",
       "}\n",
       "#T_5f4d8_row21_col15 {\n",
       "  background-color: #bcd2f7;\n",
       "  color: #000000;\n",
       "}\n",
       "#T_5f4d8_row22_col19 {\n",
       "  background-color: #7ea1fa;\n",
       "  color: #f1f1f1;\n",
       "}\n",
       "#T_5f4d8_row22_col21 {\n",
       "  background-color: #4e68d8;\n",
       "  color: #f1f1f1;\n",
       "}\n",
       "<\/style>\n",
       "<table id=\"T_5f4d8_\">\n",
       "  <thead>\n",
       "    <tr>\n",
       "      <th class=\"blank level0\" >&nbsp;<\/th>\n",
       "      <th class=\"col_heading level0 col0\" >ID<\/th>\n",
       "      <th class=\"col_heading level0 col1\" >Year_Birth<\/th>\n",
       "      <th class=\"col_heading level0 col2\" >Income<\/th>\n",
       "      <th class=\"col_heading level0 col3\" >Kidhome<\/th>\n",
       "      <th class=\"col_heading level0 col4\" >Teenhome<\/th>\n",
       "      <th class=\"col_heading level0 col5\" >Recency<\/th>\n",
       "      <th class=\"col_heading level0 col6\" >MntWines<\/th>\n",
       "      <th class=\"col_heading level0 col7\" >MntFruits<\/th>\n",
       "      <th class=\"col_heading level0 col8\" >MntMeatProducts<\/th>\n",
       "      <th class=\"col_heading level0 col9\" >MntFishProducts<\/th>\n",
       "      <th class=\"col_heading level0 col10\" >MntSweetProducts<\/th>\n",
       "      <th class=\"col_heading level0 col11\" >MntGoldProds<\/th>\n",
       "      <th class=\"col_heading level0 col12\" >NumDealsPurchases<\/th>\n",
       "      <th class=\"col_heading level0 col13\" >NumWebPurchases<\/th>\n",
       "      <th class=\"col_heading level0 col14\" >NumCatalogPurchases<\/th>\n",
       "      <th class=\"col_heading level0 col15\" >NumStorePurchases<\/th>\n",
       "      <th class=\"col_heading level0 col16\" >NumWebVisitsMonth<\/th>\n",
       "      <th class=\"col_heading level0 col17\" >AcceptedCmp3<\/th>\n",
       "      <th class=\"col_heading level0 col18\" >AcceptedCmp4<\/th>\n",
       "      <th class=\"col_heading level0 col19\" >AcceptedCmp5<\/th>\n",
       "      <th class=\"col_heading level0 col20\" >AcceptedCmp1<\/th>\n",
       "      <th class=\"col_heading level0 col21\" >AcceptedCmp2<\/th>\n",
       "      <th class=\"col_heading level0 col22\" >Complain<\/th>\n",
       "      <th class=\"col_heading level0 col23\" >Z_CostContact<\/th>\n",
       "      <th class=\"col_heading level0 col24\" >Z_Revenue<\/th>\n",
       "      <th class=\"col_heading level0 col25\" >Response<\/th>\n",
       "    <\/tr>\n",
       "  <\/thead>\n",
       "  <tbody>\n",
       "    <tr>\n",
       "      <th id=\"T_5f4d8_level0_row0\" class=\"row_heading level0 row0\" >ID<\/th>\n",
       "      <td id=\"T_5f4d8_row0_col0\" class=\"data row0 col0\" >1.000000<\/td>\n",
       "      <td id=\"T_5f4d8_row0_col1\" class=\"data row0 col1\" >0.000028<\/td>\n",
       "      <td id=\"T_5f4d8_row0_col2\" class=\"data row0 col2\" >0.013095<\/td>\n",
       "      <td id=\"T_5f4d8_row0_col3\" class=\"data row0 col3\" >0.002406<\/td>\n",
       "      <td id=\"T_5f4d8_row0_col4\" class=\"data row0 col4\" >-0.002580<\/td>\n",
       "      <td id=\"T_5f4d8_row0_col5\" class=\"data row0 col5\" >-0.046524<\/td>\n",
       "      <td id=\"T_5f4d8_row0_col6\" class=\"data row0 col6\" >-0.022878<\/td>\n",
       "      <td id=\"T_5f4d8_row0_col7\" class=\"data row0 col7\" >0.004600<\/td>\n",
       "      <td id=\"T_5f4d8_row0_col8\" class=\"data row0 col8\" >-0.004437<\/td>\n",
       "      <td id=\"T_5f4d8_row0_col9\" class=\"data row0 col9\" >-0.024475<\/td>\n",
       "      <td id=\"T_5f4d8_row0_col10\" class=\"data row0 col10\" >-0.007642<\/td>\n",
       "      <td id=\"T_5f4d8_row0_col11\" class=\"data row0 col11\" >-0.013438<\/td>\n",
       "      <td id=\"T_5f4d8_row0_col12\" class=\"data row0 col12\" >-0.037166<\/td>\n",
       "      <td id=\"T_5f4d8_row0_col13\" class=\"data row0 col13\" >-0.018924<\/td>\n",
       "      <td id=\"T_5f4d8_row0_col14\" class=\"data row0 col14\" >-0.003440<\/td>\n",
       "      <td id=\"T_5f4d8_row0_col15\" class=\"data row0 col15\" >-0.014927<\/td>\n",
       "      <td id=\"T_5f4d8_row0_col16\" class=\"data row0 col16\" >-0.007446<\/td>\n",
       "      <td id=\"T_5f4d8_row0_col17\" class=\"data row0 col17\" >-0.036040<\/td>\n",
       "      <td id=\"T_5f4d8_row0_col18\" class=\"data row0 col18\" >-0.025387<\/td>\n",
       "      <td id=\"T_5f4d8_row0_col19\" class=\"data row0 col19\" >-0.007517<\/td>\n",
       "      <td id=\"T_5f4d8_row0_col20\" class=\"data row0 col20\" >-0.021614<\/td>\n",
       "      <td id=\"T_5f4d8_row0_col21\" class=\"data row0 col21\" >-0.015061<\/td>\n",
       "      <td id=\"T_5f4d8_row0_col22\" class=\"data row0 col22\" >0.033883<\/td>\n",
       "      <td id=\"T_5f4d8_row0_col23\" class=\"data row0 col23\" >nan<\/td>\n",
       "      <td id=\"T_5f4d8_row0_col24\" class=\"data row0 col24\" >nan<\/td>\n",
       "      <td id=\"T_5f4d8_row0_col25\" class=\"data row0 col25\" >-0.021968<\/td>\n",
       "    <\/tr>\n",
       "    <tr>\n",
       "      <th id=\"T_5f4d8_level0_row1\" class=\"row_heading level0 row1\" >Year_Birth<\/th>\n",
       "      <td id=\"T_5f4d8_row1_col0\" class=\"data row1 col0\" >0.000028<\/td>\n",
       "      <td id=\"T_5f4d8_row1_col1\" class=\"data row1 col1\" >1.000000<\/td>\n",
       "      <td id=\"T_5f4d8_row1_col2\" class=\"data row1 col2\" >-0.161791<\/td>\n",
       "      <td id=\"T_5f4d8_row1_col3\" class=\"data row1 col3\" >0.230176<\/td>\n",
       "      <td id=\"T_5f4d8_row1_col4\" class=\"data row1 col4\" >-0.352111<\/td>\n",
       "      <td id=\"T_5f4d8_row1_col5\" class=\"data row1 col5\" >-0.019871<\/td>\n",
       "      <td id=\"T_5f4d8_row1_col6\" class=\"data row1 col6\" >-0.157773<\/td>\n",
       "      <td id=\"T_5f4d8_row1_col7\" class=\"data row1 col7\" >-0.017917<\/td>\n",
       "      <td id=\"T_5f4d8_row1_col8\" class=\"data row1 col8\" >-0.030872<\/td>\n",
       "      <td id=\"T_5f4d8_row1_col9\" class=\"data row1 col9\" >-0.041625<\/td>\n",
       "      <td id=\"T_5f4d8_row1_col10\" class=\"data row1 col10\" >-0.018133<\/td>\n",
       "      <td id=\"T_5f4d8_row1_col11\" class=\"data row1 col11\" >-0.061818<\/td>\n",
       "      <td id=\"T_5f4d8_row1_col12\" class=\"data row1 col12\" >-0.060846<\/td>\n",
       "      <td id=\"T_5f4d8_row1_col13\" class=\"data row1 col13\" >-0.145040<\/td>\n",
       "      <td id=\"T_5f4d8_row1_col14\" class=\"data row1 col14\" >-0.121275<\/td>\n",
       "      <td id=\"T_5f4d8_row1_col15\" class=\"data row1 col15\" >-0.128272<\/td>\n",
       "      <td id=\"T_5f4d8_row1_col16\" class=\"data row1 col16\" >0.121139<\/td>\n",
       "      <td id=\"T_5f4d8_row1_col17\" class=\"data row1 col17\" >0.061774<\/td>\n",
       "      <td id=\"T_5f4d8_row1_col18\" class=\"data row1 col18\" >-0.060510<\/td>\n",
       "      <td id=\"T_5f4d8_row1_col19\" class=\"data row1 col19\" >0.007123<\/td>\n",
       "      <td id=\"T_5f4d8_row1_col20\" class=\"data row1 col20\" >-0.005930<\/td>\n",
       "      <td id=\"T_5f4d8_row1_col21\" class=\"data row1 col21\" >-0.006539<\/td>\n",
       "      <td id=\"T_5f4d8_row1_col22\" class=\"data row1 col22\" >-0.030128<\/td>\n",
       "      <td id=\"T_5f4d8_row1_col23\" class=\"data row1 col23\" >nan<\/td>\n",
       "      <td id=\"T_5f4d8_row1_col24\" class=\"data row1 col24\" >nan<\/td>\n",
       "      <td id=\"T_5f4d8_row1_col25\" class=\"data row1 col25\" >0.021325<\/td>\n",
       "    <\/tr>\n",
       "    <tr>\n",
       "      <th id=\"T_5f4d8_level0_row2\" class=\"row_heading level0 row2\" >Income<\/th>\n",
       "      <td id=\"T_5f4d8_row2_col0\" class=\"data row2 col0\" >0.013095<\/td>\n",
       "      <td id=\"T_5f4d8_row2_col1\" class=\"data row2 col1\" >-0.161791<\/td>\n",
       "      <td id=\"T_5f4d8_row2_col2\" class=\"data row2 col2\" >1.000000<\/td>\n",
       "      <td id=\"T_5f4d8_row2_col3\" class=\"data row2 col3\" >-0.428669<\/td>\n",
       "      <td id=\"T_5f4d8_row2_col4\" class=\"data row2 col4\" >0.019133<\/td>\n",
       "      <td id=\"T_5f4d8_row2_col5\" class=\"data row2 col5\" >-0.003970<\/td>\n",
       "      <td id=\"T_5f4d8_row2_col6\" class=\"data row2 col6\" >0.578650<\/td>\n",
       "      <td id=\"T_5f4d8_row2_col7\" class=\"data row2 col7\" >0.430842<\/td>\n",
       "      <td id=\"T_5f4d8_row2_col8\" class=\"data row2 col8\" >0.584633<\/td>\n",
       "      <td id=\"T_5f4d8_row2_col9\" class=\"data row2 col9\" >0.438871<\/td>\n",
       "      <td id=\"T_5f4d8_row2_col10\" class=\"data row2 col10\" >0.440744<\/td>\n",
       "      <td id=\"T_5f4d8_row2_col11\" class=\"data row2 col11\" >0.325916<\/td>\n",
       "      <td id=\"T_5f4d8_row2_col12\" class=\"data row2 col12\" >-0.083101<\/td>\n",
       "      <td id=\"T_5f4d8_row2_col13\" class=\"data row2 col13\" >0.387878<\/td>\n",
       "      <td id=\"T_5f4d8_row2_col14\" class=\"data row2 col14\" >0.589162<\/td>\n",
       "      <td id=\"T_5f4d8_row2_col15\" class=\"data row2 col15\" >0.529362<\/td>\n",
       "      <td id=\"T_5f4d8_row2_col16\" class=\"data row2 col16\" >-0.553088<\/td>\n",
       "      <td id=\"T_5f4d8_row2_col17\" class=\"data row2 col17\" >-0.016174<\/td>\n",
       "      <td id=\"T_5f4d8_row2_col18\" class=\"data row2 col18\" >0.184400<\/td>\n",
       "      <td id=\"T_5f4d8_row2_col19\" class=\"data row2 col19\" >0.335943<\/td>\n",
       "      <td id=\"T_5f4d8_row2_col20\" class=\"data row2 col20\" >0.276820<\/td>\n",
       "      <td id=\"T_5f4d8_row2_col21\" class=\"data row2 col21\" >0.087545<\/td>\n",
       "      <td id=\"T_5f4d8_row2_col22\" class=\"data row2 col22\" >-0.027225<\/td>\n",
       "      <td id=\"T_5f4d8_row2_col23\" class=\"data row2 col23\" >nan<\/td>\n",
       "      <td id=\"T_5f4d8_row2_col24\" class=\"data row2 col24\" >nan<\/td>\n",
       "      <td id=\"T_5f4d8_row2_col25\" class=\"data row2 col25\" >0.133047<\/td>\n",
       "    <\/tr>\n",
       "    <tr>\n",
       "      <th id=\"T_5f4d8_level0_row3\" class=\"row_heading level0 row3\" >Kidhome<\/th>\n",
       "      <td id=\"T_5f4d8_row3_col0\" class=\"data row3 col0\" >0.002406<\/td>\n",
       "      <td id=\"T_5f4d8_row3_col1\" class=\"data row3 col1\" >0.230176<\/td>\n",
       "      <td id=\"T_5f4d8_row3_col2\" class=\"data row3 col2\" >-0.428669<\/td>\n",
       "      <td id=\"T_5f4d8_row3_col3\" class=\"data row3 col3\" >1.000000<\/td>\n",
       "      <td id=\"T_5f4d8_row3_col4\" class=\"data row3 col4\" >-0.036133<\/td>\n",
       "      <td id=\"T_5f4d8_row3_col5\" class=\"data row3 col5\" >0.008827<\/td>\n",
       "      <td id=\"T_5f4d8_row3_col6\" class=\"data row3 col6\" >-0.496297<\/td>\n",
       "      <td id=\"T_5f4d8_row3_col7\" class=\"data row3 col7\" >-0.372581<\/td>\n",
       "      <td id=\"T_5f4d8_row3_col8\" class=\"data row3 col8\" >-0.437129<\/td>\n",
       "      <td id=\"T_5f4d8_row3_col9\" class=\"data row3 col9\" >-0.387644<\/td>\n",
       "      <td id=\"T_5f4d8_row3_col10\" class=\"data row3 col10\" >-0.370673<\/td>\n",
       "      <td id=\"T_5f4d8_row3_col11\" class=\"data row3 col11\" >-0.349595<\/td>\n",
       "      <td id=\"T_5f4d8_row3_col12\" class=\"data row3 col12\" >0.221798<\/td>\n",
       "      <td id=\"T_5f4d8_row3_col13\" class=\"data row3 col13\" >-0.361647<\/td>\n",
       "      <td id=\"T_5f4d8_row3_col14\" class=\"data row3 col14\" >-0.502237<\/td>\n",
       "      <td id=\"T_5f4d8_row3_col15\" class=\"data row3 col15\" >-0.499683<\/td>\n",
       "      <td id=\"T_5f4d8_row3_col16\" class=\"data row3 col16\" >0.447846<\/td>\n",
       "      <td id=\"T_5f4d8_row3_col17\" class=\"data row3 col17\" >0.014674<\/td>\n",
       "      <td id=\"T_5f4d8_row3_col18\" class=\"data row3 col18\" >-0.161600<\/td>\n",
       "      <td id=\"T_5f4d8_row3_col19\" class=\"data row3 col19\" >-0.205634<\/td>\n",
       "      <td id=\"T_5f4d8_row3_col20\" class=\"data row3 col20\" >-0.172339<\/td>\n",
       "      <td id=\"T_5f4d8_row3_col21\" class=\"data row3 col21\" >-0.081716<\/td>\n",
       "      <td id=\"T_5f4d8_row3_col22\" class=\"data row3 col22\" >0.040207<\/td>\n",
       "      <td id=\"T_5f4d8_row3_col23\" class=\"data row3 col23\" >nan<\/td>\n",
       "      <td id=\"T_5f4d8_row3_col24\" class=\"data row3 col24\" >nan<\/td>\n",
       "      <td id=\"T_5f4d8_row3_col25\" class=\"data row3 col25\" >-0.080008<\/td>\n",
       "    <\/tr>\n",
       "    <tr>\n",
       "      <th id=\"T_5f4d8_level0_row4\" class=\"row_heading level0 row4\" >Teenhome<\/th>\n",
       "      <td id=\"T_5f4d8_row4_col0\" class=\"data row4 col0\" >-0.002580<\/td>\n",
       "      <td id=\"T_5f4d8_row4_col1\" class=\"data row4 col1\" >-0.352111<\/td>\n",
       "      <td id=\"T_5f4d8_row4_col2\" class=\"data row4 col2\" >0.019133<\/td>\n",
       "      <td id=\"T_5f4d8_row4_col3\" class=\"data row4 col3\" >-0.036133<\/td>\n",
       "      <td id=\"T_5f4d8_row4_col4\" class=\"data row4 col4\" >1.000000<\/td>\n",
       "      <td id=\"T_5f4d8_row4_col5\" class=\"data row4 col5\" >0.016198<\/td>\n",
       "      <td id=\"T_5f4d8_row4_col6\" class=\"data row4 col6\" >0.004846<\/td>\n",
       "      <td id=\"T_5f4d8_row4_col7\" class=\"data row4 col7\" >-0.176764<\/td>\n",
       "      <td id=\"T_5f4d8_row4_col8\" class=\"data row4 col8\" >-0.261160<\/td>\n",
       "      <td id=\"T_5f4d8_row4_col9\" class=\"data row4 col9\" >-0.204187<\/td>\n",
       "      <td id=\"T_5f4d8_row4_col10\" class=\"data row4 col10\" >-0.162475<\/td>\n",
       "      <td id=\"T_5f4d8_row4_col11\" class=\"data row4 col11\" >-0.021725<\/td>\n",
       "      <td id=\"T_5f4d8_row4_col12\" class=\"data row4 col12\" >0.387741<\/td>\n",
       "      <td id=\"T_5f4d8_row4_col13\" class=\"data row4 col13\" >0.155500<\/td>\n",
       "      <td id=\"T_5f4d8_row4_col14\" class=\"data row4 col14\" >-0.110769<\/td>\n",
       "      <td id=\"T_5f4d8_row4_col15\" class=\"data row4 col15\" >0.050695<\/td>\n",
       "      <td id=\"T_5f4d8_row4_col16\" class=\"data row4 col16\" >0.134884<\/td>\n",
       "      <td id=\"T_5f4d8_row4_col17\" class=\"data row4 col17\" >-0.042677<\/td>\n",
       "      <td id=\"T_5f4d8_row4_col18\" class=\"data row4 col18\" >0.038886<\/td>\n",
       "      <td id=\"T_5f4d8_row4_col19\" class=\"data row4 col19\" >-0.191050<\/td>\n",
       "      <td id=\"T_5f4d8_row4_col20\" class=\"data row4 col20\" >-0.140090<\/td>\n",
       "      <td id=\"T_5f4d8_row4_col21\" class=\"data row4 col21\" >-0.015605<\/td>\n",
       "      <td id=\"T_5f4d8_row4_col22\" class=\"data row4 col22\" >0.003138<\/td>\n",
       "      <td id=\"T_5f4d8_row4_col23\" class=\"data row4 col23\" >nan<\/td>\n",
       "      <td id=\"T_5f4d8_row4_col24\" class=\"data row4 col24\" >nan<\/td>\n",
       "      <td id=\"T_5f4d8_row4_col25\" class=\"data row4 col25\" >-0.154446<\/td>\n",
       "    <\/tr>\n",
       "    <tr>\n",
       "      <th id=\"T_5f4d8_level0_row5\" class=\"row_heading level0 row5\" >Recency<\/th>\n",
       "      <td id=\"T_5f4d8_row5_col0\" class=\"data row5 col0\" >-0.046524<\/td>\n",
       "      <td id=\"T_5f4d8_row5_col1\" class=\"data row5 col1\" >-0.019871<\/td>\n",
       "      <td id=\"T_5f4d8_row5_col2\" class=\"data row5 col2\" >-0.003970<\/td>\n",
       "      <td id=\"T_5f4d8_row5_col3\" class=\"data row5 col3\" >0.008827<\/td>\n",
       "      <td id=\"T_5f4d8_row5_col4\" class=\"data row5 col4\" >0.016198<\/td>\n",
       "      <td id=\"T_5f4d8_row5_col5\" class=\"data row5 col5\" >1.000000<\/td>\n",
       "      <td id=\"T_5f4d8_row5_col6\" class=\"data row5 col6\" >0.016064<\/td>\n",
       "      <td id=\"T_5f4d8_row5_col7\" class=\"data row5 col7\" >-0.004306<\/td>\n",
       "      <td id=\"T_5f4d8_row5_col8\" class=\"data row5 col8\" >0.023056<\/td>\n",
       "      <td id=\"T_5f4d8_row5_col9\" class=\"data row5 col9\" >0.001079<\/td>\n",
       "      <td id=\"T_5f4d8_row5_col10\" class=\"data row5 col10\" >0.022670<\/td>\n",
       "      <td id=\"T_5f4d8_row5_col11\" class=\"data row5 col11\" >0.016693<\/td>\n",
       "      <td id=\"T_5f4d8_row5_col12\" class=\"data row5 col12\" >-0.001098<\/td>\n",
       "      <td id=\"T_5f4d8_row5_col13\" class=\"data row5 col13\" >-0.010726<\/td>\n",
       "      <td id=\"T_5f4d8_row5_col14\" class=\"data row5 col14\" >0.025110<\/td>\n",
       "      <td id=\"T_5f4d8_row5_col15\" class=\"data row5 col15\" >0.000799<\/td>\n",
       "      <td id=\"T_5f4d8_row5_col16\" class=\"data row5 col16\" >-0.021445<\/td>\n",
       "      <td id=\"T_5f4d8_row5_col17\" class=\"data row5 col17\" >-0.032991<\/td>\n",
       "      <td id=\"T_5f4d8_row5_col18\" class=\"data row5 col18\" >0.018826<\/td>\n",
       "      <td id=\"T_5f4d8_row5_col19\" class=\"data row5 col19\" >0.000129<\/td>\n",
       "      <td id=\"T_5f4d8_row5_col20\" class=\"data row5 col20\" >-0.019283<\/td>\n",
       "      <td id=\"T_5f4d8_row5_col21\" class=\"data row5 col21\" >-0.001781<\/td>\n",
       "      <td id=\"T_5f4d8_row5_col22\" class=\"data row5 col22\" >0.013231<\/td>\n",
       "      <td id=\"T_5f4d8_row5_col23\" class=\"data row5 col23\" >nan<\/td>\n",
       "      <td id=\"T_5f4d8_row5_col24\" class=\"data row5 col24\" >nan<\/td>\n",
       "      <td id=\"T_5f4d8_row5_col25\" class=\"data row5 col25\" >-0.198437<\/td>\n",
       "    <\/tr>\n",
       "    <tr>\n",
       "      <th id=\"T_5f4d8_level0_row6\" class=\"row_heading level0 row6\" >MntWines<\/th>\n",
       "      <td id=\"T_5f4d8_row6_col0\" class=\"data row6 col0\" >-0.022878<\/td>\n",
       "      <td id=\"T_5f4d8_row6_col1\" class=\"data row6 col1\" >-0.157773<\/td>\n",
       "      <td id=\"T_5f4d8_row6_col2\" class=\"data row6 col2\" >0.578650<\/td>\n",
       "      <td id=\"T_5f4d8_row6_col3\" class=\"data row6 col3\" >-0.496297<\/td>\n",
       "      <td id=\"T_5f4d8_row6_col4\" class=\"data row6 col4\" >0.004846<\/td>\n",
       "      <td id=\"T_5f4d8_row6_col5\" class=\"data row6 col5\" >0.016064<\/td>\n",
       "      <td id=\"T_5f4d8_row6_col6\" class=\"data row6 col6\" >1.000000<\/td>\n",
       "      <td id=\"T_5f4d8_row6_col7\" class=\"data row6 col7\" >0.389637<\/td>\n",
       "      <td id=\"T_5f4d8_row6_col8\" class=\"data row6 col8\" >0.562667<\/td>\n",
       "      <td id=\"T_5f4d8_row6_col9\" class=\"data row6 col9\" >0.399753<\/td>\n",
       "      <td id=\"T_5f4d8_row6_col10\" class=\"data row6 col10\" >0.386581<\/td>\n",
       "      <td id=\"T_5f4d8_row6_col11\" class=\"data row6 col11\" >0.387516<\/td>\n",
       "      <td id=\"T_5f4d8_row6_col12\" class=\"data row6 col12\" >0.010940<\/td>\n",
       "      <td id=\"T_5f4d8_row6_col13\" class=\"data row6 col13\" >0.542265<\/td>\n",
       "      <td id=\"T_5f4d8_row6_col14\" class=\"data row6 col14\" >0.635226<\/td>\n",
       "      <td id=\"T_5f4d8_row6_col15\" class=\"data row6 col15\" >0.642100<\/td>\n",
       "      <td id=\"T_5f4d8_row6_col16\" class=\"data row6 col16\" >-0.320653<\/td>\n",
       "      <td id=\"T_5f4d8_row6_col17\" class=\"data row6 col17\" >0.062202<\/td>\n",
       "      <td id=\"T_5f4d8_row6_col18\" class=\"data row6 col18\" >0.373286<\/td>\n",
       "      <td id=\"T_5f4d8_row6_col19\" class=\"data row6 col19\" >0.472613<\/td>\n",
       "      <td id=\"T_5f4d8_row6_col20\" class=\"data row6 col20\" >0.354133<\/td>\n",
       "      <td id=\"T_5f4d8_row6_col21\" class=\"data row6 col21\" >0.205907<\/td>\n",
       "      <td id=\"T_5f4d8_row6_col22\" class=\"data row6 col22\" >-0.039007<\/td>\n",
       "      <td id=\"T_5f4d8_row6_col23\" class=\"data row6 col23\" >nan<\/td>\n",
       "      <td id=\"T_5f4d8_row6_col24\" class=\"data row6 col24\" >nan<\/td>\n",
       "      <td id=\"T_5f4d8_row6_col25\" class=\"data row6 col25\" >0.247254<\/td>\n",
       "    <\/tr>\n",
       "    <tr>\n",
       "      <th id=\"T_5f4d8_level0_row7\" class=\"row_heading level0 row7\" >MntFruits<\/th>\n",
       "      <td id=\"T_5f4d8_row7_col0\" class=\"data row7 col0\" >0.004600<\/td>\n",
       "      <td id=\"T_5f4d8_row7_col1\" class=\"data row7 col1\" >-0.017917<\/td>\n",
       "      <td id=\"T_5f4d8_row7_col2\" class=\"data row7 col2\" >0.430842<\/td>\n",
       "      <td id=\"T_5f4d8_row7_col3\" class=\"data row7 col3\" >-0.372581<\/td>\n",
       "      <td id=\"T_5f4d8_row7_col4\" class=\"data row7 col4\" >-0.176764<\/td>\n",
       "      <td id=\"T_5f4d8_row7_col5\" class=\"data row7 col5\" >-0.004306<\/td>\n",
       "      <td id=\"T_5f4d8_row7_col6\" class=\"data row7 col6\" >0.389637<\/td>\n",
       "      <td id=\"T_5f4d8_row7_col7\" class=\"data row7 col7\" >1.000000<\/td>\n",
       "      <td id=\"T_5f4d8_row7_col8\" class=\"data row7 col8\" >0.543105<\/td>\n",
       "      <td id=\"T_5f4d8_row7_col9\" class=\"data row7 col9\" >0.594804<\/td>\n",
       "      <td id=\"T_5f4d8_row7_col10\" class=\"data row7 col10\" >0.567164<\/td>\n",
       "      <td id=\"T_5f4d8_row7_col11\" class=\"data row7 col11\" >0.392995<\/td>\n",
       "      <td id=\"T_5f4d8_row7_col12\" class=\"data row7 col12\" >-0.132114<\/td>\n",
       "      <td id=\"T_5f4d8_row7_col13\" class=\"data row7 col13\" >0.296735<\/td>\n",
       "      <td id=\"T_5f4d8_row7_col14\" class=\"data row7 col14\" >0.487917<\/td>\n",
       "      <td id=\"T_5f4d8_row7_col15\" class=\"data row7 col15\" >0.461758<\/td>\n",
       "      <td id=\"T_5f4d8_row7_col16\" class=\"data row7 col16\" >-0.418383<\/td>\n",
       "      <td id=\"T_5f4d8_row7_col17\" class=\"data row7 col17\" >0.014727<\/td>\n",
       "      <td id=\"T_5f4d8_row7_col18\" class=\"data row7 col18\" >0.010152<\/td>\n",
       "      <td id=\"T_5f4d8_row7_col19\" class=\"data row7 col19\" >0.215833<\/td>\n",
       "      <td id=\"T_5f4d8_row7_col20\" class=\"data row7 col20\" >0.194748<\/td>\n",
       "      <td id=\"T_5f4d8_row7_col21\" class=\"data row7 col21\" >-0.009773<\/td>\n",
       "      <td id=\"T_5f4d8_row7_col22\" class=\"data row7 col22\" >-0.005166<\/td>\n",
       "      <td id=\"T_5f4d8_row7_col23\" class=\"data row7 col23\" >nan<\/td>\n",
       "      <td id=\"T_5f4d8_row7_col24\" class=\"data row7 col24\" >nan<\/td>\n",
       "      <td id=\"T_5f4d8_row7_col25\" class=\"data row7 col25\" >0.125289<\/td>\n",
       "    <\/tr>\n",
       "    <tr>\n",
       "      <th id=\"T_5f4d8_level0_row8\" class=\"row_heading level0 row8\" >MntMeatProducts<\/th>\n",
       "      <td id=\"T_5f4d8_row8_col0\" class=\"data row8 col0\" >-0.004437<\/td>\n",
       "      <td id=\"T_5f4d8_row8_col1\" class=\"data row8 col1\" >-0.030872<\/td>\n",
       "      <td id=\"T_5f4d8_row8_col2\" class=\"data row8 col2\" >0.584633<\/td>\n",
       "      <td id=\"T_5f4d8_row8_col3\" class=\"data row8 col3\" >-0.437129<\/td>\n",
       "      <td id=\"T_5f4d8_row8_col4\" class=\"data row8 col4\" >-0.261160<\/td>\n",
       "      <td id=\"T_5f4d8_row8_col5\" class=\"data row8 col5\" >0.023056<\/td>\n",
       "      <td id=\"T_5f4d8_row8_col6\" class=\"data row8 col6\" >0.562667<\/td>\n",
       "      <td id=\"T_5f4d8_row8_col7\" class=\"data row8 col7\" >0.543105<\/td>\n",
       "      <td id=\"T_5f4d8_row8_col8\" class=\"data row8 col8\" >1.000000<\/td>\n",
       "      <td id=\"T_5f4d8_row8_col9\" class=\"data row8 col9\" >0.568402<\/td>\n",
       "      <td id=\"T_5f4d8_row8_col10\" class=\"data row8 col10\" >0.523846<\/td>\n",
       "      <td id=\"T_5f4d8_row8_col11\" class=\"data row8 col11\" >0.350609<\/td>\n",
       "      <td id=\"T_5f4d8_row8_col12\" class=\"data row8 col12\" >-0.122415<\/td>\n",
       "      <td id=\"T_5f4d8_row8_col13\" class=\"data row8 col13\" >0.293761<\/td>\n",
       "      <td id=\"T_5f4d8_row8_col14\" class=\"data row8 col14\" >0.723827<\/td>\n",
       "      <td id=\"T_5f4d8_row8_col15\" class=\"data row8 col15\" >0.479659<\/td>\n",
       "      <td id=\"T_5f4d8_row8_col16\" class=\"data row8 col16\" >-0.539470<\/td>\n",
       "      <td id=\"T_5f4d8_row8_col17\" class=\"data row8 col17\" >0.018272<\/td>\n",
       "      <td id=\"T_5f4d8_row8_col18\" class=\"data row8 col18\" >0.102912<\/td>\n",
       "      <td id=\"T_5f4d8_row8_col19\" class=\"data row8 col19\" >0.373769<\/td>\n",
       "      <td id=\"T_5f4d8_row8_col20\" class=\"data row8 col20\" >0.309761<\/td>\n",
       "      <td id=\"T_5f4d8_row8_col21\" class=\"data row8 col21\" >0.043033<\/td>\n",
       "      <td id=\"T_5f4d8_row8_col22\" class=\"data row8 col22\" >-0.023483<\/td>\n",
       "      <td id=\"T_5f4d8_row8_col23\" class=\"data row8 col23\" >nan<\/td>\n",
       "      <td id=\"T_5f4d8_row8_col24\" class=\"data row8 col24\" >nan<\/td>\n",
       "      <td id=\"T_5f4d8_row8_col25\" class=\"data row8 col25\" >0.236335<\/td>\n",
       "    <\/tr>\n",
       "    <tr>\n",
       "      <th id=\"T_5f4d8_level0_row9\" class=\"row_heading level0 row9\" >MntFishProducts<\/th>\n",
       "      <td id=\"T_5f4d8_row9_col0\" class=\"data row9 col0\" >-0.024475<\/td>\n",
       "      <td id=\"T_5f4d8_row9_col1\" class=\"data row9 col1\" >-0.041625<\/td>\n",
       "      <td id=\"T_5f4d8_row9_col2\" class=\"data row9 col2\" >0.438871<\/td>\n",
       "      <td id=\"T_5f4d8_row9_col3\" class=\"data row9 col3\" >-0.387644<\/td>\n",
       "      <td id=\"T_5f4d8_row9_col4\" class=\"data row9 col4\" >-0.204187<\/td>\n",
       "      <td id=\"T_5f4d8_row9_col5\" class=\"data row9 col5\" >0.001079<\/td>\n",
       "      <td id=\"T_5f4d8_row9_col6\" class=\"data row9 col6\" >0.399753<\/td>\n",
       "      <td id=\"T_5f4d8_row9_col7\" class=\"data row9 col7\" >0.594804<\/td>\n",
       "      <td id=\"T_5f4d8_row9_col8\" class=\"data row9 col8\" >0.568402<\/td>\n",
       "      <td id=\"T_5f4d8_row9_col9\" class=\"data row9 col9\" >1.000000<\/td>\n",
       "      <td id=\"T_5f4d8_row9_col10\" class=\"data row9 col10\" >0.579870<\/td>\n",
       "      <td id=\"T_5f4d8_row9_col11\" class=\"data row9 col11\" >0.422875<\/td>\n",
       "      <td id=\"T_5f4d8_row9_col12\" class=\"data row9 col12\" >-0.139361<\/td>\n",
       "      <td id=\"T_5f4d8_row9_col13\" class=\"data row9 col13\" >0.293681<\/td>\n",
       "      <td id=\"T_5f4d8_row9_col14\" class=\"data row9 col14\" >0.534478<\/td>\n",
       "      <td id=\"T_5f4d8_row9_col15\" class=\"data row9 col15\" >0.459855<\/td>\n",
       "      <td id=\"T_5f4d8_row9_col16\" class=\"data row9 col16\" >-0.446003<\/td>\n",
       "      <td id=\"T_5f4d8_row9_col17\" class=\"data row9 col17\" >0.000357<\/td>\n",
       "      <td id=\"T_5f4d8_row9_col18\" class=\"data row9 col18\" >0.016843<\/td>\n",
       "      <td id=\"T_5f4d8_row9_col19\" class=\"data row9 col19\" >0.199578<\/td>\n",
       "      <td id=\"T_5f4d8_row9_col20\" class=\"data row9 col20\" >0.260762<\/td>\n",
       "      <td id=\"T_5f4d8_row9_col21\" class=\"data row9 col21\" >0.002577<\/td>\n",
       "      <td id=\"T_5f4d8_row9_col22\" class=\"data row9 col22\" >-0.020953<\/td>\n",
       "      <td id=\"T_5f4d8_row9_col23\" class=\"data row9 col23\" >nan<\/td>\n",
       "      <td id=\"T_5f4d8_row9_col24\" class=\"data row9 col24\" >nan<\/td>\n",
       "      <td id=\"T_5f4d8_row9_col25\" class=\"data row9 col25\" >0.111331<\/td>\n",
       "    <\/tr>\n",
       "    <tr>\n",
       "      <th id=\"T_5f4d8_level0_row10\" class=\"row_heading level0 row10\" >MntSweetProducts<\/th>\n",
       "      <td id=\"T_5f4d8_row10_col0\" class=\"data row10 col0\" >-0.007642<\/td>\n",
       "      <td id=\"T_5f4d8_row10_col1\" class=\"data row10 col1\" >-0.018133<\/td>\n",
       "      <td id=\"T_5f4d8_row10_col2\" class=\"data row10 col2\" >0.440744<\/td>\n",
       "      <td id=\"T_5f4d8_row10_col3\" class=\"data row10 col3\" >-0.370673<\/td>\n",
       "      <td id=\"T_5f4d8_row10_col4\" class=\"data row10 col4\" >-0.162475<\/td>\n",
       "      <td id=\"T_5f4d8_row10_col5\" class=\"data row10 col5\" >0.022670<\/td>\n",
       "      <td id=\"T_5f4d8_row10_col6\" class=\"data row10 col6\" >0.386581<\/td>\n",
       "      <td id=\"T_5f4d8_row10_col7\" class=\"data row10 col7\" >0.567164<\/td>\n",
       "      <td id=\"T_5f4d8_row10_col8\" class=\"data row10 col8\" >0.523846<\/td>\n",
       "      <td id=\"T_5f4d8_row10_col9\" class=\"data row10 col9\" >0.579870<\/td>\n",
       "      <td id=\"T_5f4d8_row10_col10\" class=\"data row10 col10\" >1.000000<\/td>\n",
       "      <td id=\"T_5f4d8_row10_col11\" class=\"data row10 col11\" >0.369724<\/td>\n",
       "      <td id=\"T_5f4d8_row10_col12\" class=\"data row10 col12\" >-0.120100<\/td>\n",
       "      <td id=\"T_5f4d8_row10_col13\" class=\"data row10 col13\" >0.348544<\/td>\n",
       "      <td id=\"T_5f4d8_row10_col14\" class=\"data row10 col14\" >0.490924<\/td>\n",
       "      <td id=\"T_5f4d8_row10_col15\" class=\"data row10 col15\" >0.448756<\/td>\n",
       "      <td id=\"T_5f4d8_row10_col16\" class=\"data row10 col16\" >-0.423294<\/td>\n",
       "      <td id=\"T_5f4d8_row10_col17\" class=\"data row10 col17\" >0.001530<\/td>\n",
       "      <td id=\"T_5f4d8_row10_col18\" class=\"data row10 col18\" >0.028641<\/td>\n",
       "      <td id=\"T_5f4d8_row10_col19\" class=\"data row10 col19\" >0.259590<\/td>\n",
       "      <td id=\"T_5f4d8_row10_col20\" class=\"data row10 col20\" >0.241818<\/td>\n",
       "      <td id=\"T_5f4d8_row10_col21\" class=\"data row10 col21\" >0.009985<\/td>\n",
       "      <td id=\"T_5f4d8_row10_col22\" class=\"data row10 col22\" >-0.022485<\/td>\n",
       "      <td id=\"T_5f4d8_row10_col23\" class=\"data row10 col23\" >nan<\/td>\n",
       "      <td id=\"T_5f4d8_row10_col24\" class=\"data row10 col24\" >nan<\/td>\n",
       "      <td id=\"T_5f4d8_row10_col25\" class=\"data row10 col25\" >0.117372<\/td>\n",
       "    <\/tr>\n",
       "    <tr>\n",
       "      <th id=\"T_5f4d8_level0_row11\" class=\"row_heading level0 row11\" >MntGoldProds<\/th>\n",
       "      <td id=\"T_5f4d8_row11_col0\" class=\"data row11 col0\" >-0.013438<\/td>\n",
       "      <td id=\"T_5f4d8_row11_col1\" class=\"data row11 col1\" >-0.061818<\/td>\n",
       "      <td id=\"T_5f4d8_row11_col2\" class=\"data row11 col2\" >0.325916<\/td>\n",
       "      <td id=\"T_5f4d8_row11_col3\" class=\"data row11 col3\" >-0.349595<\/td>\n",
       "      <td id=\"T_5f4d8_row11_col4\" class=\"data row11 col4\" >-0.021725<\/td>\n",
       "      <td id=\"T_5f4d8_row11_col5\" class=\"data row11 col5\" >0.016693<\/td>\n",
       "      <td id=\"T_5f4d8_row11_col6\" class=\"data row11 col6\" >0.387516<\/td>\n",
       "      <td id=\"T_5f4d8_row11_col7\" class=\"data row11 col7\" >0.392995<\/td>\n",
       "      <td id=\"T_5f4d8_row11_col8\" class=\"data row11 col8\" >0.350609<\/td>\n",
       "      <td id=\"T_5f4d8_row11_col9\" class=\"data row11 col9\" >0.422875<\/td>\n",
       "      <td id=\"T_5f4d8_row11_col10\" class=\"data row11 col10\" >0.369724<\/td>\n",
       "      <td id=\"T_5f4d8_row11_col11\" class=\"data row11 col11\" >1.000000<\/td>\n",
       "      <td id=\"T_5f4d8_row11_col12\" class=\"data row11 col12\" >0.049085<\/td>\n",
       "      <td id=\"T_5f4d8_row11_col13\" class=\"data row11 col13\" >0.421836<\/td>\n",
       "      <td id=\"T_5f4d8_row11_col14\" class=\"data row11 col14\" >0.437697<\/td>\n",
       "      <td id=\"T_5f4d8_row11_col15\" class=\"data row11 col15\" >0.381678<\/td>\n",
       "      <td id=\"T_5f4d8_row11_col16\" class=\"data row11 col16\" >-0.250719<\/td>\n",
       "      <td id=\"T_5f4d8_row11_col17\" class=\"data row11 col17\" >0.123091<\/td>\n",
       "      <td id=\"T_5f4d8_row11_col18\" class=\"data row11 col18\" >0.022268<\/td>\n",
       "      <td id=\"T_5f4d8_row11_col19\" class=\"data row11 col19\" >0.181021<\/td>\n",
       "      <td id=\"T_5f4d8_row11_col20\" class=\"data row11 col20\" >0.166396<\/td>\n",
       "      <td id=\"T_5f4d8_row11_col21\" class=\"data row11 col21\" >0.049990<\/td>\n",
       "      <td id=\"T_5f4d8_row11_col22\" class=\"data row11 col22\" >-0.030861<\/td>\n",
       "      <td id=\"T_5f4d8_row11_col23\" class=\"data row11 col23\" >nan<\/td>\n",
       "      <td id=\"T_5f4d8_row11_col24\" class=\"data row11 col24\" >nan<\/td>\n",
       "      <td id=\"T_5f4d8_row11_col25\" class=\"data row11 col25\" >0.139850<\/td>\n",
       "    <\/tr>\n",
       "    <tr>\n",
       "      <th id=\"T_5f4d8_level0_row12\" class=\"row_heading level0 row12\" >NumDealsPurchases<\/th>\n",
       "      <td id=\"T_5f4d8_row12_col0\" class=\"data row12 col0\" >-0.037166<\/td>\n",
       "      <td id=\"T_5f4d8_row12_col1\" class=\"data row12 col1\" >-0.060846<\/td>\n",
       "      <td id=\"T_5f4d8_row12_col2\" class=\"data row12 col2\" >-0.083101<\/td>\n",
       "      <td id=\"T_5f4d8_row12_col3\" class=\"data row12 col3\" >0.221798<\/td>\n",
       "      <td id=\"T_5f4d8_row12_col4\" class=\"data row12 col4\" >0.387741<\/td>\n",
       "      <td id=\"T_5f4d8_row12_col5\" class=\"data row12 col5\" >-0.001098<\/td>\n",
       "      <td id=\"T_5f4d8_row12_col6\" class=\"data row12 col6\" >0.010940<\/td>\n",
       "      <td id=\"T_5f4d8_row12_col7\" class=\"data row12 col7\" >-0.132114<\/td>\n",
       "      <td id=\"T_5f4d8_row12_col8\" class=\"data row12 col8\" >-0.122415<\/td>\n",
       "      <td id=\"T_5f4d8_row12_col9\" class=\"data row12 col9\" >-0.139361<\/td>\n",
       "      <td id=\"T_5f4d8_row12_col10\" class=\"data row12 col10\" >-0.120100<\/td>\n",
       "      <td id=\"T_5f4d8_row12_col11\" class=\"data row12 col11\" >0.049085<\/td>\n",
       "      <td id=\"T_5f4d8_row12_col12\" class=\"data row12 col12\" >1.000000<\/td>\n",
       "      <td id=\"T_5f4d8_row12_col13\" class=\"data row12 col13\" >0.234185<\/td>\n",
       "      <td id=\"T_5f4d8_row12_col14\" class=\"data row12 col14\" >-0.008617<\/td>\n",
       "      <td id=\"T_5f4d8_row12_col15\" class=\"data row12 col15\" >0.068879<\/td>\n",
       "      <td id=\"T_5f4d8_row12_col16\" class=\"data row12 col16\" >0.347633<\/td>\n",
       "      <td id=\"T_5f4d8_row12_col17\" class=\"data row12 col17\" >-0.023109<\/td>\n",
       "      <td id=\"T_5f4d8_row12_col18\" class=\"data row12 col18\" >0.015594<\/td>\n",
       "      <td id=\"T_5f4d8_row12_col19\" class=\"data row12 col19\" >-0.183248<\/td>\n",
       "      <td id=\"T_5f4d8_row12_col20\" class=\"data row12 col20\" >-0.123244<\/td>\n",
       "      <td id=\"T_5f4d8_row12_col21\" class=\"data row12 col21\" >-0.037695<\/td>\n",
       "      <td id=\"T_5f4d8_row12_col22\" class=\"data row12 col22\" >0.000420<\/td>\n",
       "      <td id=\"T_5f4d8_row12_col23\" class=\"data row12 col23\" >nan<\/td>\n",
       "      <td id=\"T_5f4d8_row12_col24\" class=\"data row12 col24\" >nan<\/td>\n",
       "      <td id=\"T_5f4d8_row12_col25\" class=\"data row12 col25\" >0.002238<\/td>\n",
       "    <\/tr>\n",
       "    <tr>\n",
       "      <th id=\"T_5f4d8_level0_row13\" class=\"row_heading level0 row13\" >NumWebPurchases<\/th>\n",
       "      <td id=\"T_5f4d8_row13_col0\" class=\"data row13 col0\" >-0.018924<\/td>\n",
       "      <td id=\"T_5f4d8_row13_col1\" class=\"data row13 col1\" >-0.145040<\/td>\n",
       "      <td id=\"T_5f4d8_row13_col2\" class=\"data row13 col2\" >0.387878<\/td>\n",
       "      <td id=\"T_5f4d8_row13_col3\" class=\"data row13 col3\" >-0.361647<\/td>\n",
       "      <td id=\"T_5f4d8_row13_col4\" class=\"data row13 col4\" >0.155500<\/td>\n",
       "      <td id=\"T_5f4d8_row13_col5\" class=\"data row13 col5\" >-0.010726<\/td>\n",
       "      <td id=\"T_5f4d8_row13_col6\" class=\"data row13 col6\" >0.542265<\/td>\n",
       "      <td id=\"T_5f4d8_row13_col7\" class=\"data row13 col7\" >0.296735<\/td>\n",
       "      <td id=\"T_5f4d8_row13_col8\" class=\"data row13 col8\" >0.293761<\/td>\n",
       "      <td id=\"T_5f4d8_row13_col9\" class=\"data row13 col9\" >0.293681<\/td>\n",
       "      <td id=\"T_5f4d8_row13_col10\" class=\"data row13 col10\" >0.348544<\/td>\n",
       "      <td id=\"T_5f4d8_row13_col11\" class=\"data row13 col11\" >0.421836<\/td>\n",
       "      <td id=\"T_5f4d8_row13_col12\" class=\"data row13 col12\" >0.234185<\/td>\n",
       "      <td id=\"T_5f4d8_row13_col13\" class=\"data row13 col13\" >1.000000<\/td>\n",
       "      <td id=\"T_5f4d8_row13_col14\" class=\"data row13 col14\" >0.378376<\/td>\n",
       "      <td id=\"T_5f4d8_row13_col15\" class=\"data row13 col15\" >0.502713<\/td>\n",
       "      <td id=\"T_5f4d8_row13_col16\" class=\"data row13 col16\" >-0.055846<\/td>\n",
       "      <td id=\"T_5f4d8_row13_col17\" class=\"data row13 col17\" >0.042176<\/td>\n",
       "      <td id=\"T_5f4d8_row13_col18\" class=\"data row13 col18\" >0.155903<\/td>\n",
       "      <td id=\"T_5f4d8_row13_col19\" class=\"data row13 col19\" >0.138684<\/td>\n",
       "      <td id=\"T_5f4d8_row13_col20\" class=\"data row13 col20\" >0.155143<\/td>\n",
       "      <td id=\"T_5f4d8_row13_col21\" class=\"data row13 col21\" >0.034188<\/td>\n",
       "      <td id=\"T_5f4d8_row13_col22\" class=\"data row13 col22\" >-0.016310<\/td>\n",
       "      <td id=\"T_5f4d8_row13_col23\" class=\"data row13 col23\" >nan<\/td>\n",
       "      <td id=\"T_5f4d8_row13_col24\" class=\"data row13 col24\" >nan<\/td>\n",
       "      <td id=\"T_5f4d8_row13_col25\" class=\"data row13 col25\" >0.148730<\/td>\n",
       "    <\/tr>\n",
       "    <tr>\n",
       "      <th id=\"T_5f4d8_level0_row14\" class=\"row_heading level0 row14\" >NumCatalogPurchases<\/th>\n",
       "      <td id=\"T_5f4d8_row14_col0\" class=\"data row14 col0\" >-0.003440<\/td>\n",
       "      <td id=\"T_5f4d8_row14_col1\" class=\"data row14 col1\" >-0.121275<\/td>\n",
       "      <td id=\"T_5f4d8_row14_col2\" class=\"data row14 col2\" >0.589162<\/td>\n",
       "      <td id=\"T_5f4d8_row14_col3\" class=\"data row14 col3\" >-0.502237<\/td>\n",
       "      <td id=\"T_5f4d8_row14_col4\" class=\"data row14 col4\" >-0.110769<\/td>\n",
       "      <td id=\"T_5f4d8_row14_col5\" class=\"data row14 col5\" >0.025110<\/td>\n",
       "      <td id=\"T_5f4d8_row14_col6\" class=\"data row14 col6\" >0.635226<\/td>\n",
       "      <td id=\"T_5f4d8_row14_col7\" class=\"data row14 col7\" >0.487917<\/td>\n",
       "      <td id=\"T_5f4d8_row14_col8\" class=\"data row14 col8\" >0.723827<\/td>\n",
       "      <td id=\"T_5f4d8_row14_col9\" class=\"data row14 col9\" >0.534478<\/td>\n",
       "      <td id=\"T_5f4d8_row14_col10\" class=\"data row14 col10\" >0.490924<\/td>\n",
       "      <td id=\"T_5f4d8_row14_col11\" class=\"data row14 col11\" >0.437697<\/td>\n",
       "      <td id=\"T_5f4d8_row14_col12\" class=\"data row14 col12\" >-0.008617<\/td>\n",
       "      <td id=\"T_5f4d8_row14_col13\" class=\"data row14 col13\" >0.378376<\/td>\n",
       "      <td id=\"T_5f4d8_row14_col14\" class=\"data row14 col14\" >1.000000<\/td>\n",
       "      <td id=\"T_5f4d8_row14_col15\" class=\"data row14 col15\" >0.518738<\/td>\n",
       "      <td id=\"T_5f4d8_row14_col16\" class=\"data row14 col16\" >-0.520364<\/td>\n",
       "      <td id=\"T_5f4d8_row14_col17\" class=\"data row14 col17\" >0.104730<\/td>\n",
       "      <td id=\"T_5f4d8_row14_col18\" class=\"data row14 col18\" >0.139247<\/td>\n",
       "      <td id=\"T_5f4d8_row14_col19\" class=\"data row14 col19\" >0.322321<\/td>\n",
       "      <td id=\"T_5f4d8_row14_col20\" class=\"data row14 col20\" >0.308097<\/td>\n",
       "      <td id=\"T_5f4d8_row14_col21\" class=\"data row14 col21\" >0.099852<\/td>\n",
       "      <td id=\"T_5f4d8_row14_col22\" class=\"data row14 col22\" >-0.020453<\/td>\n",
       "      <td id=\"T_5f4d8_row14_col23\" class=\"data row14 col23\" >nan<\/td>\n",
       "      <td id=\"T_5f4d8_row14_col24\" class=\"data row14 col24\" >nan<\/td>\n",
       "      <td id=\"T_5f4d8_row14_col25\" class=\"data row14 col25\" >0.220810<\/td>\n",
       "    <\/tr>\n",
       "    <tr>\n",
       "      <th id=\"T_5f4d8_level0_row15\" class=\"row_heading level0 row15\" >NumStorePurchases<\/th>\n",
       "      <td id=\"T_5f4d8_row15_col0\" class=\"data row15 col0\" >-0.014927<\/td>\n",
       "      <td id=\"T_5f4d8_row15_col1\" class=\"data row15 col1\" >-0.128272<\/td>\n",
       "      <td id=\"T_5f4d8_row15_col2\" class=\"data row15 col2\" >0.529362<\/td>\n",
       "      <td id=\"T_5f4d8_row15_col3\" class=\"data row15 col3\" >-0.499683<\/td>\n",
       "      <td id=\"T_5f4d8_row15_col4\" class=\"data row15 col4\" >0.050695<\/td>\n",
       "      <td id=\"T_5f4d8_row15_col5\" class=\"data row15 col5\" >0.000799<\/td>\n",
       "      <td id=\"T_5f4d8_row15_col6\" class=\"data row15 col6\" >0.642100<\/td>\n",
       "      <td id=\"T_5f4d8_row15_col7\" class=\"data row15 col7\" >0.461758<\/td>\n",
       "      <td id=\"T_5f4d8_row15_col8\" class=\"data row15 col8\" >0.479659<\/td>\n",
       "      <td id=\"T_5f4d8_row15_col9\" class=\"data row15 col9\" >0.459855<\/td>\n",
       "      <td id=\"T_5f4d8_row15_col10\" class=\"data row15 col10\" >0.448756<\/td>\n",
       "      <td id=\"T_5f4d8_row15_col11\" class=\"data row15 col11\" >0.381678<\/td>\n",
       "      <td id=\"T_5f4d8_row15_col12\" class=\"data row15 col12\" >0.068879<\/td>\n",
       "      <td id=\"T_5f4d8_row15_col13\" class=\"data row15 col13\" >0.502713<\/td>\n",
       "      <td id=\"T_5f4d8_row15_col14\" class=\"data row15 col14\" >0.518738<\/td>\n",
       "      <td id=\"T_5f4d8_row15_col15\" class=\"data row15 col15\" >1.000000<\/td>\n",
       "      <td id=\"T_5f4d8_row15_col16\" class=\"data row15 col16\" >-0.428473<\/td>\n",
       "      <td id=\"T_5f4d8_row15_col17\" class=\"data row15 col17\" >-0.067577<\/td>\n",
       "      <td id=\"T_5f4d8_row15_col18\" class=\"data row15 col18\" >0.179379<\/td>\n",
       "      <td id=\"T_5f4d8_row15_col19\" class=\"data row15 col19\" >0.214790<\/td>\n",
       "      <td id=\"T_5f4d8_row15_col20\" class=\"data row15 col20\" >0.183249<\/td>\n",
       "      <td id=\"T_5f4d8_row15_col21\" class=\"data row15 col21\" >0.085189<\/td>\n",
       "      <td id=\"T_5f4d8_row15_col22\" class=\"data row15 col22\" >-0.016524<\/td>\n",
       "      <td id=\"T_5f4d8_row15_col23\" class=\"data row15 col23\" >nan<\/td>\n",
       "      <td id=\"T_5f4d8_row15_col24\" class=\"data row15 col24\" >nan<\/td>\n",
       "      <td id=\"T_5f4d8_row15_col25\" class=\"data row15 col25\" >0.039363<\/td>\n",
       "    <\/tr>\n",
       "    <tr>\n",
       "      <th id=\"T_5f4d8_level0_row16\" class=\"row_heading level0 row16\" >NumWebVisitsMonth<\/th>\n",
       "      <td id=\"T_5f4d8_row16_col0\" class=\"data row16 col0\" >-0.007446<\/td>\n",
       "      <td id=\"T_5f4d8_row16_col1\" class=\"data row16 col1\" >0.121139<\/td>\n",
       "      <td id=\"T_5f4d8_row16_col2\" class=\"data row16 col2\" >-0.553088<\/td>\n",
       "      <td id=\"T_5f4d8_row16_col3\" class=\"data row16 col3\" >0.447846<\/td>\n",
       "      <td id=\"T_5f4d8_row16_col4\" class=\"data row16 col4\" >0.134884<\/td>\n",
       "      <td id=\"T_5f4d8_row16_col5\" class=\"data row16 col5\" >-0.021445<\/td>\n",
       "      <td id=\"T_5f4d8_row16_col6\" class=\"data row16 col6\" >-0.320653<\/td>\n",
       "      <td id=\"T_5f4d8_row16_col7\" class=\"data row16 col7\" >-0.418383<\/td>\n",
       "      <td id=\"T_5f4d8_row16_col8\" class=\"data row16 col8\" >-0.539470<\/td>\n",
       "      <td id=\"T_5f4d8_row16_col9\" class=\"data row16 col9\" >-0.446003<\/td>\n",
       "      <td id=\"T_5f4d8_row16_col10\" class=\"data row16 col10\" >-0.423294<\/td>\n",
       "      <td id=\"T_5f4d8_row16_col11\" class=\"data row16 col11\" >-0.250719<\/td>\n",
       "      <td id=\"T_5f4d8_row16_col12\" class=\"data row16 col12\" >0.347633<\/td>\n",
       "      <td id=\"T_5f4d8_row16_col13\" class=\"data row16 col13\" >-0.055846<\/td>\n",
       "      <td id=\"T_5f4d8_row16_col14\" class=\"data row16 col14\" >-0.520364<\/td>\n",
       "      <td id=\"T_5f4d8_row16_col15\" class=\"data row16 col15\" >-0.428473<\/td>\n",
       "      <td id=\"T_5f4d8_row16_col16\" class=\"data row16 col16\" >1.000000<\/td>\n",
       "      <td id=\"T_5f4d8_row16_col17\" class=\"data row16 col17\" >0.061211<\/td>\n",
       "      <td id=\"T_5f4d8_row16_col18\" class=\"data row16 col18\" >-0.032126<\/td>\n",
       "      <td id=\"T_5f4d8_row16_col19\" class=\"data row16 col19\" >-0.278113<\/td>\n",
       "      <td id=\"T_5f4d8_row16_col20\" class=\"data row16 col20\" >-0.192502<\/td>\n",
       "      <td id=\"T_5f4d8_row16_col21\" class=\"data row16 col21\" >-0.007196<\/td>\n",
       "      <td id=\"T_5f4d8_row16_col22\" class=\"data row16 col22\" >0.019769<\/td>\n",
       "      <td id=\"T_5f4d8_row16_col23\" class=\"data row16 col23\" >nan<\/td>\n",
       "      <td id=\"T_5f4d8_row16_col24\" class=\"data row16 col24\" >nan<\/td>\n",
       "      <td id=\"T_5f4d8_row16_col25\" class=\"data row16 col25\" >-0.003987<\/td>\n",
       "    <\/tr>\n",
       "    <tr>\n",
       "      <th id=\"T_5f4d8_level0_row17\" class=\"row_heading level0 row17\" >AcceptedCmp3<\/th>\n",
       "      <td id=\"T_5f4d8_row17_col0\" class=\"data row17 col0\" >-0.036040<\/td>\n",
       "      <td id=\"T_5f4d8_row17_col1\" class=\"data row17 col1\" >0.061774<\/td>\n",
       "      <td id=\"T_5f4d8_row17_col2\" class=\"data row17 col2\" >-0.016174<\/td>\n",
       "      <td id=\"T_5f4d8_row17_col3\" class=\"data row17 col3\" >0.014674<\/td>\n",
       "      <td id=\"T_5f4d8_row17_col4\" class=\"data row17 col4\" >-0.042677<\/td>\n",
       "      <td id=\"T_5f4d8_row17_col5\" class=\"data row17 col5\" >-0.032991<\/td>\n",
       "      <td id=\"T_5f4d8_row17_col6\" class=\"data row17 col6\" >0.062202<\/td>\n",
       "      <td id=\"T_5f4d8_row17_col7\" class=\"data row17 col7\" >0.014727<\/td>\n",
       "      <td id=\"T_5f4d8_row17_col8\" class=\"data row17 col8\" >0.018272<\/td>\n",
       "      <td id=\"T_5f4d8_row17_col9\" class=\"data row17 col9\" >0.000357<\/td>\n",
       "      <td id=\"T_5f4d8_row17_col10\" class=\"data row17 col10\" >0.001530<\/td>\n",
       "      <td id=\"T_5f4d8_row17_col11\" class=\"data row17 col11\" >0.123091<\/td>\n",
       "      <td id=\"T_5f4d8_row17_col12\" class=\"data row17 col12\" >-0.023109<\/td>\n",
       "      <td id=\"T_5f4d8_row17_col13\" class=\"data row17 col13\" >0.042176<\/td>\n",
       "      <td id=\"T_5f4d8_row17_col14\" class=\"data row17 col14\" >0.104730<\/td>\n",
       "      <td id=\"T_5f4d8_row17_col15\" class=\"data row17 col15\" >-0.067577<\/td>\n",
       "      <td id=\"T_5f4d8_row17_col16\" class=\"data row17 col16\" >0.061211<\/td>\n",
       "      <td id=\"T_5f4d8_row17_col17\" class=\"data row17 col17\" >1.000000<\/td>\n",
       "      <td id=\"T_5f4d8_row17_col18\" class=\"data row17 col18\" >-0.079512<\/td>\n",
       "      <td id=\"T_5f4d8_row17_col19\" class=\"data row17 col19\" >0.080316<\/td>\n",
       "      <td id=\"T_5f4d8_row17_col20\" class=\"data row17 col20\" >0.094751<\/td>\n",
       "      <td id=\"T_5f4d8_row17_col21\" class=\"data row17 col21\" >0.072020<\/td>\n",
       "      <td id=\"T_5f4d8_row17_col22\" class=\"data row17 col22\" >0.008415<\/td>\n",
       "      <td id=\"T_5f4d8_row17_col23\" class=\"data row17 col23\" >nan<\/td>\n",
       "      <td id=\"T_5f4d8_row17_col24\" class=\"data row17 col24\" >nan<\/td>\n",
       "      <td id=\"T_5f4d8_row17_col25\" class=\"data row17 col25\" >0.254258<\/td>\n",
       "    <\/tr>\n",
       "    <tr>\n",
       "      <th id=\"T_5f4d8_level0_row18\" class=\"row_heading level0 row18\" >AcceptedCmp4<\/th>\n",
       "      <td id=\"T_5f4d8_row18_col0\" class=\"data row18 col0\" >-0.025387<\/td>\n",
       "      <td id=\"T_5f4d8_row18_col1\" class=\"data row18 col1\" >-0.060510<\/td>\n",
       "      <td id=\"T_5f4d8_row18_col2\" class=\"data row18 col2\" >0.184400<\/td>\n",
       "      <td id=\"T_5f4d8_row18_col3\" class=\"data row18 col3\" >-0.161600<\/td>\n",
       "      <td id=\"T_5f4d8_row18_col4\" class=\"data row18 col4\" >0.038886<\/td>\n",
       "      <td id=\"T_5f4d8_row18_col5\" class=\"data row18 col5\" >0.018826<\/td>\n",
       "      <td id=\"T_5f4d8_row18_col6\" class=\"data row18 col6\" >0.373286<\/td>\n",
       "      <td id=\"T_5f4d8_row18_col7\" class=\"data row18 col7\" >0.010152<\/td>\n",
       "      <td id=\"T_5f4d8_row18_col8\" class=\"data row18 col8\" >0.102912<\/td>\n",
       "      <td id=\"T_5f4d8_row18_col9\" class=\"data row18 col9\" >0.016843<\/td>\n",
       "      <td id=\"T_5f4d8_row18_col10\" class=\"data row18 col10\" >0.028641<\/td>\n",
       "      <td id=\"T_5f4d8_row18_col11\" class=\"data row18 col11\" >0.022268<\/td>\n",
       "      <td id=\"T_5f4d8_row18_col12\" class=\"data row18 col12\" >0.015594<\/td>\n",
       "      <td id=\"T_5f4d8_row18_col13\" class=\"data row18 col13\" >0.155903<\/td>\n",
       "      <td id=\"T_5f4d8_row18_col14\" class=\"data row18 col14\" >0.139247<\/td>\n",
       "      <td id=\"T_5f4d8_row18_col15\" class=\"data row18 col15\" >0.179379<\/td>\n",
       "      <td id=\"T_5f4d8_row18_col16\" class=\"data row18 col16\" >-0.032126<\/td>\n",
       "      <td id=\"T_5f4d8_row18_col17\" class=\"data row18 col17\" >-0.079512<\/td>\n",
       "      <td id=\"T_5f4d8_row18_col18\" class=\"data row18 col18\" >1.000000<\/td>\n",
       "      <td id=\"T_5f4d8_row18_col19\" class=\"data row18 col19\" >0.306526<\/td>\n",
       "      <td id=\"T_5f4d8_row18_col20\" class=\"data row18 col20\" >0.251300<\/td>\n",
       "      <td id=\"T_5f4d8_row18_col21\" class=\"data row18 col21\" >0.292210<\/td>\n",
       "      <td id=\"T_5f4d8_row18_col22\" class=\"data row18 col22\" >-0.027611<\/td>\n",
       "      <td id=\"T_5f4d8_row18_col23\" class=\"data row18 col23\" >nan<\/td>\n",
       "      <td id=\"T_5f4d8_row18_col24\" class=\"data row18 col24\" >nan<\/td>\n",
       "      <td id=\"T_5f4d8_row18_col25\" class=\"data row18 col25\" >0.177019<\/td>\n",
       "    <\/tr>\n",
       "    <tr>\n",
       "      <th id=\"T_5f4d8_level0_row19\" class=\"row_heading level0 row19\" >AcceptedCmp5<\/th>\n",
       "      <td id=\"T_5f4d8_row19_col0\" class=\"data row19 col0\" >-0.007517<\/td>\n",
       "      <td id=\"T_5f4d8_row19_col1\" class=\"data row19 col1\" >0.007123<\/td>\n",
       "      <td id=\"T_5f4d8_row19_col2\" class=\"data row19 col2\" >0.335943<\/td>\n",
       "      <td id=\"T_5f4d8_row19_col3\" class=\"data row19 col3\" >-0.205634<\/td>\n",
       "      <td id=\"T_5f4d8_row19_col4\" class=\"data row19 col4\" >-0.191050<\/td>\n",
       "      <td id=\"T_5f4d8_row19_col5\" class=\"data row19 col5\" >0.000129<\/td>\n",
       "      <td id=\"T_5f4d8_row19_col6\" class=\"data row19 col6\" >0.472613<\/td>\n",
       "      <td id=\"T_5f4d8_row19_col7\" class=\"data row19 col7\" >0.215833<\/td>\n",
       "      <td id=\"T_5f4d8_row19_col8\" class=\"data row19 col8\" >0.373769<\/td>\n",
       "      <td id=\"T_5f4d8_row19_col9\" class=\"data row19 col9\" >0.199578<\/td>\n",
       "      <td id=\"T_5f4d8_row19_col10\" class=\"data row19 col10\" >0.259590<\/td>\n",
       "      <td id=\"T_5f4d8_row19_col11\" class=\"data row19 col11\" >0.181021<\/td>\n",
       "      <td id=\"T_5f4d8_row19_col12\" class=\"data row19 col12\" >-0.183248<\/td>\n",
       "      <td id=\"T_5f4d8_row19_col13\" class=\"data row19 col13\" >0.138684<\/td>\n",
       "      <td id=\"T_5f4d8_row19_col14\" class=\"data row19 col14\" >0.322321<\/td>\n",
       "      <td id=\"T_5f4d8_row19_col15\" class=\"data row19 col15\" >0.214790<\/td>\n",
       "      <td id=\"T_5f4d8_row19_col16\" class=\"data row19 col16\" >-0.278113<\/td>\n",
       "      <td id=\"T_5f4d8_row19_col17\" class=\"data row19 col17\" >0.080316<\/td>\n",
       "      <td id=\"T_5f4d8_row19_col18\" class=\"data row19 col18\" >0.306526<\/td>\n",
       "      <td id=\"T_5f4d8_row19_col19\" class=\"data row19 col19\" >1.000000<\/td>\n",
       "      <td id=\"T_5f4d8_row19_col20\" class=\"data row19 col20\" >0.403078<\/td>\n",
       "      <td id=\"T_5f4d8_row19_col21\" class=\"data row19 col21\" >0.221533<\/td>\n",
       "      <td id=\"T_5f4d8_row19_col22\" class=\"data row19 col22\" >-0.009419<\/td>\n",
       "      <td id=\"T_5f4d8_row19_col23\" class=\"data row19 col23\" >nan<\/td>\n",
       "      <td id=\"T_5f4d8_row19_col24\" class=\"data row19 col24\" >nan<\/td>\n",
       "      <td id=\"T_5f4d8_row19_col25\" class=\"data row19 col25\" >0.326634<\/td>\n",
       "    <\/tr>\n",
       "    <tr>\n",
       "      <th id=\"T_5f4d8_level0_row20\" class=\"row_heading level0 row20\" >AcceptedCmp1<\/th>\n",
       "      <td id=\"T_5f4d8_row20_col0\" class=\"data row20 col0\" >-0.021614<\/td>\n",
       "      <td id=\"T_5f4d8_row20_col1\" class=\"data row20 col1\" >-0.005930<\/td>\n",
       "      <td id=\"T_5f4d8_row20_col2\" class=\"data row20 col2\" >0.276820<\/td>\n",
       "      <td id=\"T_5f4d8_row20_col3\" class=\"data row20 col3\" >-0.172339<\/td>\n",
       "      <td id=\"T_5f4d8_row20_col4\" class=\"data row20 col4\" >-0.140090<\/td>\n",
       "      <td id=\"T_5f4d8_row20_col5\" class=\"data row20 col5\" >-0.019283<\/td>\n",
       "      <td id=\"T_5f4d8_row20_col6\" class=\"data row20 col6\" >0.354133<\/td>\n",
       "      <td id=\"T_5f4d8_row20_col7\" class=\"data row20 col7\" >0.194748<\/td>\n",
       "      <td id=\"T_5f4d8_row20_col8\" class=\"data row20 col8\" >0.309761<\/td>\n",
       "      <td id=\"T_5f4d8_row20_col9\" class=\"data row20 col9\" >0.260762<\/td>\n",
       "      <td id=\"T_5f4d8_row20_col10\" class=\"data row20 col10\" >0.241818<\/td>\n",
       "      <td id=\"T_5f4d8_row20_col11\" class=\"data row20 col11\" >0.166396<\/td>\n",
       "      <td id=\"T_5f4d8_row20_col12\" class=\"data row20 col12\" >-0.123244<\/td>\n",
       "      <td id=\"T_5f4d8_row20_col13\" class=\"data row20 col13\" >0.155143<\/td>\n",
       "      <td id=\"T_5f4d8_row20_col14\" class=\"data row20 col14\" >0.308097<\/td>\n",
       "      <td id=\"T_5f4d8_row20_col15\" class=\"data row20 col15\" >0.183249<\/td>\n",
       "      <td id=\"T_5f4d8_row20_col16\" class=\"data row20 col16\" >-0.192502<\/td>\n",
       "      <td id=\"T_5f4d8_row20_col17\" class=\"data row20 col17\" >0.094751<\/td>\n",
       "      <td id=\"T_5f4d8_row20_col18\" class=\"data row20 col18\" >0.251300<\/td>\n",
       "      <td id=\"T_5f4d8_row20_col19\" class=\"data row20 col19\" >0.403078<\/td>\n",
       "      <td id=\"T_5f4d8_row20_col20\" class=\"data row20 col20\" >1.000000<\/td>\n",
       "      <td id=\"T_5f4d8_row20_col21\" class=\"data row20 col21\" >0.175315<\/td>\n",
       "      <td id=\"T_5f4d8_row20_col22\" class=\"data row20 col22\" >-0.025499<\/td>\n",
       "      <td id=\"T_5f4d8_row20_col23\" class=\"data row20 col23\" >nan<\/td>\n",
       "      <td id=\"T_5f4d8_row20_col24\" class=\"data row20 col24\" >nan<\/td>\n",
       "      <td id=\"T_5f4d8_row20_col25\" class=\"data row20 col25\" >0.293982<\/td>\n",
       "    <\/tr>\n",
       "    <tr>\n",
       "      <th id=\"T_5f4d8_level0_row21\" class=\"row_heading level0 row21\" >AcceptedCmp2<\/th>\n",
       "      <td id=\"T_5f4d8_row21_col0\" class=\"data row21 col0\" >-0.015061<\/td>\n",
       "      <td id=\"T_5f4d8_row21_col1\" class=\"data row21 col1\" >-0.006539<\/td>\n",
       "      <td id=\"T_5f4d8_row21_col2\" class=\"data row21 col2\" >0.087545<\/td>\n",
       "      <td id=\"T_5f4d8_row21_col3\" class=\"data row21 col3\" >-0.081716<\/td>\n",
       "      <td id=\"T_5f4d8_row21_col4\" class=\"data row21 col4\" >-0.015605<\/td>\n",
       "      <td id=\"T_5f4d8_row21_col5\" class=\"data row21 col5\" >-0.001781<\/td>\n",
       "      <td id=\"T_5f4d8_row21_col6\" class=\"data row21 col6\" >0.205907<\/td>\n",
       "      <td id=\"T_5f4d8_row21_col7\" class=\"data row21 col7\" >-0.009773<\/td>\n",
       "      <td id=\"T_5f4d8_row21_col8\" class=\"data row21 col8\" >0.043033<\/td>\n",
       "      <td id=\"T_5f4d8_row21_col9\" class=\"data row21 col9\" >0.002577<\/td>\n",
       "      <td id=\"T_5f4d8_row21_col10\" class=\"data row21 col10\" >0.009985<\/td>\n",
       "      <td id=\"T_5f4d8_row21_col11\" class=\"data row21 col11\" >0.049990<\/td>\n",
       "      <td id=\"T_5f4d8_row21_col12\" class=\"data row21 col12\" >-0.037695<\/td>\n",
       "      <td id=\"T_5f4d8_row21_col13\" class=\"data row21 col13\" >0.034188<\/td>\n",
       "      <td id=\"T_5f4d8_row21_col14\" class=\"data row21 col14\" >0.099852<\/td>\n",
       "      <td id=\"T_5f4d8_row21_col15\" class=\"data row21 col15\" >0.085189<\/td>\n",
       "      <td id=\"T_5f4d8_row21_col16\" class=\"data row21 col16\" >-0.007196<\/td>\n",
       "      <td id=\"T_5f4d8_row21_col17\" class=\"data row21 col17\" >0.072020<\/td>\n",
       "      <td id=\"T_5f4d8_row21_col18\" class=\"data row21 col18\" >0.292210<\/td>\n",
       "      <td id=\"T_5f4d8_row21_col19\" class=\"data row21 col19\" >0.221533<\/td>\n",
       "      <td id=\"T_5f4d8_row21_col20\" class=\"data row21 col20\" >0.175315<\/td>\n",
       "      <td id=\"T_5f4d8_row21_col21\" class=\"data row21 col21\" >1.000000<\/td>\n",
       "      <td id=\"T_5f4d8_row21_col22\" class=\"data row21 col22\" >-0.011334<\/td>\n",
       "      <td id=\"T_5f4d8_row21_col23\" class=\"data row21 col23\" >nan<\/td>\n",
       "      <td id=\"T_5f4d8_row21_col24\" class=\"data row21 col24\" >nan<\/td>\n",
       "      <td id=\"T_5f4d8_row21_col25\" class=\"data row21 col25\" >0.169293<\/td>\n",
       "    <\/tr>\n",
       "    <tr>\n",
       "      <th id=\"T_5f4d8_level0_row22\" class=\"row_heading level0 row22\" >Complain<\/th>\n",
       "      <td id=\"T_5f4d8_row22_col0\" class=\"data row22 col0\" >0.033883<\/td>\n",
       "      <td id=\"T_5f4d8_row22_col1\" class=\"data row22 col1\" >-0.030128<\/td>\n",
       "      <td id=\"T_5f4d8_row22_col2\" class=\"data row22 col2\" >-0.027225<\/td>\n",
       "      <td id=\"T_5f4d8_row22_col3\" class=\"data row22 col3\" >0.040207<\/td>\n",
       "      <td id=\"T_5f4d8_row22_col4\" class=\"data row22 col4\" >0.003138<\/td>\n",
       "      <td id=\"T_5f4d8_row22_col5\" class=\"data row22 col5\" >0.013231<\/td>\n",
       "      <td id=\"T_5f4d8_row22_col6\" class=\"data row22 col6\" >-0.039007<\/td>\n",
       "      <td id=\"T_5f4d8_row22_col7\" class=\"data row22 col7\" >-0.005166<\/td>\n",
       "      <td id=\"T_5f4d8_row22_col8\" class=\"data row22 col8\" >-0.023483<\/td>\n",
       "      <td id=\"T_5f4d8_row22_col9\" class=\"data row22 col9\" >-0.020953<\/td>\n",
       "      <td id=\"T_5f4d8_row22_col10\" class=\"data row22 col10\" >-0.022485<\/td>\n",
       "      <td id=\"T_5f4d8_row22_col11\" class=\"data row22 col11\" >-0.030861<\/td>\n",
       "      <td id=\"T_5f4d8_row22_col12\" class=\"data row22 col12\" >0.000420<\/td>\n",
       "      <td id=\"T_5f4d8_row22_col13\" class=\"data row22 col13\" >-0.016310<\/td>\n",
       "      <td id=\"T_5f4d8_row22_col14\" class=\"data row22 col14\" >-0.020453<\/td>\n",
       "      <td id=\"T_5f4d8_row22_col15\" class=\"data row22 col15\" >-0.016524<\/td>\n",
       "      <td id=\"T_5f4d8_row22_col16\" class=\"data row22 col16\" >0.019769<\/td>\n",
       "      <td id=\"T_5f4d8_row22_col17\" class=\"data row22 col17\" >0.008415<\/td>\n",
       "      <td id=\"T_5f4d8_row22_col18\" class=\"data row22 col18\" >-0.027611<\/td>\n",
       "      <td id=\"T_5f4d8_row22_col19\" class=\"data row22 col19\" >-0.009419<\/td>\n",
       "      <td id=\"T_5f4d8_row22_col20\" class=\"data row22 col20\" >-0.025499<\/td>\n",
       "      <td id=\"T_5f4d8_row22_col21\" class=\"data row22 col21\" >-0.011334<\/td>\n",
       "      <td id=\"T_5f4d8_row22_col22\" class=\"data row22 col22\" >1.000000<\/td>\n",
       "      <td id=\"T_5f4d8_row22_col23\" class=\"data row22 col23\" >nan<\/td>\n",
       "      <td id=\"T_5f4d8_row22_col24\" class=\"data row22 col24\" >nan<\/td>\n",
       "      <td id=\"T_5f4d8_row22_col25\" class=\"data row22 col25\" >-0.001707<\/td>\n",
       "    <\/tr>\n",
       "    <tr>\n",
       "      <th id=\"T_5f4d8_level0_row23\" class=\"row_heading level0 row23\" >Z_CostContact<\/th>\n",
       "      <td id=\"T_5f4d8_row23_col0\" class=\"data row23 col0\" >nan<\/td>\n",
       "      <td id=\"T_5f4d8_row23_col1\" class=\"data row23 col1\" >nan<\/td>\n",
       "      <td id=\"T_5f4d8_row23_col2\" class=\"data row23 col2\" >nan<\/td>\n",
       "      <td id=\"T_5f4d8_row23_col3\" class=\"data row23 col3\" >nan<\/td>\n",
       "      <td id=\"T_5f4d8_row23_col4\" class=\"data row23 col4\" >nan<\/td>\n",
       "      <td id=\"T_5f4d8_row23_col5\" class=\"data row23 col5\" >nan<\/td>\n",
       "      <td id=\"T_5f4d8_row23_col6\" class=\"data row23 col6\" >nan<\/td>\n",
       "      <td id=\"T_5f4d8_row23_col7\" class=\"data row23 col7\" >nan<\/td>\n",
       "      <td id=\"T_5f4d8_row23_col8\" class=\"data row23 col8\" >nan<\/td>\n",
       "      <td id=\"T_5f4d8_row23_col9\" class=\"data row23 col9\" >nan<\/td>\n",
       "      <td id=\"T_5f4d8_row23_col10\" class=\"data row23 col10\" >nan<\/td>\n",
       "      <td id=\"T_5f4d8_row23_col11\" class=\"data row23 col11\" >nan<\/td>\n",
       "      <td id=\"T_5f4d8_row23_col12\" class=\"data row23 col12\" >nan<\/td>\n",
       "      <td id=\"T_5f4d8_row23_col13\" class=\"data row23 col13\" >nan<\/td>\n",
       "      <td id=\"T_5f4d8_row23_col14\" class=\"data row23 col14\" >nan<\/td>\n",
       "      <td id=\"T_5f4d8_row23_col15\" class=\"data row23 col15\" >nan<\/td>\n",
       "      <td id=\"T_5f4d8_row23_col16\" class=\"data row23 col16\" >nan<\/td>\n",
       "      <td id=\"T_5f4d8_row23_col17\" class=\"data row23 col17\" >nan<\/td>\n",
       "      <td id=\"T_5f4d8_row23_col18\" class=\"data row23 col18\" >nan<\/td>\n",
       "      <td id=\"T_5f4d8_row23_col19\" class=\"data row23 col19\" >nan<\/td>\n",
       "      <td id=\"T_5f4d8_row23_col20\" class=\"data row23 col20\" >nan<\/td>\n",
       "      <td id=\"T_5f4d8_row23_col21\" class=\"data row23 col21\" >nan<\/td>\n",
       "      <td id=\"T_5f4d8_row23_col22\" class=\"data row23 col22\" >nan<\/td>\n",
       "      <td id=\"T_5f4d8_row23_col23\" class=\"data row23 col23\" >nan<\/td>\n",
       "      <td id=\"T_5f4d8_row23_col24\" class=\"data row23 col24\" >nan<\/td>\n",
       "      <td id=\"T_5f4d8_row23_col25\" class=\"data row23 col25\" >nan<\/td>\n",
       "    <\/tr>\n",
       "    <tr>\n",
       "      <th id=\"T_5f4d8_level0_row24\" class=\"row_heading level0 row24\" >Z_Revenue<\/th>\n",
       "      <td id=\"T_5f4d8_row24_col0\" class=\"data row24 col0\" >nan<\/td>\n",
       "      <td id=\"T_5f4d8_row24_col1\" class=\"data row24 col1\" >nan<\/td>\n",
       "      <td id=\"T_5f4d8_row24_col2\" class=\"data row24 col2\" >nan<\/td>\n",
       "      <td id=\"T_5f4d8_row24_col3\" class=\"data row24 col3\" >nan<\/td>\n",
       "      <td id=\"T_5f4d8_row24_col4\" class=\"data row24 col4\" >nan<\/td>\n",
       "      <td id=\"T_5f4d8_row24_col5\" class=\"data row24 col5\" >nan<\/td>\n",
       "      <td id=\"T_5f4d8_row24_col6\" class=\"data row24 col6\" >nan<\/td>\n",
       "      <td id=\"T_5f4d8_row24_col7\" class=\"data row24 col7\" >nan<\/td>\n",
       "      <td id=\"T_5f4d8_row24_col8\" class=\"data row24 col8\" >nan<\/td>\n",
       "      <td id=\"T_5f4d8_row24_col9\" class=\"data row24 col9\" >nan<\/td>\n",
       "      <td id=\"T_5f4d8_row24_col10\" class=\"data row24 col10\" >nan<\/td>\n",
       "      <td id=\"T_5f4d8_row24_col11\" class=\"data row24 col11\" >nan<\/td>\n",
       "      <td id=\"T_5f4d8_row24_col12\" class=\"data row24 col12\" >nan<\/td>\n",
       "      <td id=\"T_5f4d8_row24_col13\" class=\"data row24 col13\" >nan<\/td>\n",
       "      <td id=\"T_5f4d8_row24_col14\" class=\"data row24 col14\" >nan<\/td>\n",
       "      <td id=\"T_5f4d8_row24_col15\" class=\"data row24 col15\" >nan<\/td>\n",
       "      <td id=\"T_5f4d8_row24_col16\" class=\"data row24 col16\" >nan<\/td>\n",
       "      <td id=\"T_5f4d8_row24_col17\" class=\"data row24 col17\" >nan<\/td>\n",
       "      <td id=\"T_5f4d8_row24_col18\" class=\"data row24 col18\" >nan<\/td>\n",
       "      <td id=\"T_5f4d8_row24_col19\" class=\"data row24 col19\" >nan<\/td>\n",
       "      <td id=\"T_5f4d8_row24_col20\" class=\"data row24 col20\" >nan<\/td>\n",
       "      <td id=\"T_5f4d8_row24_col21\" class=\"data row24 col21\" >nan<\/td>\n",
       "      <td id=\"T_5f4d8_row24_col22\" class=\"data row24 col22\" >nan<\/td>\n",
       "      <td id=\"T_5f4d8_row24_col23\" class=\"data row24 col23\" >nan<\/td>\n",
       "      <td id=\"T_5f4d8_row24_col24\" class=\"data row24 col24\" >nan<\/td>\n",
       "      <td id=\"T_5f4d8_row24_col25\" class=\"data row24 col25\" >nan<\/td>\n",
       "    <\/tr>\n",
       "    <tr>\n",
       "      <th id=\"T_5f4d8_level0_row25\" class=\"row_heading level0 row25\" >Response<\/th>\n",
       "      <td id=\"T_5f4d8_row25_col0\" class=\"data row25 col0\" >-0.021968<\/td>\n",
       "      <td id=\"T_5f4d8_row25_col1\" class=\"data row25 col1\" >0.021325<\/td>\n",
       "      <td id=\"T_5f4d8_row25_col2\" class=\"data row25 col2\" >0.133047<\/td>\n",
       "      <td id=\"T_5f4d8_row25_col3\" class=\"data row25 col3\" >-0.080008<\/td>\n",
       "      <td id=\"T_5f4d8_row25_col4\" class=\"data row25 col4\" >-0.154446<\/td>\n",
       "      <td id=\"T_5f4d8_row25_col5\" class=\"data row25 col5\" >-0.198437<\/td>\n",
       "      <td id=\"T_5f4d8_row25_col6\" class=\"data row25 col6\" >0.247254<\/td>\n",
       "      <td id=\"T_5f4d8_row25_col7\" class=\"data row25 col7\" >0.125289<\/td>\n",
       "      <td id=\"T_5f4d8_row25_col8\" class=\"data row25 col8\" >0.236335<\/td>\n",
       "      <td id=\"T_5f4d8_row25_col9\" class=\"data row25 col9\" >0.111331<\/td>\n",
       "      <td id=\"T_5f4d8_row25_col10\" class=\"data row25 col10\" >0.117372<\/td>\n",
       "      <td id=\"T_5f4d8_row25_col11\" class=\"data row25 col11\" >0.139850<\/td>\n",
       "      <td id=\"T_5f4d8_row25_col12\" class=\"data row25 col12\" >0.002238<\/td>\n",
       "      <td id=\"T_5f4d8_row25_col13\" class=\"data row25 col13\" >0.148730<\/td>\n",
       "      <td id=\"T_5f4d8_row25_col14\" class=\"data row25 col14\" >0.220810<\/td>\n",
       "      <td id=\"T_5f4d8_row25_col15\" class=\"data row25 col15\" >0.039363<\/td>\n",
       "      <td id=\"T_5f4d8_row25_col16\" class=\"data row25 col16\" >-0.003987<\/td>\n",
       "      <td id=\"T_5f4d8_row25_col17\" class=\"data row25 col17\" >0.254258<\/td>\n",
       "      <td id=\"T_5f4d8_row25_col18\" class=\"data row25 col18\" >0.177019<\/td>\n",
       "      <td id=\"T_5f4d8_row25_col19\" class=\"data row25 col19\" >0.326634<\/td>\n",
       "      <td id=\"T_5f4d8_row25_col20\" class=\"data row25 col20\" >0.293982<\/td>\n",
       "      <td id=\"T_5f4d8_row25_col21\" class=\"data row25 col21\" >0.169293<\/td>\n",
       "      <td id=\"T_5f4d8_row25_col22\" class=\"data row25 col22\" >-0.001707<\/td>\n",
       "      <td id=\"T_5f4d8_row25_col23\" class=\"data row25 col23\" >nan<\/td>\n",
       "      <td id=\"T_5f4d8_row25_col24\" class=\"data row25 col24\" >nan<\/td>\n",
       "      <td id=\"T_5f4d8_row25_col25\" class=\"data row25 col25\" >1.000000<\/td>\n",
       "    <\/tr>\n",
       "  <\/tbody>\n",
       "<\/table>\n"
      ]
     },
     "metadata":{
      
     },
     "output_type":"display_data"
    }
   ],
   "metadata":{
    "datalore":{
     "node_id":"26b4hy2pI8MAb6mOM5fXKk",
     "type":"CODE",
     "hide_input_from_viewers":false,
     "hide_output_from_viewers":false
    }
   }
  },
  {
   "cell_type":"code",
   "source":[
    "# Una versión con Plotly\n",
    "z = round(corr,4).values\n",
    "for i in range(z.shape[0]):\n",
    "    if i == (z.shape[0] - i - 1):\n",
    "        break\n",
    "    z[[i,(z.shape[0]-i-1)],:] = z[[(z.shape[0]-i-1),i],:]\n",
    "\n",
    "x = [x for x in df_num.columns]\n",
    "y = [x for x in df_num.columns ]\n",
    "y.reverse()\n",
    "\n",
    "z_text = [[str(y) for y in x] for x in z]\n",
    "\n",
    "heatmap = ff.create_annotated_heatmap(z, x=x, y=y, annotation_text=z_text, colorscale='fall')\n",
    "\n",
    "heatmap.show()"
   ],
   "execution_count":104,
   "outputs":[
    {
     "data":{
      "application\/vnd.plotly.v1+json":{
       "data":[
        {
         "colorscale":[
          [
           0,
           "rgb(61, 89, 65)"
          ],
          [
           0.16666666666666666,
           "rgb(119, 136, 104)"
          ],
          [
           0.3333333333333333,
           "rgb(181, 185, 145)"
          ],
          [
           0.5,
           "rgb(246, 237, 189)"
          ],
          [
           0.6666666666666666,
           "rgb(237, 187, 138)"
          ],
          [
           0.8333333333333334,
           "rgb(222, 138, 90)"
          ],
          [
           1,
           "rgb(202, 86, 44)"
          ]
         ],
         "reversescale":false,
         "showscale":false,
         "x":[
          "ID",
          "Year_Birth",
          "Income",
          "Kidhome",
          "Teenhome",
          "Recency",
          "MntWines",
          "MntFruits",
          "MntMeatProducts",
          "MntFishProducts",
          "MntSweetProducts",
          "MntGoldProds",
          "NumDealsPurchases",
          "NumWebPurchases",
          "NumCatalogPurchases",
          "NumStorePurchases",
          "NumWebVisitsMonth",
          "AcceptedCmp3",
          "AcceptedCmp4",
          "AcceptedCmp5",
          "AcceptedCmp1",
          "AcceptedCmp2",
          "Complain",
          "Z_CostContact",
          "Z_Revenue",
          "Response"
         ],
         "y":[
          "Response",
          "Z_Revenue",
          "Z_CostContact",
          "Complain",
          "AcceptedCmp2",
          "AcceptedCmp1",
          "AcceptedCmp5",
          "AcceptedCmp4",
          "AcceptedCmp3",
          "NumWebVisitsMonth",
          "NumStorePurchases",
          "NumCatalogPurchases",
          "NumWebPurchases",
          "NumDealsPurchases",
          "MntGoldProds",
          "MntSweetProducts",
          "MntFishProducts",
          "MntMeatProducts",
          "MntFruits",
          "MntWines",
          "Recency",
          "Teenhome",
          "Kidhome",
          "Income",
          "Year_Birth",
          "ID"
         ],
         "z":[
          [
           1,
           0,
           0.0131,
           0.0024,
           -0.0026,
           -0.0465,
           -0.0229,
           0.0046,
           -0.0044,
           -0.0245,
           -0.0076,
           -0.0134,
           -0.0372,
           -0.0189,
           -0.0034,
           -0.0149,
           -0.0074,
           -0.036,
           -0.0254,
           -0.0075,
           -0.0216,
           -0.0151,
           0.0339,
           null,
           null,
           -0.022
          ],
          [
           0,
           1,
           -0.1618,
           0.2302,
           -0.3521,
           -0.0199,
           -0.1578,
           -0.0179,
           -0.0309,
           -0.0416,
           -0.0181,
           -0.0618,
           -0.0608,
           -0.145,
           -0.1213,
           -0.1283,
           0.1211,
           0.0618,
           -0.0605,
           0.0071,
           -0.0059,
           -0.0065,
           -0.0301,
           null,
           null,
           0.0213
          ],
          [
           0.0131,
           -0.1618,
           1,
           -0.4287,
           0.0191,
           -0.004,
           0.5786,
           0.4308,
           0.5846,
           0.4389,
           0.4407,
           0.3259,
           -0.0831,
           0.3879,
           0.5892,
           0.5294,
           -0.5531,
           -0.0162,
           0.1844,
           0.3359,
           0.2768,
           0.0875,
           -0.0272,
           null,
           null,
           0.133
          ],
          [
           0.0024,
           0.2302,
           -0.4287,
           1,
           -0.0361,
           0.0088,
           -0.4963,
           -0.3726,
           -0.4371,
           -0.3876,
           -0.3707,
           -0.3496,
           0.2218,
           -0.3616,
           -0.5022,
           -0.4997,
           0.4478,
           0.0147,
           -0.1616,
           -0.2056,
           -0.1723,
           -0.0817,
           0.0402,
           null,
           null,
           -0.08
          ],
          [
           -0.0026,
           -0.3521,
           0.0191,
           -0.0361,
           1,
           0.0162,
           0.0048,
           -0.1768,
           -0.2612,
           -0.2042,
           -0.1625,
           -0.0217,
           0.3877,
           0.1555,
           -0.1108,
           0.0507,
           0.1349,
           -0.0427,
           0.0389,
           -0.191,
           -0.1401,
           -0.0156,
           0.0031,
           null,
           null,
           -0.1544
          ],
          [
           -0.0465,
           -0.0199,
           -0.004,
           0.0088,
           0.0162,
           1,
           0.0161,
           -0.0043,
           0.0231,
           0.0011,
           0.0227,
           0.0167,
           -0.0011,
           -0.0107,
           0.0251,
           8.0E-4,
           -0.0214,
           -0.033,
           0.0188,
           1.0E-4,
           -0.0193,
           -0.0018,
           0.0132,
           null,
           null,
           -0.1984
          ],
          [
           -0.0229,
           -0.1578,
           0.5786,
           -0.4963,
           0.0048,
           0.0161,
           1,
           0.3896,
           0.5627,
           0.3998,
           0.3866,
           0.3875,
           0.0109,
           0.5423,
           0.6352,
           0.6421,
           -0.3207,
           0.0622,
           0.3733,
           0.4726,
           0.3541,
           0.2059,
           -0.039,
           null,
           null,
           0.2473
          ],
          [
           0.0046,
           -0.0179,
           0.4308,
           -0.3726,
           -0.1768,
           -0.0043,
           0.3896,
           1,
           0.5431,
           0.5948,
           0.5672,
           0.393,
           -0.1321,
           0.2967,
           0.4879,
           0.4618,
           -0.4184,
           0.0147,
           0.0102,
           0.2158,
           0.1947,
           -0.0098,
           -0.0052,
           null,
           null,
           0.1253
          ],
          [
           -0.0044,
           -0.0309,
           0.5846,
           -0.4371,
           -0.2612,
           0.0231,
           0.5627,
           0.5431,
           1,
           0.5684,
           0.5238,
           0.3506,
           -0.1224,
           0.2938,
           0.7238,
           0.4797,
           -0.5395,
           0.0183,
           0.1029,
           0.3738,
           0.3098,
           0.043,
           -0.0235,
           null,
           null,
           0.2363
          ],
          [
           -0.0245,
           -0.0416,
           0.4389,
           -0.3876,
           -0.2042,
           0.0011,
           0.3998,
           0.5948,
           0.5684,
           1,
           0.5799,
           0.4229,
           -0.1394,
           0.2937,
           0.5345,
           0.4599,
           -0.446,
           4.0E-4,
           0.0168,
           0.1996,
           0.2608,
           0.0026,
           -0.021,
           null,
           null,
           0.1113
          ],
          [
           -0.0076,
           -0.0181,
           0.4407,
           -0.3707,
           -0.1625,
           0.0227,
           0.3866,
           0.5672,
           0.5238,
           0.5799,
           1,
           0.3697,
           -0.1201,
           0.3485,
           0.4909,
           0.4488,
           -0.4233,
           0.0015,
           0.0286,
           0.2596,
           0.2418,
           0.01,
           -0.0225,
           null,
           null,
           0.1174
          ],
          [
           -0.0134,
           -0.0618,
           0.3259,
           -0.3496,
           -0.0217,
           0.0167,
           0.3875,
           0.393,
           0.3506,
           0.4229,
           0.3697,
           1,
           0.0491,
           0.4218,
           0.4377,
           0.3817,
           -0.2507,
           0.1231,
           0.0223,
           0.181,
           0.1664,
           0.05,
           -0.0309,
           null,
           null,
           0.1399
          ],
          [
           -0.0372,
           -0.0608,
           -0.0831,
           0.2218,
           0.3877,
           -0.0011,
           0.0109,
           -0.1321,
           -0.1224,
           -0.1394,
           -0.1201,
           0.0491,
           1,
           0.2342,
           -0.0086,
           0.0689,
           0.3476,
           -0.0231,
           0.0156,
           -0.1832,
           -0.1232,
           -0.0377,
           4.0E-4,
           null,
           null,
           0.0022
          ],
          [
           -0.0189,
           -0.145,
           0.3879,
           -0.3616,
           0.1555,
           -0.0107,
           0.5423,
           0.2967,
           0.2938,
           0.2937,
           0.3485,
           0.4218,
           0.2342,
           1,
           0.3784,
           0.5027,
           -0.0558,
           0.0422,
           0.1559,
           0.1387,
           0.1551,
           0.0342,
           -0.0163,
           null,
           null,
           0.1487
          ],
          [
           -0.0034,
           -0.1213,
           0.5892,
           -0.5022,
           -0.1108,
           0.0251,
           0.6352,
           0.4879,
           0.7238,
           0.5345,
           0.4909,
           0.4377,
           -0.0086,
           0.3784,
           1,
           0.5187,
           -0.5204,
           0.1047,
           0.1392,
           0.3223,
           0.3081,
           0.0999,
           -0.0205,
           null,
           null,
           0.2208
          ],
          [
           -0.0149,
           -0.1283,
           0.5294,
           -0.4997,
           0.0507,
           8.0E-4,
           0.6421,
           0.4618,
           0.4797,
           0.4599,
           0.4488,
           0.3817,
           0.0689,
           0.5027,
           0.5187,
           1,
           -0.4285,
           -0.0676,
           0.1794,
           0.2148,
           0.1832,
           0.0852,
           -0.0165,
           null,
           null,
           0.0394
          ],
          [
           -0.0074,
           0.1211,
           -0.5531,
           0.4478,
           0.1349,
           -0.0214,
           -0.3207,
           -0.4184,
           -0.5395,
           -0.446,
           -0.4233,
           -0.2507,
           0.3476,
           -0.0558,
           -0.5204,
           -0.4285,
           1,
           0.0612,
           -0.0321,
           -0.2781,
           -0.1925,
           -0.0072,
           0.0198,
           null,
           null,
           -0.004
          ],
          [
           -0.036,
           0.0618,
           -0.0162,
           0.0147,
           -0.0427,
           -0.033,
           0.0622,
           0.0147,
           0.0183,
           4.0E-4,
           0.0015,
           0.1231,
           -0.0231,
           0.0422,
           0.1047,
           -0.0676,
           0.0612,
           1,
           -0.0795,
           0.0803,
           0.0948,
           0.072,
           0.0084,
           null,
           null,
           0.2543
          ],
          [
           -0.0254,
           -0.0605,
           0.1844,
           -0.1616,
           0.0389,
           0.0188,
           0.3733,
           0.0102,
           0.1029,
           0.0168,
           0.0286,
           0.0223,
           0.0156,
           0.1559,
           0.1392,
           0.1794,
           -0.0321,
           -0.0795,
           1,
           0.3065,
           0.2513,
           0.2922,
           -0.0276,
           null,
           null,
           0.177
          ],
          [
           -0.0075,
           0.0071,
           0.3359,
           -0.2056,
           -0.191,
           1.0E-4,
           0.4726,
           0.2158,
           0.3738,
           0.1996,
           0.2596,
           0.181,
           -0.1832,
           0.1387,
           0.3223,
           0.2148,
           -0.2781,
           0.0803,
           0.3065,
           1,
           0.4031,
           0.2215,
           -0.0094,
           null,
           null,
           0.3266
          ],
          [
           -0.0216,
           -0.0059,
           0.2768,
           -0.1723,
           -0.1401,
           -0.0193,
           0.3541,
           0.1947,
           0.3098,
           0.2608,
           0.2418,
           0.1664,
           -0.1232,
           0.1551,
           0.3081,
           0.1832,
           -0.1925,
           0.0948,
           0.2513,
           0.4031,
           1,
           0.1753,
           -0.0255,
           null,
           null,
           0.294
          ],
          [
           -0.0151,
           -0.0065,
           0.0875,
           -0.0817,
           -0.0156,
           -0.0018,
           0.2059,
           -0.0098,
           0.043,
           0.0026,
           0.01,
           0.05,
           -0.0377,
           0.0342,
           0.0999,
           0.0852,
           -0.0072,
           0.072,
           0.2922,
           0.2215,
           0.1753,
           1,
           -0.0113,
           null,
           null,
           0.1693
          ],
          [
           0.0339,
           -0.0301,
           -0.0272,
           0.0402,
           0.0031,
           0.0132,
           -0.039,
           -0.0052,
           -0.0235,
           -0.021,
           -0.0225,
           -0.0309,
           4.0E-4,
           -0.0163,
           -0.0205,
           -0.0165,
           0.0198,
           0.0084,
           -0.0276,
           -0.0094,
           -0.0255,
           -0.0113,
           1,
           null,
           null,
           -0.0017
          ],
          [
           null,
           null,
           null,
           null,
           null,
           null,
           null,
           null,
           null,
           null,
           null,
           null,
           null,
           null,
           null,
           null,
           null,
           null,
           null,
           null,
           null,
           null,
           null,
           null,
           null,
           null
          ],
          [
           null,
           null,
           null,
           null,
           null,
           null,
           null,
           null,
           null,
           null,
           null,
           null,
           null,
           null,
           null,
           null,
           null,
           null,
           null,
           null,
           null,
           null,
           null,
           null,
           null,
           null
          ],
          [
           -0.022,
           0.0213,
           0.133,
           -0.08,
           -0.1544,
           -0.1984,
           0.2473,
           0.1253,
           0.2363,
           0.1113,
           0.1174,
           0.1399,
           0.0022,
           0.1487,
           0.2208,
           0.0394,
           -0.004,
           0.2543,
           0.177,
           0.3266,
           0.294,
           0.1693,
           -0.0017,
           null,
           null,
           1
          ]
         ],
         "type":"heatmap"
        }
       ],
       "layout":{
        "annotations":[
         {
          "font":{
           "color":"#FFFFFF"
          },
          "showarrow":false,
          "text":"1.0",
          "x":"ID",
          "xref":"x",
          "y":"Response",
          "yref":"y"
         },
         {
          "font":{
           "color":"#FFFFFF"
          },
          "showarrow":false,
          "text":"0.0",
          "x":"Year_Birth",
          "xref":"x",
          "y":"Response",
          "yref":"y"
         },
         {
          "font":{
           "color":"#FFFFFF"
          },
          "showarrow":false,
          "text":"0.0131",
          "x":"Income",
          "xref":"x",
          "y":"Response",
          "yref":"y"
         },
         {
          "font":{
           "color":"#FFFFFF"
          },
          "showarrow":false,
          "text":"0.0024",
          "x":"Kidhome",
          "xref":"x",
          "y":"Response",
          "yref":"y"
         },
         {
          "font":{
           "color":"#FFFFFF"
          },
          "showarrow":false,
          "text":"-0.0026",
          "x":"Teenhome",
          "xref":"x",
          "y":"Response",
          "yref":"y"
         },
         {
          "font":{
           "color":"#FFFFFF"
          },
          "showarrow":false,
          "text":"-0.0465",
          "x":"Recency",
          "xref":"x",
          "y":"Response",
          "yref":"y"
         },
         {
          "font":{
           "color":"#FFFFFF"
          },
          "showarrow":false,
          "text":"-0.0229",
          "x":"MntWines",
          "xref":"x",
          "y":"Response",
          "yref":"y"
         },
         {
          "font":{
           "color":"#FFFFFF"
          },
          "showarrow":false,
          "text":"0.0046",
          "x":"MntFruits",
          "xref":"x",
          "y":"Response",
          "yref":"y"
         },
         {
          "font":{
           "color":"#FFFFFF"
          },
          "showarrow":false,
          "text":"-0.0044",
          "x":"MntMeatProducts",
          "xref":"x",
          "y":"Response",
          "yref":"y"
         },
         {
          "font":{
           "color":"#FFFFFF"
          },
          "showarrow":false,
          "text":"-0.0245",
          "x":"MntFishProducts",
          "xref":"x",
          "y":"Response",
          "yref":"y"
         },
         {
          "font":{
           "color":"#FFFFFF"
          },
          "showarrow":false,
          "text":"-0.0076",
          "x":"MntSweetProducts",
          "xref":"x",
          "y":"Response",
          "yref":"y"
         },
         {
          "font":{
           "color":"#FFFFFF"
          },
          "showarrow":false,
          "text":"-0.0134",
          "x":"MntGoldProds",
          "xref":"x",
          "y":"Response",
          "yref":"y"
         },
         {
          "font":{
           "color":"#FFFFFF"
          },
          "showarrow":false,
          "text":"-0.0372",
          "x":"NumDealsPurchases",
          "xref":"x",
          "y":"Response",
          "yref":"y"
         },
         {
          "font":{
           "color":"#FFFFFF"
          },
          "showarrow":false,
          "text":"-0.0189",
          "x":"NumWebPurchases",
          "xref":"x",
          "y":"Response",
          "yref":"y"
         },
         {
          "font":{
           "color":"#FFFFFF"
          },
          "showarrow":false,
          "text":"-0.0034",
          "x":"NumCatalogPurchases",
          "xref":"x",
          "y":"Response",
          "yref":"y"
         },
         {
          "font":{
           "color":"#FFFFFF"
          },
          "showarrow":false,
          "text":"-0.0149",
          "x":"NumStorePurchases",
          "xref":"x",
          "y":"Response",
          "yref":"y"
         },
         {
          "font":{
           "color":"#FFFFFF"
          },
          "showarrow":false,
          "text":"-0.0074",
          "x":"NumWebVisitsMonth",
          "xref":"x",
          "y":"Response",
          "yref":"y"
         },
         {
          "font":{
           "color":"#FFFFFF"
          },
          "showarrow":false,
          "text":"-0.036",
          "x":"AcceptedCmp3",
          "xref":"x",
          "y":"Response",
          "yref":"y"
         },
         {
          "font":{
           "color":"#FFFFFF"
          },
          "showarrow":false,
          "text":"-0.0254",
          "x":"AcceptedCmp4",
          "xref":"x",
          "y":"Response",
          "yref":"y"
         },
         {
          "font":{
           "color":"#FFFFFF"
          },
          "showarrow":false,
          "text":"-0.0075",
          "x":"AcceptedCmp5",
          "xref":"x",
          "y":"Response",
          "yref":"y"
         },
         {
          "font":{
           "color":"#FFFFFF"
          },
          "showarrow":false,
          "text":"-0.0216",
          "x":"AcceptedCmp1",
          "xref":"x",
          "y":"Response",
          "yref":"y"
         },
         {
          "font":{
           "color":"#FFFFFF"
          },
          "showarrow":false,
          "text":"-0.0151",
          "x":"AcceptedCmp2",
          "xref":"x",
          "y":"Response",
          "yref":"y"
         },
         {
          "font":{
           "color":"#FFFFFF"
          },
          "showarrow":false,
          "text":"0.0339",
          "x":"Complain",
          "xref":"x",
          "y":"Response",
          "yref":"y"
         },
         {
          "font":{
           "color":"#FFFFFF"
          },
          "showarrow":false,
          "text":"nan",
          "x":"Z_CostContact",
          "xref":"x",
          "y":"Response",
          "yref":"y"
         },
         {
          "font":{
           "color":"#FFFFFF"
          },
          "showarrow":false,
          "text":"nan",
          "x":"Z_Revenue",
          "xref":"x",
          "y":"Response",
          "yref":"y"
         },
         {
          "font":{
           "color":"#FFFFFF"
          },
          "showarrow":false,
          "text":"-0.022",
          "x":"Response",
          "xref":"x",
          "y":"Response",
          "yref":"y"
         },
         {
          "font":{
           "color":"#FFFFFF"
          },
          "showarrow":false,
          "text":"0.0",
          "x":"ID",
          "xref":"x",
          "y":"Z_Revenue",
          "yref":"y"
         },
         {
          "font":{
           "color":"#FFFFFF"
          },
          "showarrow":false,
          "text":"1.0",
          "x":"Year_Birth",
          "xref":"x",
          "y":"Z_Revenue",
          "yref":"y"
         },
         {
          "font":{
           "color":"#FFFFFF"
          },
          "showarrow":false,
          "text":"-0.1618",
          "x":"Income",
          "xref":"x",
          "y":"Z_Revenue",
          "yref":"y"
         },
         {
          "font":{
           "color":"#FFFFFF"
          },
          "showarrow":false,
          "text":"0.2302",
          "x":"Kidhome",
          "xref":"x",
          "y":"Z_Revenue",
          "yref":"y"
         },
         {
          "font":{
           "color":"#FFFFFF"
          },
          "showarrow":false,
          "text":"-0.3521",
          "x":"Teenhome",
          "xref":"x",
          "y":"Z_Revenue",
          "yref":"y"
         },
         {
          "font":{
           "color":"#FFFFFF"
          },
          "showarrow":false,
          "text":"-0.0199",
          "x":"Recency",
          "xref":"x",
          "y":"Z_Revenue",
          "yref":"y"
         },
         {
          "font":{
           "color":"#FFFFFF"
          },
          "showarrow":false,
          "text":"-0.1578",
          "x":"MntWines",
          "xref":"x",
          "y":"Z_Revenue",
          "yref":"y"
         },
         {
          "font":{
           "color":"#FFFFFF"
          },
          "showarrow":false,
          "text":"-0.0179",
          "x":"MntFruits",
          "xref":"x",
          "y":"Z_Revenue",
          "yref":"y"
         },
         {
          "font":{
           "color":"#FFFFFF"
          },
          "showarrow":false,
          "text":"-0.0309",
          "x":"MntMeatProducts",
          "xref":"x",
          "y":"Z_Revenue",
          "yref":"y"
         },
         {
          "font":{
           "color":"#FFFFFF"
          },
          "showarrow":false,
          "text":"-0.0416",
          "x":"MntFishProducts",
          "xref":"x",
          "y":"Z_Revenue",
          "yref":"y"
         },
         {
          "font":{
           "color":"#FFFFFF"
          },
          "showarrow":false,
          "text":"-0.0181",
          "x":"MntSweetProducts",
          "xref":"x",
          "y":"Z_Revenue",
          "yref":"y"
         },
         {
          "font":{
           "color":"#FFFFFF"
          },
          "showarrow":false,
          "text":"-0.0618",
          "x":"MntGoldProds",
          "xref":"x",
          "y":"Z_Revenue",
          "yref":"y"
         },
         {
          "font":{
           "color":"#FFFFFF"
          },
          "showarrow":false,
          "text":"-0.0608",
          "x":"NumDealsPurchases",
          "xref":"x",
          "y":"Z_Revenue",
          "yref":"y"
         },
         {
          "font":{
           "color":"#FFFFFF"
          },
          "showarrow":false,
          "text":"-0.145",
          "x":"NumWebPurchases",
          "xref":"x",
          "y":"Z_Revenue",
          "yref":"y"
         },
         {
          "font":{
           "color":"#FFFFFF"
          },
          "showarrow":false,
          "text":"-0.1213",
          "x":"NumCatalogPurchases",
          "xref":"x",
          "y":"Z_Revenue",
          "yref":"y"
         },
         {
          "font":{
           "color":"#FFFFFF"
          },
          "showarrow":false,
          "text":"-0.1283",
          "x":"NumStorePurchases",
          "xref":"x",
          "y":"Z_Revenue",
          "yref":"y"
         },
         {
          "font":{
           "color":"#FFFFFF"
          },
          "showarrow":false,
          "text":"0.1211",
          "x":"NumWebVisitsMonth",
          "xref":"x",
          "y":"Z_Revenue",
          "yref":"y"
         },
         {
          "font":{
           "color":"#FFFFFF"
          },
          "showarrow":false,
          "text":"0.0618",
          "x":"AcceptedCmp3",
          "xref":"x",
          "y":"Z_Revenue",
          "yref":"y"
         },
         {
          "font":{
           "color":"#FFFFFF"
          },
          "showarrow":false,
          "text":"-0.0605",
          "x":"AcceptedCmp4",
          "xref":"x",
          "y":"Z_Revenue",
          "yref":"y"
         },
         {
          "font":{
           "color":"#FFFFFF"
          },
          "showarrow":false,
          "text":"0.0071",
          "x":"AcceptedCmp5",
          "xref":"x",
          "y":"Z_Revenue",
          "yref":"y"
         },
         {
          "font":{
           "color":"#FFFFFF"
          },
          "showarrow":false,
          "text":"-0.0059",
          "x":"AcceptedCmp1",
          "xref":"x",
          "y":"Z_Revenue",
          "yref":"y"
         },
         {
          "font":{
           "color":"#FFFFFF"
          },
          "showarrow":false,
          "text":"-0.0065",
          "x":"AcceptedCmp2",
          "xref":"x",
          "y":"Z_Revenue",
          "yref":"y"
         },
         {
          "font":{
           "color":"#FFFFFF"
          },
          "showarrow":false,
          "text":"-0.0301",
          "x":"Complain",
          "xref":"x",
          "y":"Z_Revenue",
          "yref":"y"
         },
         {
          "font":{
           "color":"#FFFFFF"
          },
          "showarrow":false,
          "text":"nan",
          "x":"Z_CostContact",
          "xref":"x",
          "y":"Z_Revenue",
          "yref":"y"
         },
         {
          "font":{
           "color":"#FFFFFF"
          },
          "showarrow":false,
          "text":"nan",
          "x":"Z_Revenue",
          "xref":"x",
          "y":"Z_Revenue",
          "yref":"y"
         },
         {
          "font":{
           "color":"#FFFFFF"
          },
          "showarrow":false,
          "text":"0.0213",
          "x":"Response",
          "xref":"x",
          "y":"Z_Revenue",
          "yref":"y"
         },
         {
          "font":{
           "color":"#FFFFFF"
          },
          "showarrow":false,
          "text":"0.0131",
          "x":"ID",
          "xref":"x",
          "y":"Z_CostContact",
          "yref":"y"
         },
         {
          "font":{
           "color":"#FFFFFF"
          },
          "showarrow":false,
          "text":"-0.1618",
          "x":"Year_Birth",
          "xref":"x",
          "y":"Z_CostContact",
          "yref":"y"
         },
         {
          "font":{
           "color":"#FFFFFF"
          },
          "showarrow":false,
          "text":"1.0",
          "x":"Income",
          "xref":"x",
          "y":"Z_CostContact",
          "yref":"y"
         },
         {
          "font":{
           "color":"#FFFFFF"
          },
          "showarrow":false,
          "text":"-0.4287",
          "x":"Kidhome",
          "xref":"x",
          "y":"Z_CostContact",
          "yref":"y"
         },
         {
          "font":{
           "color":"#FFFFFF"
          },
          "showarrow":false,
          "text":"0.0191",
          "x":"Teenhome",
          "xref":"x",
          "y":"Z_CostContact",
          "yref":"y"
         },
         {
          "font":{
           "color":"#FFFFFF"
          },
          "showarrow":false,
          "text":"-0.004",
          "x":"Recency",
          "xref":"x",
          "y":"Z_CostContact",
          "yref":"y"
         },
         {
          "font":{
           "color":"#FFFFFF"
          },
          "showarrow":false,
          "text":"0.5786",
          "x":"MntWines",
          "xref":"x",
          "y":"Z_CostContact",
          "yref":"y"
         },
         {
          "font":{
           "color":"#FFFFFF"
          },
          "showarrow":false,
          "text":"0.4308",
          "x":"MntFruits",
          "xref":"x",
          "y":"Z_CostContact",
          "yref":"y"
         },
         {
          "font":{
           "color":"#FFFFFF"
          },
          "showarrow":false,
          "text":"0.5846",
          "x":"MntMeatProducts",
          "xref":"x",
          "y":"Z_CostContact",
          "yref":"y"
         },
         {
          "font":{
           "color":"#FFFFFF"
          },
          "showarrow":false,
          "text":"0.4389",
          "x":"MntFishProducts",
          "xref":"x",
          "y":"Z_CostContact",
          "yref":"y"
         },
         {
          "font":{
           "color":"#FFFFFF"
          },
          "showarrow":false,
          "text":"0.4407",
          "x":"MntSweetProducts",
          "xref":"x",
          "y":"Z_CostContact",
          "yref":"y"
         },
         {
          "font":{
           "color":"#FFFFFF"
          },
          "showarrow":false,
          "text":"0.3259",
          "x":"MntGoldProds",
          "xref":"x",
          "y":"Z_CostContact",
          "yref":"y"
         },
         {
          "font":{
           "color":"#FFFFFF"
          },
          "showarrow":false,
          "text":"-0.0831",
          "x":"NumDealsPurchases",
          "xref":"x",
          "y":"Z_CostContact",
          "yref":"y"
         },
         {
          "font":{
           "color":"#FFFFFF"
          },
          "showarrow":false,
          "text":"0.3879",
          "x":"NumWebPurchases",
          "xref":"x",
          "y":"Z_CostContact",
          "yref":"y"
         },
         {
          "font":{
           "color":"#FFFFFF"
          },
          "showarrow":false,
          "text":"0.5892",
          "x":"NumCatalogPurchases",
          "xref":"x",
          "y":"Z_CostContact",
          "yref":"y"
         },
         {
          "font":{
           "color":"#FFFFFF"
          },
          "showarrow":false,
          "text":"0.5294",
          "x":"NumStorePurchases",
          "xref":"x",
          "y":"Z_CostContact",
          "yref":"y"
         },
         {
          "font":{
           "color":"#FFFFFF"
          },
          "showarrow":false,
          "text":"-0.5531",
          "x":"NumWebVisitsMonth",
          "xref":"x",
          "y":"Z_CostContact",
          "yref":"y"
         },
         {
          "font":{
           "color":"#FFFFFF"
          },
          "showarrow":false,
          "text":"-0.0162",
          "x":"AcceptedCmp3",
          "xref":"x",
          "y":"Z_CostContact",
          "yref":"y"
         },
         {
          "font":{
           "color":"#FFFFFF"
          },
          "showarrow":false,
          "text":"0.1844",
          "x":"AcceptedCmp4",
          "xref":"x",
          "y":"Z_CostContact",
          "yref":"y"
         },
         {
          "font":{
           "color":"#FFFFFF"
          },
          "showarrow":false,
          "text":"0.3359",
          "x":"AcceptedCmp5",
          "xref":"x",
          "y":"Z_CostContact",
          "yref":"y"
         },
         {
          "font":{
           "color":"#FFFFFF"
          },
          "showarrow":false,
          "text":"0.2768",
          "x":"AcceptedCmp1",
          "xref":"x",
          "y":"Z_CostContact",
          "yref":"y"
         },
         {
          "font":{
           "color":"#FFFFFF"
          },
          "showarrow":false,
          "text":"0.0875",
          "x":"AcceptedCmp2",
          "xref":"x",
          "y":"Z_CostContact",
          "yref":"y"
         },
         {
          "font":{
           "color":"#FFFFFF"
          },
          "showarrow":false,
          "text":"-0.0272",
          "x":"Complain",
          "xref":"x",
          "y":"Z_CostContact",
          "yref":"y"
         },
         {
          "font":{
           "color":"#FFFFFF"
          },
          "showarrow":false,
          "text":"nan",
          "x":"Z_CostContact",
          "xref":"x",
          "y":"Z_CostContact",
          "yref":"y"
         },
         {
          "font":{
           "color":"#FFFFFF"
          },
          "showarrow":false,
          "text":"nan",
          "x":"Z_Revenue",
          "xref":"x",
          "y":"Z_CostContact",
          "yref":"y"
         },
         {
          "font":{
           "color":"#FFFFFF"
          },
          "showarrow":false,
          "text":"0.133",
          "x":"Response",
          "xref":"x",
          "y":"Z_CostContact",
          "yref":"y"
         },
         {
          "font":{
           "color":"#FFFFFF"
          },
          "showarrow":false,
          "text":"0.0024",
          "x":"ID",
          "xref":"x",
          "y":"Complain",
          "yref":"y"
         },
         {
          "font":{
           "color":"#FFFFFF"
          },
          "showarrow":false,
          "text":"0.2302",
          "x":"Year_Birth",
          "xref":"x",
          "y":"Complain",
          "yref":"y"
         },
         {
          "font":{
           "color":"#FFFFFF"
          },
          "showarrow":false,
          "text":"-0.4287",
          "x":"Income",
          "xref":"x",
          "y":"Complain",
          "yref":"y"
         },
         {
          "font":{
           "color":"#FFFFFF"
          },
          "showarrow":false,
          "text":"1.0",
          "x":"Kidhome",
          "xref":"x",
          "y":"Complain",
          "yref":"y"
         },
         {
          "font":{
           "color":"#FFFFFF"
          },
          "showarrow":false,
          "text":"-0.0361",
          "x":"Teenhome",
          "xref":"x",
          "y":"Complain",
          "yref":"y"
         },
         {
          "font":{
           "color":"#FFFFFF"
          },
          "showarrow":false,
          "text":"0.0088",
          "x":"Recency",
          "xref":"x",
          "y":"Complain",
          "yref":"y"
         },
         {
          "font":{
           "color":"#FFFFFF"
          },
          "showarrow":false,
          "text":"-0.4963",
          "x":"MntWines",
          "xref":"x",
          "y":"Complain",
          "yref":"y"
         },
         {
          "font":{
           "color":"#FFFFFF"
          },
          "showarrow":false,
          "text":"-0.3726",
          "x":"MntFruits",
          "xref":"x",
          "y":"Complain",
          "yref":"y"
         },
         {
          "font":{
           "color":"#FFFFFF"
          },
          "showarrow":false,
          "text":"-0.4371",
          "x":"MntMeatProducts",
          "xref":"x",
          "y":"Complain",
          "yref":"y"
         },
         {
          "font":{
           "color":"#FFFFFF"
          },
          "showarrow":false,
          "text":"-0.3876",
          "x":"MntFishProducts",
          "xref":"x",
          "y":"Complain",
          "yref":"y"
         },
         {
          "font":{
           "color":"#FFFFFF"
          },
          "showarrow":false,
          "text":"-0.3707",
          "x":"MntSweetProducts",
          "xref":"x",
          "y":"Complain",
          "yref":"y"
         },
         {
          "font":{
           "color":"#FFFFFF"
          },
          "showarrow":false,
          "text":"-0.3496",
          "x":"MntGoldProds",
          "xref":"x",
          "y":"Complain",
          "yref":"y"
         },
         {
          "font":{
           "color":"#FFFFFF"
          },
          "showarrow":false,
          "text":"0.2218",
          "x":"NumDealsPurchases",
          "xref":"x",
          "y":"Complain",
          "yref":"y"
         },
         {
          "font":{
           "color":"#FFFFFF"
          },
          "showarrow":false,
          "text":"-0.3616",
          "x":"NumWebPurchases",
          "xref":"x",
          "y":"Complain",
          "yref":"y"
         },
         {
          "font":{
           "color":"#FFFFFF"
          },
          "showarrow":false,
          "text":"-0.5022",
          "x":"NumCatalogPurchases",
          "xref":"x",
          "y":"Complain",
          "yref":"y"
         },
         {
          "font":{
           "color":"#FFFFFF"
          },
          "showarrow":false,
          "text":"-0.4997",
          "x":"NumStorePurchases",
          "xref":"x",
          "y":"Complain",
          "yref":"y"
         },
         {
          "font":{
           "color":"#FFFFFF"
          },
          "showarrow":false,
          "text":"0.4478",
          "x":"NumWebVisitsMonth",
          "xref":"x",
          "y":"Complain",
          "yref":"y"
         },
         {
          "font":{
           "color":"#FFFFFF"
          },
          "showarrow":false,
          "text":"0.0147",
          "x":"AcceptedCmp3",
          "xref":"x",
          "y":"Complain",
          "yref":"y"
         },
         {
          "font":{
           "color":"#FFFFFF"
          },
          "showarrow":false,
          "text":"-0.1616",
          "x":"AcceptedCmp4",
          "xref":"x",
          "y":"Complain",
          "yref":"y"
         },
         {
          "font":{
           "color":"#FFFFFF"
          },
          "showarrow":false,
          "text":"-0.2056",
          "x":"AcceptedCmp5",
          "xref":"x",
          "y":"Complain",
          "yref":"y"
         },
         {
          "font":{
           "color":"#FFFFFF"
          },
          "showarrow":false,
          "text":"-0.1723",
          "x":"AcceptedCmp1",
          "xref":"x",
          "y":"Complain",
          "yref":"y"
         },
         {
          "font":{
           "color":"#FFFFFF"
          },
          "showarrow":false,
          "text":"-0.0817",
          "x":"AcceptedCmp2",
          "xref":"x",
          "y":"Complain",
          "yref":"y"
         },
         {
          "font":{
           "color":"#FFFFFF"
          },
          "showarrow":false,
          "text":"0.0402",
          "x":"Complain",
          "xref":"x",
          "y":"Complain",
          "yref":"y"
         },
         {
          "font":{
           "color":"#FFFFFF"
          },
          "showarrow":false,
          "text":"nan",
          "x":"Z_CostContact",
          "xref":"x",
          "y":"Complain",
          "yref":"y"
         },
         {
          "font":{
           "color":"#FFFFFF"
          },
          "showarrow":false,
          "text":"nan",
          "x":"Z_Revenue",
          "xref":"x",
          "y":"Complain",
          "yref":"y"
         },
         {
          "font":{
           "color":"#FFFFFF"
          },
          "showarrow":false,
          "text":"-0.08",
          "x":"Response",
          "xref":"x",
          "y":"Complain",
          "yref":"y"
         },
         {
          "font":{
           "color":"#FFFFFF"
          },
          "showarrow":false,
          "text":"-0.0026",
          "x":"ID",
          "xref":"x",
          "y":"AcceptedCmp2",
          "yref":"y"
         },
         {
          "font":{
           "color":"#FFFFFF"
          },
          "showarrow":false,
          "text":"-0.3521",
          "x":"Year_Birth",
          "xref":"x",
          "y":"AcceptedCmp2",
          "yref":"y"
         },
         {
          "font":{
           "color":"#FFFFFF"
          },
          "showarrow":false,
          "text":"0.0191",
          "x":"Income",
          "xref":"x",
          "y":"AcceptedCmp2",
          "yref":"y"
         },
         {
          "font":{
           "color":"#FFFFFF"
          },
          "showarrow":false,
          "text":"-0.0361",
          "x":"Kidhome",
          "xref":"x",
          "y":"AcceptedCmp2",
          "yref":"y"
         },
         {
          "font":{
           "color":"#FFFFFF"
          },
          "showarrow":false,
          "text":"1.0",
          "x":"Teenhome",
          "xref":"x",
          "y":"AcceptedCmp2",
          "yref":"y"
         },
         {
          "font":{
           "color":"#FFFFFF"
          },
          "showarrow":false,
          "text":"0.0162",
          "x":"Recency",
          "xref":"x",
          "y":"AcceptedCmp2",
          "yref":"y"
         },
         {
          "font":{
           "color":"#FFFFFF"
          },
          "showarrow":false,
          "text":"0.0048",
          "x":"MntWines",
          "xref":"x",
          "y":"AcceptedCmp2",
          "yref":"y"
         },
         {
          "font":{
           "color":"#FFFFFF"
          },
          "showarrow":false,
          "text":"-0.1768",
          "x":"MntFruits",
          "xref":"x",
          "y":"AcceptedCmp2",
          "yref":"y"
         },
         {
          "font":{
           "color":"#FFFFFF"
          },
          "showarrow":false,
          "text":"-0.2612",
          "x":"MntMeatProducts",
          "xref":"x",
          "y":"AcceptedCmp2",
          "yref":"y"
         },
         {
          "font":{
           "color":"#FFFFFF"
          },
          "showarrow":false,
          "text":"-0.2042",
          "x":"MntFishProducts",
          "xref":"x",
          "y":"AcceptedCmp2",
          "yref":"y"
         },
         {
          "font":{
           "color":"#FFFFFF"
          },
          "showarrow":false,
          "text":"-0.1625",
          "x":"MntSweetProducts",
          "xref":"x",
          "y":"AcceptedCmp2",
          "yref":"y"
         },
         {
          "font":{
           "color":"#FFFFFF"
          },
          "showarrow":false,
          "text":"-0.0217",
          "x":"MntGoldProds",
          "xref":"x",
          "y":"AcceptedCmp2",
          "yref":"y"
         },
         {
          "font":{
           "color":"#FFFFFF"
          },
          "showarrow":false,
          "text":"0.3877",
          "x":"NumDealsPurchases",
          "xref":"x",
          "y":"AcceptedCmp2",
          "yref":"y"
         },
         {
          "font":{
           "color":"#FFFFFF"
          },
          "showarrow":false,
          "text":"0.1555",
          "x":"NumWebPurchases",
          "xref":"x",
          "y":"AcceptedCmp2",
          "yref":"y"
         },
         {
          "font":{
           "color":"#FFFFFF"
          },
          "showarrow":false,
          "text":"-0.1108",
          "x":"NumCatalogPurchases",
          "xref":"x",
          "y":"AcceptedCmp2",
          "yref":"y"
         },
         {
          "font":{
           "color":"#FFFFFF"
          },
          "showarrow":false,
          "text":"0.0507",
          "x":"NumStorePurchases",
          "xref":"x",
          "y":"AcceptedCmp2",
          "yref":"y"
         },
         {
          "font":{
           "color":"#FFFFFF"
          },
          "showarrow":false,
          "text":"0.1349",
          "x":"NumWebVisitsMonth",
          "xref":"x",
          "y":"AcceptedCmp2",
          "yref":"y"
         },
         {
          "font":{
           "color":"#FFFFFF"
          },
          "showarrow":false,
          "text":"-0.0427",
          "x":"AcceptedCmp3",
          "xref":"x",
          "y":"AcceptedCmp2",
          "yref":"y"
         },
         {
          "font":{
           "color":"#FFFFFF"
          },
          "showarrow":false,
          "text":"0.0389",
          "x":"AcceptedCmp4",
          "xref":"x",
          "y":"AcceptedCmp2",
          "yref":"y"
         },
         {
          "font":{
           "color":"#FFFFFF"
          },
          "showarrow":false,
          "text":"-0.191",
          "x":"AcceptedCmp5",
          "xref":"x",
          "y":"AcceptedCmp2",
          "yref":"y"
         },
         {
          "font":{
           "color":"#FFFFFF"
          },
          "showarrow":false,
          "text":"-0.1401",
          "x":"AcceptedCmp1",
          "xref":"x",
          "y":"AcceptedCmp2",
          "yref":"y"
         },
         {
          "font":{
           "color":"#FFFFFF"
          },
          "showarrow":false,
          "text":"-0.0156",
          "x":"AcceptedCmp2",
          "xref":"x",
          "y":"AcceptedCmp2",
          "yref":"y"
         },
         {
          "font":{
           "color":"#FFFFFF"
          },
          "showarrow":false,
          "text":"0.0031",
          "x":"Complain",
          "xref":"x",
          "y":"AcceptedCmp2",
          "yref":"y"
         },
         {
          "font":{
           "color":"#FFFFFF"
          },
          "showarrow":false,
          "text":"nan",
          "x":"Z_CostContact",
          "xref":"x",
          "y":"AcceptedCmp2",
          "yref":"y"
         },
         {
          "font":{
           "color":"#FFFFFF"
          },
          "showarrow":false,
          "text":"nan",
          "x":"Z_Revenue",
          "xref":"x",
          "y":"AcceptedCmp2",
          "yref":"y"
         },
         {
          "font":{
           "color":"#FFFFFF"
          },
          "showarrow":false,
          "text":"-0.1544",
          "x":"Response",
          "xref":"x",
          "y":"AcceptedCmp2",
          "yref":"y"
         },
         {
          "font":{
           "color":"#FFFFFF"
          },
          "showarrow":false,
          "text":"-0.0465",
          "x":"ID",
          "xref":"x",
          "y":"AcceptedCmp1",
          "yref":"y"
         },
         {
          "font":{
           "color":"#FFFFFF"
          },
          "showarrow":false,
          "text":"-0.0199",
          "x":"Year_Birth",
          "xref":"x",
          "y":"AcceptedCmp1",
          "yref":"y"
         },
         {
          "font":{
           "color":"#FFFFFF"
          },
          "showarrow":false,
          "text":"-0.004",
          "x":"Income",
          "xref":"x",
          "y":"AcceptedCmp1",
          "yref":"y"
         },
         {
          "font":{
           "color":"#FFFFFF"
          },
          "showarrow":false,
          "text":"0.0088",
          "x":"Kidhome",
          "xref":"x",
          "y":"AcceptedCmp1",
          "yref":"y"
         },
         {
          "font":{
           "color":"#FFFFFF"
          },
          "showarrow":false,
          "text":"0.0162",
          "x":"Teenhome",
          "xref":"x",
          "y":"AcceptedCmp1",
          "yref":"y"
         },
         {
          "font":{
           "color":"#FFFFFF"
          },
          "showarrow":false,
          "text":"1.0",
          "x":"Recency",
          "xref":"x",
          "y":"AcceptedCmp1",
          "yref":"y"
         },
         {
          "font":{
           "color":"#FFFFFF"
          },
          "showarrow":false,
          "text":"0.0161",
          "x":"MntWines",
          "xref":"x",
          "y":"AcceptedCmp1",
          "yref":"y"
         },
         {
          "font":{
           "color":"#FFFFFF"
          },
          "showarrow":false,
          "text":"-0.0043",
          "x":"MntFruits",
          "xref":"x",
          "y":"AcceptedCmp1",
          "yref":"y"
         },
         {
          "font":{
           "color":"#FFFFFF"
          },
          "showarrow":false,
          "text":"0.0231",
          "x":"MntMeatProducts",
          "xref":"x",
          "y":"AcceptedCmp1",
          "yref":"y"
         },
         {
          "font":{
           "color":"#FFFFFF"
          },
          "showarrow":false,
          "text":"0.0011",
          "x":"MntFishProducts",
          "xref":"x",
          "y":"AcceptedCmp1",
          "yref":"y"
         },
         {
          "font":{
           "color":"#FFFFFF"
          },
          "showarrow":false,
          "text":"0.0227",
          "x":"MntSweetProducts",
          "xref":"x",
          "y":"AcceptedCmp1",
          "yref":"y"
         },
         {
          "font":{
           "color":"#FFFFFF"
          },
          "showarrow":false,
          "text":"0.0167",
          "x":"MntGoldProds",
          "xref":"x",
          "y":"AcceptedCmp1",
          "yref":"y"
         },
         {
          "font":{
           "color":"#FFFFFF"
          },
          "showarrow":false,
          "text":"-0.0011",
          "x":"NumDealsPurchases",
          "xref":"x",
          "y":"AcceptedCmp1",
          "yref":"y"
         },
         {
          "font":{
           "color":"#FFFFFF"
          },
          "showarrow":false,
          "text":"-0.0107",
          "x":"NumWebPurchases",
          "xref":"x",
          "y":"AcceptedCmp1",
          "yref":"y"
         },
         {
          "font":{
           "color":"#FFFFFF"
          },
          "showarrow":false,
          "text":"0.0251",
          "x":"NumCatalogPurchases",
          "xref":"x",
          "y":"AcceptedCmp1",
          "yref":"y"
         },
         {
          "font":{
           "color":"#FFFFFF"
          },
          "showarrow":false,
          "text":"0.0008",
          "x":"NumStorePurchases",
          "xref":"x",
          "y":"AcceptedCmp1",
          "yref":"y"
         },
         {
          "font":{
           "color":"#FFFFFF"
          },
          "showarrow":false,
          "text":"-0.0214",
          "x":"NumWebVisitsMonth",
          "xref":"x",
          "y":"AcceptedCmp1",
          "yref":"y"
         },
         {
          "font":{
           "color":"#FFFFFF"
          },
          "showarrow":false,
          "text":"-0.033",
          "x":"AcceptedCmp3",
          "xref":"x",
          "y":"AcceptedCmp1",
          "yref":"y"
         },
         {
          "font":{
           "color":"#FFFFFF"
          },
          "showarrow":false,
          "text":"0.0188",
          "x":"AcceptedCmp4",
          "xref":"x",
          "y":"AcceptedCmp1",
          "yref":"y"
         },
         {
          "font":{
           "color":"#FFFFFF"
          },
          "showarrow":false,
          "text":"0.0001",
          "x":"AcceptedCmp5",
          "xref":"x",
          "y":"AcceptedCmp1",
          "yref":"y"
         },
         {
          "font":{
           "color":"#FFFFFF"
          },
          "showarrow":false,
          "text":"-0.0193",
          "x":"AcceptedCmp1",
          "xref":"x",
          "y":"AcceptedCmp1",
          "yref":"y"
         },
         {
          "font":{
           "color":"#FFFFFF"
          },
          "showarrow":false,
          "text":"-0.0018",
          "x":"AcceptedCmp2",
          "xref":"x",
          "y":"AcceptedCmp1",
          "yref":"y"
         },
         {
          "font":{
           "color":"#FFFFFF"
          },
          "showarrow":false,
          "text":"0.0132",
          "x":"Complain",
          "xref":"x",
          "y":"AcceptedCmp1",
          "yref":"y"
         },
         {
          "font":{
           "color":"#FFFFFF"
          },
          "showarrow":false,
          "text":"nan",
          "x":"Z_CostContact",
          "xref":"x",
          "y":"AcceptedCmp1",
          "yref":"y"
         },
         {
          "font":{
           "color":"#FFFFFF"
          },
          "showarrow":false,
          "text":"nan",
          "x":"Z_Revenue",
          "xref":"x",
          "y":"AcceptedCmp1",
          "yref":"y"
         },
         {
          "font":{
           "color":"#FFFFFF"
          },
          "showarrow":false,
          "text":"-0.1984",
          "x":"Response",
          "xref":"x",
          "y":"AcceptedCmp1",
          "yref":"y"
         },
         {
          "font":{
           "color":"#FFFFFF"
          },
          "showarrow":false,
          "text":"-0.0229",
          "x":"ID",
          "xref":"x",
          "y":"AcceptedCmp5",
          "yref":"y"
         },
         {
          "font":{
           "color":"#FFFFFF"
          },
          "showarrow":false,
          "text":"-0.1578",
          "x":"Year_Birth",
          "xref":"x",
          "y":"AcceptedCmp5",
          "yref":"y"
         },
         {
          "font":{
           "color":"#FFFFFF"
          },
          "showarrow":false,
          "text":"0.5786",
          "x":"Income",
          "xref":"x",
          "y":"AcceptedCmp5",
          "yref":"y"
         },
         {
          "font":{
           "color":"#FFFFFF"
          },
          "showarrow":false,
          "text":"-0.4963",
          "x":"Kidhome",
          "xref":"x",
          "y":"AcceptedCmp5",
          "yref":"y"
         },
         {
          "font":{
           "color":"#FFFFFF"
          },
          "showarrow":false,
          "text":"0.0048",
          "x":"Teenhome",
          "xref":"x",
          "y":"AcceptedCmp5",
          "yref":"y"
         },
         {
          "font":{
           "color":"#FFFFFF"
          },
          "showarrow":false,
          "text":"0.0161",
          "x":"Recency",
          "xref":"x",
          "y":"AcceptedCmp5",
          "yref":"y"
         },
         {
          "font":{
           "color":"#FFFFFF"
          },
          "showarrow":false,
          "text":"1.0",
          "x":"MntWines",
          "xref":"x",
          "y":"AcceptedCmp5",
          "yref":"y"
         },
         {
          "font":{
           "color":"#FFFFFF"
          },
          "showarrow":false,
          "text":"0.3896",
          "x":"MntFruits",
          "xref":"x",
          "y":"AcceptedCmp5",
          "yref":"y"
         },
         {
          "font":{
           "color":"#FFFFFF"
          },
          "showarrow":false,
          "text":"0.5627",
          "x":"MntMeatProducts",
          "xref":"x",
          "y":"AcceptedCmp5",
          "yref":"y"
         },
         {
          "font":{
           "color":"#FFFFFF"
          },
          "showarrow":false,
          "text":"0.3998",
          "x":"MntFishProducts",
          "xref":"x",
          "y":"AcceptedCmp5",
          "yref":"y"
         },
         {
          "font":{
           "color":"#FFFFFF"
          },
          "showarrow":false,
          "text":"0.3866",
          "x":"MntSweetProducts",
          "xref":"x",
          "y":"AcceptedCmp5",
          "yref":"y"
         },
         {
          "font":{
           "color":"#FFFFFF"
          },
          "showarrow":false,
          "text":"0.3875",
          "x":"MntGoldProds",
          "xref":"x",
          "y":"AcceptedCmp5",
          "yref":"y"
         },
         {
          "font":{
           "color":"#FFFFFF"
          },
          "showarrow":false,
          "text":"0.0109",
          "x":"NumDealsPurchases",
          "xref":"x",
          "y":"AcceptedCmp5",
          "yref":"y"
         },
         {
          "font":{
           "color":"#FFFFFF"
          },
          "showarrow":false,
          "text":"0.5423",
          "x":"NumWebPurchases",
          "xref":"x",
          "y":"AcceptedCmp5",
          "yref":"y"
         },
         {
          "font":{
           "color":"#FFFFFF"
          },
          "showarrow":false,
          "text":"0.6352",
          "x":"NumCatalogPurchases",
          "xref":"x",
          "y":"AcceptedCmp5",
          "yref":"y"
         },
         {
          "font":{
           "color":"#FFFFFF"
          },
          "showarrow":false,
          "text":"0.6421",
          "x":"NumStorePurchases",
          "xref":"x",
          "y":"AcceptedCmp5",
          "yref":"y"
         },
         {
          "font":{
           "color":"#FFFFFF"
          },
          "showarrow":false,
          "text":"-0.3207",
          "x":"NumWebVisitsMonth",
          "xref":"x",
          "y":"AcceptedCmp5",
          "yref":"y"
         },
         {
          "font":{
           "color":"#FFFFFF"
          },
          "showarrow":false,
          "text":"0.0622",
          "x":"AcceptedCmp3",
          "xref":"x",
          "y":"AcceptedCmp5",
          "yref":"y"
         },
         {
          "font":{
           "color":"#FFFFFF"
          },
          "showarrow":false,
          "text":"0.3733",
          "x":"AcceptedCmp4",
          "xref":"x",
          "y":"AcceptedCmp5",
          "yref":"y"
         },
         {
          "font":{
           "color":"#FFFFFF"
          },
          "showarrow":false,
          "text":"0.4726",
          "x":"AcceptedCmp5",
          "xref":"x",
          "y":"AcceptedCmp5",
          "yref":"y"
         },
         {
          "font":{
           "color":"#FFFFFF"
          },
          "showarrow":false,
          "text":"0.3541",
          "x":"AcceptedCmp1",
          "xref":"x",
          "y":"AcceptedCmp5",
          "yref":"y"
         },
         {
          "font":{
           "color":"#FFFFFF"
          },
          "showarrow":false,
          "text":"0.2059",
          "x":"AcceptedCmp2",
          "xref":"x",
          "y":"AcceptedCmp5",
          "yref":"y"
         },
         {
          "font":{
           "color":"#FFFFFF"
          },
          "showarrow":false,
          "text":"-0.039",
          "x":"Complain",
          "xref":"x",
          "y":"AcceptedCmp5",
          "yref":"y"
         },
         {
          "font":{
           "color":"#FFFFFF"
          },
          "showarrow":false,
          "text":"nan",
          "x":"Z_CostContact",
          "xref":"x",
          "y":"AcceptedCmp5",
          "yref":"y"
         },
         {
          "font":{
           "color":"#FFFFFF"
          },
          "showarrow":false,
          "text":"nan",
          "x":"Z_Revenue",
          "xref":"x",
          "y":"AcceptedCmp5",
          "yref":"y"
         },
         {
          "font":{
           "color":"#FFFFFF"
          },
          "showarrow":false,
          "text":"0.2473",
          "x":"Response",
          "xref":"x",
          "y":"AcceptedCmp5",
          "yref":"y"
         },
         {
          "font":{
           "color":"#FFFFFF"
          },
          "showarrow":false,
          "text":"0.0046",
          "x":"ID",
          "xref":"x",
          "y":"AcceptedCmp4",
          "yref":"y"
         },
         {
          "font":{
           "color":"#FFFFFF"
          },
          "showarrow":false,
          "text":"-0.0179",
          "x":"Year_Birth",
          "xref":"x",
          "y":"AcceptedCmp4",
          "yref":"y"
         },
         {
          "font":{
           "color":"#FFFFFF"
          },
          "showarrow":false,
          "text":"0.4308",
          "x":"Income",
          "xref":"x",
          "y":"AcceptedCmp4",
          "yref":"y"
         },
         {
          "font":{
           "color":"#FFFFFF"
          },
          "showarrow":false,
          "text":"-0.3726",
          "x":"Kidhome",
          "xref":"x",
          "y":"AcceptedCmp4",
          "yref":"y"
         },
         {
          "font":{
           "color":"#FFFFFF"
          },
          "showarrow":false,
          "text":"-0.1768",
          "x":"Teenhome",
          "xref":"x",
          "y":"AcceptedCmp4",
          "yref":"y"
         },
         {
          "font":{
           "color":"#FFFFFF"
          },
          "showarrow":false,
          "text":"-0.0043",
          "x":"Recency",
          "xref":"x",
          "y":"AcceptedCmp4",
          "yref":"y"
         },
         {
          "font":{
           "color":"#FFFFFF"
          },
          "showarrow":false,
          "text":"0.3896",
          "x":"MntWines",
          "xref":"x",
          "y":"AcceptedCmp4",
          "yref":"y"
         },
         {
          "font":{
           "color":"#FFFFFF"
          },
          "showarrow":false,
          "text":"1.0",
          "x":"MntFruits",
          "xref":"x",
          "y":"AcceptedCmp4",
          "yref":"y"
         },
         {
          "font":{
           "color":"#FFFFFF"
          },
          "showarrow":false,
          "text":"0.5431",
          "x":"MntMeatProducts",
          "xref":"x",
          "y":"AcceptedCmp4",
          "yref":"y"
         },
         {
          "font":{
           "color":"#FFFFFF"
          },
          "showarrow":false,
          "text":"0.5948",
          "x":"MntFishProducts",
          "xref":"x",
          "y":"AcceptedCmp4",
          "yref":"y"
         },
         {
          "font":{
           "color":"#FFFFFF"
          },
          "showarrow":false,
          "text":"0.5672",
          "x":"MntSweetProducts",
          "xref":"x",
          "y":"AcceptedCmp4",
          "yref":"y"
         },
         {
          "font":{
           "color":"#FFFFFF"
          },
          "showarrow":false,
          "text":"0.393",
          "x":"MntGoldProds",
          "xref":"x",
          "y":"AcceptedCmp4",
          "yref":"y"
         },
         {
          "font":{
           "color":"#FFFFFF"
          },
          "showarrow":false,
          "text":"-0.1321",
          "x":"NumDealsPurchases",
          "xref":"x",
          "y":"AcceptedCmp4",
          "yref":"y"
         },
         {
          "font":{
           "color":"#FFFFFF"
          },
          "showarrow":false,
          "text":"0.2967",
          "x":"NumWebPurchases",
          "xref":"x",
          "y":"AcceptedCmp4",
          "yref":"y"
         },
         {
          "font":{
           "color":"#FFFFFF"
          },
          "showarrow":false,
          "text":"0.4879",
          "x":"NumCatalogPurchases",
          "xref":"x",
          "y":"AcceptedCmp4",
          "yref":"y"
         },
         {
          "font":{
           "color":"#FFFFFF"
          },
          "showarrow":false,
          "text":"0.4618",
          "x":"NumStorePurchases",
          "xref":"x",
          "y":"AcceptedCmp4",
          "yref":"y"
         },
         {
          "font":{
           "color":"#FFFFFF"
          },
          "showarrow":false,
          "text":"-0.4184",
          "x":"NumWebVisitsMonth",
          "xref":"x",
          "y":"AcceptedCmp4",
          "yref":"y"
         },
         {
          "font":{
           "color":"#FFFFFF"
          },
          "showarrow":false,
          "text":"0.0147",
          "x":"AcceptedCmp3",
          "xref":"x",
          "y":"AcceptedCmp4",
          "yref":"y"
         },
         {
          "font":{
           "color":"#FFFFFF"
          },
          "showarrow":false,
          "text":"0.0102",
          "x":"AcceptedCmp4",
          "xref":"x",
          "y":"AcceptedCmp4",
          "yref":"y"
         },
         {
          "font":{
           "color":"#FFFFFF"
          },
          "showarrow":false,
          "text":"0.2158",
          "x":"AcceptedCmp5",
          "xref":"x",
          "y":"AcceptedCmp4",
          "yref":"y"
         },
         {
          "font":{
           "color":"#FFFFFF"
          },
          "showarrow":false,
          "text":"0.1947",
          "x":"AcceptedCmp1",
          "xref":"x",
          "y":"AcceptedCmp4",
          "yref":"y"
         },
         {
          "font":{
           "color":"#FFFFFF"
          },
          "showarrow":false,
          "text":"-0.0098",
          "x":"AcceptedCmp2",
          "xref":"x",
          "y":"AcceptedCmp4",
          "yref":"y"
         },
         {
          "font":{
           "color":"#FFFFFF"
          },
          "showarrow":false,
          "text":"-0.0052",
          "x":"Complain",
          "xref":"x",
          "y":"AcceptedCmp4",
          "yref":"y"
         },
         {
          "font":{
           "color":"#FFFFFF"
          },
          "showarrow":false,
          "text":"nan",
          "x":"Z_CostContact",
          "xref":"x",
          "y":"AcceptedCmp4",
          "yref":"y"
         },
         {
          "font":{
           "color":"#FFFFFF"
          },
          "showarrow":false,
          "text":"nan",
          "x":"Z_Revenue",
          "xref":"x",
          "y":"AcceptedCmp4",
          "yref":"y"
         },
         {
          "font":{
           "color":"#FFFFFF"
          },
          "showarrow":false,
          "text":"0.1253",
          "x":"Response",
          "xref":"x",
          "y":"AcceptedCmp4",
          "yref":"y"
         },
         {
          "font":{
           "color":"#FFFFFF"
          },
          "showarrow":false,
          "text":"-0.0044",
          "x":"ID",
          "xref":"x",
          "y":"AcceptedCmp3",
          "yref":"y"
         },
         {
          "font":{
           "color":"#FFFFFF"
          },
          "showarrow":false,
          "text":"-0.0309",
          "x":"Year_Birth",
          "xref":"x",
          "y":"AcceptedCmp3",
          "yref":"y"
         },
         {
          "font":{
           "color":"#FFFFFF"
          },
          "showarrow":false,
          "text":"0.5846",
          "x":"Income",
          "xref":"x",
          "y":"AcceptedCmp3",
          "yref":"y"
         },
         {
          "font":{
           "color":"#FFFFFF"
          },
          "showarrow":false,
          "text":"-0.4371",
          "x":"Kidhome",
          "xref":"x",
          "y":"AcceptedCmp3",
          "yref":"y"
         },
         {
          "font":{
           "color":"#FFFFFF"
          },
          "showarrow":false,
          "text":"-0.2612",
          "x":"Teenhome",
          "xref":"x",
          "y":"AcceptedCmp3",
          "yref":"y"
         },
         {
          "font":{
           "color":"#FFFFFF"
          },
          "showarrow":false,
          "text":"0.0231",
          "x":"Recency",
          "xref":"x",
          "y":"AcceptedCmp3",
          "yref":"y"
         },
         {
          "font":{
           "color":"#FFFFFF"
          },
          "showarrow":false,
          "text":"0.5627",
          "x":"MntWines",
          "xref":"x",
          "y":"AcceptedCmp3",
          "yref":"y"
         },
         {
          "font":{
           "color":"#FFFFFF"
          },
          "showarrow":false,
          "text":"0.5431",
          "x":"MntFruits",
          "xref":"x",
          "y":"AcceptedCmp3",
          "yref":"y"
         },
         {
          "font":{
           "color":"#FFFFFF"
          },
          "showarrow":false,
          "text":"1.0",
          "x":"MntMeatProducts",
          "xref":"x",
          "y":"AcceptedCmp3",
          "yref":"y"
         },
         {
          "font":{
           "color":"#FFFFFF"
          },
          "showarrow":false,
          "text":"0.5684",
          "x":"MntFishProducts",
          "xref":"x",
          "y":"AcceptedCmp3",
          "yref":"y"
         },
         {
          "font":{
           "color":"#FFFFFF"
          },
          "showarrow":false,
          "text":"0.5238",
          "x":"MntSweetProducts",
          "xref":"x",
          "y":"AcceptedCmp3",
          "yref":"y"
         },
         {
          "font":{
           "color":"#FFFFFF"
          },
          "showarrow":false,
          "text":"0.3506",
          "x":"MntGoldProds",
          "xref":"x",
          "y":"AcceptedCmp3",
          "yref":"y"
         },
         {
          "font":{
           "color":"#FFFFFF"
          },
          "showarrow":false,
          "text":"-0.1224",
          "x":"NumDealsPurchases",
          "xref":"x",
          "y":"AcceptedCmp3",
          "yref":"y"
         },
         {
          "font":{
           "color":"#FFFFFF"
          },
          "showarrow":false,
          "text":"0.2938",
          "x":"NumWebPurchases",
          "xref":"x",
          "y":"AcceptedCmp3",
          "yref":"y"
         },
         {
          "font":{
           "color":"#FFFFFF"
          },
          "showarrow":false,
          "text":"0.7238",
          "x":"NumCatalogPurchases",
          "xref":"x",
          "y":"AcceptedCmp3",
          "yref":"y"
         },
         {
          "font":{
           "color":"#FFFFFF"
          },
          "showarrow":false,
          "text":"0.4797",
          "x":"NumStorePurchases",
          "xref":"x",
          "y":"AcceptedCmp3",
          "yref":"y"
         },
         {
          "font":{
           "color":"#FFFFFF"
          },
          "showarrow":false,
          "text":"-0.5395",
          "x":"NumWebVisitsMonth",
          "xref":"x",
          "y":"AcceptedCmp3",
          "yref":"y"
         },
         {
          "font":{
           "color":"#FFFFFF"
          },
          "showarrow":false,
          "text":"0.0183",
          "x":"AcceptedCmp3",
          "xref":"x",
          "y":"AcceptedCmp3",
          "yref":"y"
         },
         {
          "font":{
           "color":"#FFFFFF"
          },
          "showarrow":false,
          "text":"0.1029",
          "x":"AcceptedCmp4",
          "xref":"x",
          "y":"AcceptedCmp3",
          "yref":"y"
         },
         {
          "font":{
           "color":"#FFFFFF"
          },
          "showarrow":false,
          "text":"0.3738",
          "x":"AcceptedCmp5",
          "xref":"x",
          "y":"AcceptedCmp3",
          "yref":"y"
         },
         {
          "font":{
           "color":"#FFFFFF"
          },
          "showarrow":false,
          "text":"0.3098",
          "x":"AcceptedCmp1",
          "xref":"x",
          "y":"AcceptedCmp3",
          "yref":"y"
         },
         {
          "font":{
           "color":"#FFFFFF"
          },
          "showarrow":false,
          "text":"0.043",
          "x":"AcceptedCmp2",
          "xref":"x",
          "y":"AcceptedCmp3",
          "yref":"y"
         },
         {
          "font":{
           "color":"#FFFFFF"
          },
          "showarrow":false,
          "text":"-0.0235",
          "x":"Complain",
          "xref":"x",
          "y":"AcceptedCmp3",
          "yref":"y"
         },
         {
          "font":{
           "color":"#FFFFFF"
          },
          "showarrow":false,
          "text":"nan",
          "x":"Z_CostContact",
          "xref":"x",
          "y":"AcceptedCmp3",
          "yref":"y"
         },
         {
          "font":{
           "color":"#FFFFFF"
          },
          "showarrow":false,
          "text":"nan",
          "x":"Z_Revenue",
          "xref":"x",
          "y":"AcceptedCmp3",
          "yref":"y"
         },
         {
          "font":{
           "color":"#FFFFFF"
          },
          "showarrow":false,
          "text":"0.2363",
          "x":"Response",
          "xref":"x",
          "y":"AcceptedCmp3",
          "yref":"y"
         },
         {
          "font":{
           "color":"#FFFFFF"
          },
          "showarrow":false,
          "text":"-0.0245",
          "x":"ID",
          "xref":"x",
          "y":"NumWebVisitsMonth",
          "yref":"y"
         },
         {
          "font":{
           "color":"#FFFFFF"
          },
          "showarrow":false,
          "text":"-0.0416",
          "x":"Year_Birth",
          "xref":"x",
          "y":"NumWebVisitsMonth",
          "yref":"y"
         },
         {
          "font":{
           "color":"#FFFFFF"
          },
          "showarrow":false,
          "text":"0.4389",
          "x":"Income",
          "xref":"x",
          "y":"NumWebVisitsMonth",
          "yref":"y"
         },
         {
          "font":{
           "color":"#FFFFFF"
          },
          "showarrow":false,
          "text":"-0.3876",
          "x":"Kidhome",
          "xref":"x",
          "y":"NumWebVisitsMonth",
          "yref":"y"
         },
         {
          "font":{
           "color":"#FFFFFF"
          },
          "showarrow":false,
          "text":"-0.2042",
          "x":"Teenhome",
          "xref":"x",
          "y":"NumWebVisitsMonth",
          "yref":"y"
         },
         {
          "font":{
           "color":"#FFFFFF"
          },
          "showarrow":false,
          "text":"0.0011",
          "x":"Recency",
          "xref":"x",
          "y":"NumWebVisitsMonth",
          "yref":"y"
         },
         {
          "font":{
           "color":"#FFFFFF"
          },
          "showarrow":false,
          "text":"0.3998",
          "x":"MntWines",
          "xref":"x",
          "y":"NumWebVisitsMonth",
          "yref":"y"
         },
         {
          "font":{
           "color":"#FFFFFF"
          },
          "showarrow":false,
          "text":"0.5948",
          "x":"MntFruits",
          "xref":"x",
          "y":"NumWebVisitsMonth",
          "yref":"y"
         },
         {
          "font":{
           "color":"#FFFFFF"
          },
          "showarrow":false,
          "text":"0.5684",
          "x":"MntMeatProducts",
          "xref":"x",
          "y":"NumWebVisitsMonth",
          "yref":"y"
         },
         {
          "font":{
           "color":"#FFFFFF"
          },
          "showarrow":false,
          "text":"1.0",
          "x":"MntFishProducts",
          "xref":"x",
          "y":"NumWebVisitsMonth",
          "yref":"y"
         },
         {
          "font":{
           "color":"#FFFFFF"
          },
          "showarrow":false,
          "text":"0.5799",
          "x":"MntSweetProducts",
          "xref":"x",
          "y":"NumWebVisitsMonth",
          "yref":"y"
         },
         {
          "font":{
           "color":"#FFFFFF"
          },
          "showarrow":false,
          "text":"0.4229",
          "x":"MntGoldProds",
          "xref":"x",
          "y":"NumWebVisitsMonth",
          "yref":"y"
         },
         {
          "font":{
           "color":"#FFFFFF"
          },
          "showarrow":false,
          "text":"-0.1394",
          "x":"NumDealsPurchases",
          "xref":"x",
          "y":"NumWebVisitsMonth",
          "yref":"y"
         },
         {
          "font":{
           "color":"#FFFFFF"
          },
          "showarrow":false,
          "text":"0.2937",
          "x":"NumWebPurchases",
          "xref":"x",
          "y":"NumWebVisitsMonth",
          "yref":"y"
         },
         {
          "font":{
           "color":"#FFFFFF"
          },
          "showarrow":false,
          "text":"0.5345",
          "x":"NumCatalogPurchases",
          "xref":"x",
          "y":"NumWebVisitsMonth",
          "yref":"y"
         },
         {
          "font":{
           "color":"#FFFFFF"
          },
          "showarrow":false,
          "text":"0.4599",
          "x":"NumStorePurchases",
          "xref":"x",
          "y":"NumWebVisitsMonth",
          "yref":"y"
         },
         {
          "font":{
           "color":"#FFFFFF"
          },
          "showarrow":false,
          "text":"-0.446",
          "x":"NumWebVisitsMonth",
          "xref":"x",
          "y":"NumWebVisitsMonth",
          "yref":"y"
         },
         {
          "font":{
           "color":"#FFFFFF"
          },
          "showarrow":false,
          "text":"0.0004",
          "x":"AcceptedCmp3",
          "xref":"x",
          "y":"NumWebVisitsMonth",
          "yref":"y"
         },
         {
          "font":{
           "color":"#FFFFFF"
          },
          "showarrow":false,
          "text":"0.0168",
          "x":"AcceptedCmp4",
          "xref":"x",
          "y":"NumWebVisitsMonth",
          "yref":"y"
         },
         {
          "font":{
           "color":"#FFFFFF"
          },
          "showarrow":false,
          "text":"0.1996",
          "x":"AcceptedCmp5",
          "xref":"x",
          "y":"NumWebVisitsMonth",
          "yref":"y"
         },
         {
          "font":{
           "color":"#FFFFFF"
          },
          "showarrow":false,
          "text":"0.2608",
          "x":"AcceptedCmp1",
          "xref":"x",
          "y":"NumWebVisitsMonth",
          "yref":"y"
         },
         {
          "font":{
           "color":"#FFFFFF"
          },
          "showarrow":false,
          "text":"0.0026",
          "x":"AcceptedCmp2",
          "xref":"x",
          "y":"NumWebVisitsMonth",
          "yref":"y"
         },
         {
          "font":{
           "color":"#FFFFFF"
          },
          "showarrow":false,
          "text":"-0.021",
          "x":"Complain",
          "xref":"x",
          "y":"NumWebVisitsMonth",
          "yref":"y"
         },
         {
          "font":{
           "color":"#FFFFFF"
          },
          "showarrow":false,
          "text":"nan",
          "x":"Z_CostContact",
          "xref":"x",
          "y":"NumWebVisitsMonth",
          "yref":"y"
         },
         {
          "font":{
           "color":"#FFFFFF"
          },
          "showarrow":false,
          "text":"nan",
          "x":"Z_Revenue",
          "xref":"x",
          "y":"NumWebVisitsMonth",
          "yref":"y"
         },
         {
          "font":{
           "color":"#FFFFFF"
          },
          "showarrow":false,
          "text":"0.1113",
          "x":"Response",
          "xref":"x",
          "y":"NumWebVisitsMonth",
          "yref":"y"
         },
         {
          "font":{
           "color":"#FFFFFF"
          },
          "showarrow":false,
          "text":"-0.0076",
          "x":"ID",
          "xref":"x",
          "y":"NumStorePurchases",
          "yref":"y"
         },
         {
          "font":{
           "color":"#FFFFFF"
          },
          "showarrow":false,
          "text":"-0.0181",
          "x":"Year_Birth",
          "xref":"x",
          "y":"NumStorePurchases",
          "yref":"y"
         },
         {
          "font":{
           "color":"#FFFFFF"
          },
          "showarrow":false,
          "text":"0.4407",
          "x":"Income",
          "xref":"x",
          "y":"NumStorePurchases",
          "yref":"y"
         },
         {
          "font":{
           "color":"#FFFFFF"
          },
          "showarrow":false,
          "text":"-0.3707",
          "x":"Kidhome",
          "xref":"x",
          "y":"NumStorePurchases",
          "yref":"y"
         },
         {
          "font":{
           "color":"#FFFFFF"
          },
          "showarrow":false,
          "text":"-0.1625",
          "x":"Teenhome",
          "xref":"x",
          "y":"NumStorePurchases",
          "yref":"y"
         },
         {
          "font":{
           "color":"#FFFFFF"
          },
          "showarrow":false,
          "text":"0.0227",
          "x":"Recency",
          "xref":"x",
          "y":"NumStorePurchases",
          "yref":"y"
         },
         {
          "font":{
           "color":"#FFFFFF"
          },
          "showarrow":false,
          "text":"0.3866",
          "x":"MntWines",
          "xref":"x",
          "y":"NumStorePurchases",
          "yref":"y"
         },
         {
          "font":{
           "color":"#FFFFFF"
          },
          "showarrow":false,
          "text":"0.5672",
          "x":"MntFruits",
          "xref":"x",
          "y":"NumStorePurchases",
          "yref":"y"
         },
         {
          "font":{
           "color":"#FFFFFF"
          },
          "showarrow":false,
          "text":"0.5238",
          "x":"MntMeatProducts",
          "xref":"x",
          "y":"NumStorePurchases",
          "yref":"y"
         },
         {
          "font":{
           "color":"#FFFFFF"
          },
          "showarrow":false,
          "text":"0.5799",
          "x":"MntFishProducts",
          "xref":"x",
          "y":"NumStorePurchases",
          "yref":"y"
         },
         {
          "font":{
           "color":"#FFFFFF"
          },
          "showarrow":false,
          "text":"1.0",
          "x":"MntSweetProducts",
          "xref":"x",
          "y":"NumStorePurchases",
          "yref":"y"
         },
         {
          "font":{
           "color":"#FFFFFF"
          },
          "showarrow":false,
          "text":"0.3697",
          "x":"MntGoldProds",
          "xref":"x",
          "y":"NumStorePurchases",
          "yref":"y"
         },
         {
          "font":{
           "color":"#FFFFFF"
          },
          "showarrow":false,
          "text":"-0.1201",
          "x":"NumDealsPurchases",
          "xref":"x",
          "y":"NumStorePurchases",
          "yref":"y"
         },
         {
          "font":{
           "color":"#FFFFFF"
          },
          "showarrow":false,
          "text":"0.3485",
          "x":"NumWebPurchases",
          "xref":"x",
          "y":"NumStorePurchases",
          "yref":"y"
         },
         {
          "font":{
           "color":"#FFFFFF"
          },
          "showarrow":false,
          "text":"0.4909",
          "x":"NumCatalogPurchases",
          "xref":"x",
          "y":"NumStorePurchases",
          "yref":"y"
         },
         {
          "font":{
           "color":"#FFFFFF"
          },
          "showarrow":false,
          "text":"0.4488",
          "x":"NumStorePurchases",
          "xref":"x",
          "y":"NumStorePurchases",
          "yref":"y"
         },
         {
          "font":{
           "color":"#FFFFFF"
          },
          "showarrow":false,
          "text":"-0.4233",
          "x":"NumWebVisitsMonth",
          "xref":"x",
          "y":"NumStorePurchases",
          "yref":"y"
         },
         {
          "font":{
           "color":"#FFFFFF"
          },
          "showarrow":false,
          "text":"0.0015",
          "x":"AcceptedCmp3",
          "xref":"x",
          "y":"NumStorePurchases",
          "yref":"y"
         },
         {
          "font":{
           "color":"#FFFFFF"
          },
          "showarrow":false,
          "text":"0.0286",
          "x":"AcceptedCmp4",
          "xref":"x",
          "y":"NumStorePurchases",
          "yref":"y"
         },
         {
          "font":{
           "color":"#FFFFFF"
          },
          "showarrow":false,
          "text":"0.2596",
          "x":"AcceptedCmp5",
          "xref":"x",
          "y":"NumStorePurchases",
          "yref":"y"
         },
         {
          "font":{
           "color":"#FFFFFF"
          },
          "showarrow":false,
          "text":"0.2418",
          "x":"AcceptedCmp1",
          "xref":"x",
          "y":"NumStorePurchases",
          "yref":"y"
         },
         {
          "font":{
           "color":"#FFFFFF"
          },
          "showarrow":false,
          "text":"0.01",
          "x":"AcceptedCmp2",
          "xref":"x",
          "y":"NumStorePurchases",
          "yref":"y"
         },
         {
          "font":{
           "color":"#FFFFFF"
          },
          "showarrow":false,
          "text":"-0.0225",
          "x":"Complain",
          "xref":"x",
          "y":"NumStorePurchases",
          "yref":"y"
         },
         {
          "font":{
           "color":"#FFFFFF"
          },
          "showarrow":false,
          "text":"nan",
          "x":"Z_CostContact",
          "xref":"x",
          "y":"NumStorePurchases",
          "yref":"y"
         },
         {
          "font":{
           "color":"#FFFFFF"
          },
          "showarrow":false,
          "text":"nan",
          "x":"Z_Revenue",
          "xref":"x",
          "y":"NumStorePurchases",
          "yref":"y"
         },
         {
          "font":{
           "color":"#FFFFFF"
          },
          "showarrow":false,
          "text":"0.1174",
          "x":"Response",
          "xref":"x",
          "y":"NumStorePurchases",
          "yref":"y"
         },
         {
          "font":{
           "color":"#FFFFFF"
          },
          "showarrow":false,
          "text":"-0.0134",
          "x":"ID",
          "xref":"x",
          "y":"NumCatalogPurchases",
          "yref":"y"
         },
         {
          "font":{
           "color":"#FFFFFF"
          },
          "showarrow":false,
          "text":"-0.0618",
          "x":"Year_Birth",
          "xref":"x",
          "y":"NumCatalogPurchases",
          "yref":"y"
         },
         {
          "font":{
           "color":"#FFFFFF"
          },
          "showarrow":false,
          "text":"0.3259",
          "x":"Income",
          "xref":"x",
          "y":"NumCatalogPurchases",
          "yref":"y"
         },
         {
          "font":{
           "color":"#FFFFFF"
          },
          "showarrow":false,
          "text":"-0.3496",
          "x":"Kidhome",
          "xref":"x",
          "y":"NumCatalogPurchases",
          "yref":"y"
         },
         {
          "font":{
           "color":"#FFFFFF"
          },
          "showarrow":false,
          "text":"-0.0217",
          "x":"Teenhome",
          "xref":"x",
          "y":"NumCatalogPurchases",
          "yref":"y"
         },
         {
          "font":{
           "color":"#FFFFFF"
          },
          "showarrow":false,
          "text":"0.0167",
          "x":"Recency",
          "xref":"x",
          "y":"NumCatalogPurchases",
          "yref":"y"
         },
         {
          "font":{
           "color":"#FFFFFF"
          },
          "showarrow":false,
          "text":"0.3875",
          "x":"MntWines",
          "xref":"x",
          "y":"NumCatalogPurchases",
          "yref":"y"
         },
         {
          "font":{
           "color":"#FFFFFF"
          },
          "showarrow":false,
          "text":"0.393",
          "x":"MntFruits",
          "xref":"x",
          "y":"NumCatalogPurchases",
          "yref":"y"
         },
         {
          "font":{
           "color":"#FFFFFF"
          },
          "showarrow":false,
          "text":"0.3506",
          "x":"MntMeatProducts",
          "xref":"x",
          "y":"NumCatalogPurchases",
          "yref":"y"
         },
         {
          "font":{
           "color":"#FFFFFF"
          },
          "showarrow":false,
          "text":"0.4229",
          "x":"MntFishProducts",
          "xref":"x",
          "y":"NumCatalogPurchases",
          "yref":"y"
         },
         {
          "font":{
           "color":"#FFFFFF"
          },
          "showarrow":false,
          "text":"0.3697",
          "x":"MntSweetProducts",
          "xref":"x",
          "y":"NumCatalogPurchases",
          "yref":"y"
         },
         {
          "font":{
           "color":"#FFFFFF"
          },
          "showarrow":false,
          "text":"1.0",
          "x":"MntGoldProds",
          "xref":"x",
          "y":"NumCatalogPurchases",
          "yref":"y"
         },
         {
          "font":{
           "color":"#FFFFFF"
          },
          "showarrow":false,
          "text":"0.0491",
          "x":"NumDealsPurchases",
          "xref":"x",
          "y":"NumCatalogPurchases",
          "yref":"y"
         },
         {
          "font":{
           "color":"#FFFFFF"
          },
          "showarrow":false,
          "text":"0.4218",
          "x":"NumWebPurchases",
          "xref":"x",
          "y":"NumCatalogPurchases",
          "yref":"y"
         },
         {
          "font":{
           "color":"#FFFFFF"
          },
          "showarrow":false,
          "text":"0.4377",
          "x":"NumCatalogPurchases",
          "xref":"x",
          "y":"NumCatalogPurchases",
          "yref":"y"
         },
         {
          "font":{
           "color":"#FFFFFF"
          },
          "showarrow":false,
          "text":"0.3817",
          "x":"NumStorePurchases",
          "xref":"x",
          "y":"NumCatalogPurchases",
          "yref":"y"
         },
         {
          "font":{
           "color":"#FFFFFF"
          },
          "showarrow":false,
          "text":"-0.2507",
          "x":"NumWebVisitsMonth",
          "xref":"x",
          "y":"NumCatalogPurchases",
          "yref":"y"
         },
         {
          "font":{
           "color":"#FFFFFF"
          },
          "showarrow":false,
          "text":"0.1231",
          "x":"AcceptedCmp3",
          "xref":"x",
          "y":"NumCatalogPurchases",
          "yref":"y"
         },
         {
          "font":{
           "color":"#FFFFFF"
          },
          "showarrow":false,
          "text":"0.0223",
          "x":"AcceptedCmp4",
          "xref":"x",
          "y":"NumCatalogPurchases",
          "yref":"y"
         },
         {
          "font":{
           "color":"#FFFFFF"
          },
          "showarrow":false,
          "text":"0.181",
          "x":"AcceptedCmp5",
          "xref":"x",
          "y":"NumCatalogPurchases",
          "yref":"y"
         },
         {
          "font":{
           "color":"#FFFFFF"
          },
          "showarrow":false,
          "text":"0.1664",
          "x":"AcceptedCmp1",
          "xref":"x",
          "y":"NumCatalogPurchases",
          "yref":"y"
         },
         {
          "font":{
           "color":"#FFFFFF"
          },
          "showarrow":false,
          "text":"0.05",
          "x":"AcceptedCmp2",
          "xref":"x",
          "y":"NumCatalogPurchases",
          "yref":"y"
         },
         {
          "font":{
           "color":"#FFFFFF"
          },
          "showarrow":false,
          "text":"-0.0309",
          "x":"Complain",
          "xref":"x",
          "y":"NumCatalogPurchases",
          "yref":"y"
         },
         {
          "font":{
           "color":"#FFFFFF"
          },
          "showarrow":false,
          "text":"nan",
          "x":"Z_CostContact",
          "xref":"x",
          "y":"NumCatalogPurchases",
          "yref":"y"
         },
         {
          "font":{
           "color":"#FFFFFF"
          },
          "showarrow":false,
          "text":"nan",
          "x":"Z_Revenue",
          "xref":"x",
          "y":"NumCatalogPurchases",
          "yref":"y"
         },
         {
          "font":{
           "color":"#FFFFFF"
          },
          "showarrow":false,
          "text":"0.1399",
          "x":"Response",
          "xref":"x",
          "y":"NumCatalogPurchases",
          "yref":"y"
         },
         {
          "font":{
           "color":"#FFFFFF"
          },
          "showarrow":false,
          "text":"-0.0372",
          "x":"ID",
          "xref":"x",
          "y":"NumWebPurchases",
          "yref":"y"
         },
         {
          "font":{
           "color":"#FFFFFF"
          },
          "showarrow":false,
          "text":"-0.0608",
          "x":"Year_Birth",
          "xref":"x",
          "y":"NumWebPurchases",
          "yref":"y"
         },
         {
          "font":{
           "color":"#FFFFFF"
          },
          "showarrow":false,
          "text":"-0.0831",
          "x":"Income",
          "xref":"x",
          "y":"NumWebPurchases",
          "yref":"y"
         },
         {
          "font":{
           "color":"#FFFFFF"
          },
          "showarrow":false,
          "text":"0.2218",
          "x":"Kidhome",
          "xref":"x",
          "y":"NumWebPurchases",
          "yref":"y"
         },
         {
          "font":{
           "color":"#FFFFFF"
          },
          "showarrow":false,
          "text":"0.3877",
          "x":"Teenhome",
          "xref":"x",
          "y":"NumWebPurchases",
          "yref":"y"
         },
         {
          "font":{
           "color":"#FFFFFF"
          },
          "showarrow":false,
          "text":"-0.0011",
          "x":"Recency",
          "xref":"x",
          "y":"NumWebPurchases",
          "yref":"y"
         },
         {
          "font":{
           "color":"#FFFFFF"
          },
          "showarrow":false,
          "text":"0.0109",
          "x":"MntWines",
          "xref":"x",
          "y":"NumWebPurchases",
          "yref":"y"
         },
         {
          "font":{
           "color":"#FFFFFF"
          },
          "showarrow":false,
          "text":"-0.1321",
          "x":"MntFruits",
          "xref":"x",
          "y":"NumWebPurchases",
          "yref":"y"
         },
         {
          "font":{
           "color":"#FFFFFF"
          },
          "showarrow":false,
          "text":"-0.1224",
          "x":"MntMeatProducts",
          "xref":"x",
          "y":"NumWebPurchases",
          "yref":"y"
         },
         {
          "font":{
           "color":"#FFFFFF"
          },
          "showarrow":false,
          "text":"-0.1394",
          "x":"MntFishProducts",
          "xref":"x",
          "y":"NumWebPurchases",
          "yref":"y"
         },
         {
          "font":{
           "color":"#FFFFFF"
          },
          "showarrow":false,
          "text":"-0.1201",
          "x":"MntSweetProducts",
          "xref":"x",
          "y":"NumWebPurchases",
          "yref":"y"
         },
         {
          "font":{
           "color":"#FFFFFF"
          },
          "showarrow":false,
          "text":"0.0491",
          "x":"MntGoldProds",
          "xref":"x",
          "y":"NumWebPurchases",
          "yref":"y"
         },
         {
          "font":{
           "color":"#FFFFFF"
          },
          "showarrow":false,
          "text":"1.0",
          "x":"NumDealsPurchases",
          "xref":"x",
          "y":"NumWebPurchases",
          "yref":"y"
         },
         {
          "font":{
           "color":"#FFFFFF"
          },
          "showarrow":false,
          "text":"0.2342",
          "x":"NumWebPurchases",
          "xref":"x",
          "y":"NumWebPurchases",
          "yref":"y"
         },
         {
          "font":{
           "color":"#FFFFFF"
          },
          "showarrow":false,
          "text":"-0.0086",
          "x":"NumCatalogPurchases",
          "xref":"x",
          "y":"NumWebPurchases",
          "yref":"y"
         },
         {
          "font":{
           "color":"#FFFFFF"
          },
          "showarrow":false,
          "text":"0.0689",
          "x":"NumStorePurchases",
          "xref":"x",
          "y":"NumWebPurchases",
          "yref":"y"
         },
         {
          "font":{
           "color":"#FFFFFF"
          },
          "showarrow":false,
          "text":"0.3476",
          "x":"NumWebVisitsMonth",
          "xref":"x",
          "y":"NumWebPurchases",
          "yref":"y"
         },
         {
          "font":{
           "color":"#FFFFFF"
          },
          "showarrow":false,
          "text":"-0.0231",
          "x":"AcceptedCmp3",
          "xref":"x",
          "y":"NumWebPurchases",
          "yref":"y"
         },
         {
          "font":{
           "color":"#FFFFFF"
          },
          "showarrow":false,
          "text":"0.0156",
          "x":"AcceptedCmp4",
          "xref":"x",
          "y":"NumWebPurchases",
          "yref":"y"
         },
         {
          "font":{
           "color":"#FFFFFF"
          },
          "showarrow":false,
          "text":"-0.1832",
          "x":"AcceptedCmp5",
          "xref":"x",
          "y":"NumWebPurchases",
          "yref":"y"
         },
         {
          "font":{
           "color":"#FFFFFF"
          },
          "showarrow":false,
          "text":"-0.1232",
          "x":"AcceptedCmp1",
          "xref":"x",
          "y":"NumWebPurchases",
          "yref":"y"
         },
         {
          "font":{
           "color":"#FFFFFF"
          },
          "showarrow":false,
          "text":"-0.0377",
          "x":"AcceptedCmp2",
          "xref":"x",
          "y":"NumWebPurchases",
          "yref":"y"
         },
         {
          "font":{
           "color":"#FFFFFF"
          },
          "showarrow":false,
          "text":"0.0004",
          "x":"Complain",
          "xref":"x",
          "y":"NumWebPurchases",
          "yref":"y"
         },
         {
          "font":{
           "color":"#FFFFFF"
          },
          "showarrow":false,
          "text":"nan",
          "x":"Z_CostContact",
          "xref":"x",
          "y":"NumWebPurchases",
          "yref":"y"
         },
         {
          "font":{
           "color":"#FFFFFF"
          },
          "showarrow":false,
          "text":"nan",
          "x":"Z_Revenue",
          "xref":"x",
          "y":"NumWebPurchases",
          "yref":"y"
         },
         {
          "font":{
           "color":"#FFFFFF"
          },
          "showarrow":false,
          "text":"0.0022",
          "x":"Response",
          "xref":"x",
          "y":"NumWebPurchases",
          "yref":"y"
         },
         {
          "font":{
           "color":"#FFFFFF"
          },
          "showarrow":false,
          "text":"-0.0189",
          "x":"ID",
          "xref":"x",
          "y":"NumDealsPurchases",
          "yref":"y"
         },
         {
          "font":{
           "color":"#FFFFFF"
          },
          "showarrow":false,
          "text":"-0.145",
          "x":"Year_Birth",
          "xref":"x",
          "y":"NumDealsPurchases",
          "yref":"y"
         },
         {
          "font":{
           "color":"#FFFFFF"
          },
          "showarrow":false,
          "text":"0.3879",
          "x":"Income",
          "xref":"x",
          "y":"NumDealsPurchases",
          "yref":"y"
         },
         {
          "font":{
           "color":"#FFFFFF"
          },
          "showarrow":false,
          "text":"-0.3616",
          "x":"Kidhome",
          "xref":"x",
          "y":"NumDealsPurchases",
          "yref":"y"
         },
         {
          "font":{
           "color":"#FFFFFF"
          },
          "showarrow":false,
          "text":"0.1555",
          "x":"Teenhome",
          "xref":"x",
          "y":"NumDealsPurchases",
          "yref":"y"
         },
         {
          "font":{
           "color":"#FFFFFF"
          },
          "showarrow":false,
          "text":"-0.0107",
          "x":"Recency",
          "xref":"x",
          "y":"NumDealsPurchases",
          "yref":"y"
         },
         {
          "font":{
           "color":"#FFFFFF"
          },
          "showarrow":false,
          "text":"0.5423",
          "x":"MntWines",
          "xref":"x",
          "y":"NumDealsPurchases",
          "yref":"y"
         },
         {
          "font":{
           "color":"#FFFFFF"
          },
          "showarrow":false,
          "text":"0.2967",
          "x":"MntFruits",
          "xref":"x",
          "y":"NumDealsPurchases",
          "yref":"y"
         },
         {
          "font":{
           "color":"#FFFFFF"
          },
          "showarrow":false,
          "text":"0.2938",
          "x":"MntMeatProducts",
          "xref":"x",
          "y":"NumDealsPurchases",
          "yref":"y"
         },
         {
          "font":{
           "color":"#FFFFFF"
          },
          "showarrow":false,
          "text":"0.2937",
          "x":"MntFishProducts",
          "xref":"x",
          "y":"NumDealsPurchases",
          "yref":"y"
         },
         {
          "font":{
           "color":"#FFFFFF"
          },
          "showarrow":false,
          "text":"0.3485",
          "x":"MntSweetProducts",
          "xref":"x",
          "y":"NumDealsPurchases",
          "yref":"y"
         },
         {
          "font":{
           "color":"#FFFFFF"
          },
          "showarrow":false,
          "text":"0.4218",
          "x":"MntGoldProds",
          "xref":"x",
          "y":"NumDealsPurchases",
          "yref":"y"
         },
         {
          "font":{
           "color":"#FFFFFF"
          },
          "showarrow":false,
          "text":"0.2342",
          "x":"NumDealsPurchases",
          "xref":"x",
          "y":"NumDealsPurchases",
          "yref":"y"
         },
         {
          "font":{
           "color":"#FFFFFF"
          },
          "showarrow":false,
          "text":"1.0",
          "x":"NumWebPurchases",
          "xref":"x",
          "y":"NumDealsPurchases",
          "yref":"y"
         },
         {
          "font":{
           "color":"#FFFFFF"
          },
          "showarrow":false,
          "text":"0.3784",
          "x":"NumCatalogPurchases",
          "xref":"x",
          "y":"NumDealsPurchases",
          "yref":"y"
         },
         {
          "font":{
           "color":"#FFFFFF"
          },
          "showarrow":false,
          "text":"0.5027",
          "x":"NumStorePurchases",
          "xref":"x",
          "y":"NumDealsPurchases",
          "yref":"y"
         },
         {
          "font":{
           "color":"#FFFFFF"
          },
          "showarrow":false,
          "text":"-0.0558",
          "x":"NumWebVisitsMonth",
          "xref":"x",
          "y":"NumDealsPurchases",
          "yref":"y"
         },
         {
          "font":{
           "color":"#FFFFFF"
          },
          "showarrow":false,
          "text":"0.0422",
          "x":"AcceptedCmp3",
          "xref":"x",
          "y":"NumDealsPurchases",
          "yref":"y"
         },
         {
          "font":{
           "color":"#FFFFFF"
          },
          "showarrow":false,
          "text":"0.1559",
          "x":"AcceptedCmp4",
          "xref":"x",
          "y":"NumDealsPurchases",
          "yref":"y"
         },
         {
          "font":{
           "color":"#FFFFFF"
          },
          "showarrow":false,
          "text":"0.1387",
          "x":"AcceptedCmp5",
          "xref":"x",
          "y":"NumDealsPurchases",
          "yref":"y"
         },
         {
          "font":{
           "color":"#FFFFFF"
          },
          "showarrow":false,
          "text":"0.1551",
          "x":"AcceptedCmp1",
          "xref":"x",
          "y":"NumDealsPurchases",
          "yref":"y"
         },
         {
          "font":{
           "color":"#FFFFFF"
          },
          "showarrow":false,
          "text":"0.0342",
          "x":"AcceptedCmp2",
          "xref":"x",
          "y":"NumDealsPurchases",
          "yref":"y"
         },
         {
          "font":{
           "color":"#FFFFFF"
          },
          "showarrow":false,
          "text":"-0.0163",
          "x":"Complain",
          "xref":"x",
          "y":"NumDealsPurchases",
          "yref":"y"
         },
         {
          "font":{
           "color":"#FFFFFF"
          },
          "showarrow":false,
          "text":"nan",
          "x":"Z_CostContact",
          "xref":"x",
          "y":"NumDealsPurchases",
          "yref":"y"
         },
         {
          "font":{
           "color":"#FFFFFF"
          },
          "showarrow":false,
          "text":"nan",
          "x":"Z_Revenue",
          "xref":"x",
          "y":"NumDealsPurchases",
          "yref":"y"
         },
         {
          "font":{
           "color":"#FFFFFF"
          },
          "showarrow":false,
          "text":"0.1487",
          "x":"Response",
          "xref":"x",
          "y":"NumDealsPurchases",
          "yref":"y"
         },
         {
          "font":{
           "color":"#FFFFFF"
          },
          "showarrow":false,
          "text":"-0.0034",
          "x":"ID",
          "xref":"x",
          "y":"MntGoldProds",
          "yref":"y"
         },
         {
          "font":{
           "color":"#FFFFFF"
          },
          "showarrow":false,
          "text":"-0.1213",
          "x":"Year_Birth",
          "xref":"x",
          "y":"MntGoldProds",
          "yref":"y"
         },
         {
          "font":{
           "color":"#FFFFFF"
          },
          "showarrow":false,
          "text":"0.5892",
          "x":"Income",
          "xref":"x",
          "y":"MntGoldProds",
          "yref":"y"
         },
         {
          "font":{
           "color":"#FFFFFF"
          },
          "showarrow":false,
          "text":"-0.5022",
          "x":"Kidhome",
          "xref":"x",
          "y":"MntGoldProds",
          "yref":"y"
         },
         {
          "font":{
           "color":"#FFFFFF"
          },
          "showarrow":false,
          "text":"-0.1108",
          "x":"Teenhome",
          "xref":"x",
          "y":"MntGoldProds",
          "yref":"y"
         },
         {
          "font":{
           "color":"#FFFFFF"
          },
          "showarrow":false,
          "text":"0.0251",
          "x":"Recency",
          "xref":"x",
          "y":"MntGoldProds",
          "yref":"y"
         },
         {
          "font":{
           "color":"#FFFFFF"
          },
          "showarrow":false,
          "text":"0.6352",
          "x":"MntWines",
          "xref":"x",
          "y":"MntGoldProds",
          "yref":"y"
         },
         {
          "font":{
           "color":"#FFFFFF"
          },
          "showarrow":false,
          "text":"0.4879",
          "x":"MntFruits",
          "xref":"x",
          "y":"MntGoldProds",
          "yref":"y"
         },
         {
          "font":{
           "color":"#FFFFFF"
          },
          "showarrow":false,
          "text":"0.7238",
          "x":"MntMeatProducts",
          "xref":"x",
          "y":"MntGoldProds",
          "yref":"y"
         },
         {
          "font":{
           "color":"#FFFFFF"
          },
          "showarrow":false,
          "text":"0.5345",
          "x":"MntFishProducts",
          "xref":"x",
          "y":"MntGoldProds",
          "yref":"y"
         },
         {
          "font":{
           "color":"#FFFFFF"
          },
          "showarrow":false,
          "text":"0.4909",
          "x":"MntSweetProducts",
          "xref":"x",
          "y":"MntGoldProds",
          "yref":"y"
         },
         {
          "font":{
           "color":"#FFFFFF"
          },
          "showarrow":false,
          "text":"0.4377",
          "x":"MntGoldProds",
          "xref":"x",
          "y":"MntGoldProds",
          "yref":"y"
         },
         {
          "font":{
           "color":"#FFFFFF"
          },
          "showarrow":false,
          "text":"-0.0086",
          "x":"NumDealsPurchases",
          "xref":"x",
          "y":"MntGoldProds",
          "yref":"y"
         },
         {
          "font":{
           "color":"#FFFFFF"
          },
          "showarrow":false,
          "text":"0.3784",
          "x":"NumWebPurchases",
          "xref":"x",
          "y":"MntGoldProds",
          "yref":"y"
         },
         {
          "font":{
           "color":"#FFFFFF"
          },
          "showarrow":false,
          "text":"1.0",
          "x":"NumCatalogPurchases",
          "xref":"x",
          "y":"MntGoldProds",
          "yref":"y"
         },
         {
          "font":{
           "color":"#FFFFFF"
          },
          "showarrow":false,
          "text":"0.5187",
          "x":"NumStorePurchases",
          "xref":"x",
          "y":"MntGoldProds",
          "yref":"y"
         },
         {
          "font":{
           "color":"#FFFFFF"
          },
          "showarrow":false,
          "text":"-0.5204",
          "x":"NumWebVisitsMonth",
          "xref":"x",
          "y":"MntGoldProds",
          "yref":"y"
         },
         {
          "font":{
           "color":"#FFFFFF"
          },
          "showarrow":false,
          "text":"0.1047",
          "x":"AcceptedCmp3",
          "xref":"x",
          "y":"MntGoldProds",
          "yref":"y"
         },
         {
          "font":{
           "color":"#FFFFFF"
          },
          "showarrow":false,
          "text":"0.1392",
          "x":"AcceptedCmp4",
          "xref":"x",
          "y":"MntGoldProds",
          "yref":"y"
         },
         {
          "font":{
           "color":"#FFFFFF"
          },
          "showarrow":false,
          "text":"0.3223",
          "x":"AcceptedCmp5",
          "xref":"x",
          "y":"MntGoldProds",
          "yref":"y"
         },
         {
          "font":{
           "color":"#FFFFFF"
          },
          "showarrow":false,
          "text":"0.3081",
          "x":"AcceptedCmp1",
          "xref":"x",
          "y":"MntGoldProds",
          "yref":"y"
         },
         {
          "font":{
           "color":"#FFFFFF"
          },
          "showarrow":false,
          "text":"0.0999",
          "x":"AcceptedCmp2",
          "xref":"x",
          "y":"MntGoldProds",
          "yref":"y"
         },
         {
          "font":{
           "color":"#FFFFFF"
          },
          "showarrow":false,
          "text":"-0.0205",
          "x":"Complain",
          "xref":"x",
          "y":"MntGoldProds",
          "yref":"y"
         },
         {
          "font":{
           "color":"#FFFFFF"
          },
          "showarrow":false,
          "text":"nan",
          "x":"Z_CostContact",
          "xref":"x",
          "y":"MntGoldProds",
          "yref":"y"
         },
         {
          "font":{
           "color":"#FFFFFF"
          },
          "showarrow":false,
          "text":"nan",
          "x":"Z_Revenue",
          "xref":"x",
          "y":"MntGoldProds",
          "yref":"y"
         },
         {
          "font":{
           "color":"#FFFFFF"
          },
          "showarrow":false,
          "text":"0.2208",
          "x":"Response",
          "xref":"x",
          "y":"MntGoldProds",
          "yref":"y"
         },
         {
          "font":{
           "color":"#FFFFFF"
          },
          "showarrow":false,
          "text":"-0.0149",
          "x":"ID",
          "xref":"x",
          "y":"MntSweetProducts",
          "yref":"y"
         },
         {
          "font":{
           "color":"#FFFFFF"
          },
          "showarrow":false,
          "text":"-0.1283",
          "x":"Year_Birth",
          "xref":"x",
          "y":"MntSweetProducts",
          "yref":"y"
         },
         {
          "font":{
           "color":"#FFFFFF"
          },
          "showarrow":false,
          "text":"0.5294",
          "x":"Income",
          "xref":"x",
          "y":"MntSweetProducts",
          "yref":"y"
         },
         {
          "font":{
           "color":"#FFFFFF"
          },
          "showarrow":false,
          "text":"-0.4997",
          "x":"Kidhome",
          "xref":"x",
          "y":"MntSweetProducts",
          "yref":"y"
         },
         {
          "font":{
           "color":"#FFFFFF"
          },
          "showarrow":false,
          "text":"0.0507",
          "x":"Teenhome",
          "xref":"x",
          "y":"MntSweetProducts",
          "yref":"y"
         },
         {
          "font":{
           "color":"#FFFFFF"
          },
          "showarrow":false,
          "text":"0.0008",
          "x":"Recency",
          "xref":"x",
          "y":"MntSweetProducts",
          "yref":"y"
         },
         {
          "font":{
           "color":"#FFFFFF"
          },
          "showarrow":false,
          "text":"0.6421",
          "x":"MntWines",
          "xref":"x",
          "y":"MntSweetProducts",
          "yref":"y"
         },
         {
          "font":{
           "color":"#FFFFFF"
          },
          "showarrow":false,
          "text":"0.4618",
          "x":"MntFruits",
          "xref":"x",
          "y":"MntSweetProducts",
          "yref":"y"
         },
         {
          "font":{
           "color":"#FFFFFF"
          },
          "showarrow":false,
          "text":"0.4797",
          "x":"MntMeatProducts",
          "xref":"x",
          "y":"MntSweetProducts",
          "yref":"y"
         },
         {
          "font":{
           "color":"#FFFFFF"
          },
          "showarrow":false,
          "text":"0.4599",
          "x":"MntFishProducts",
          "xref":"x",
          "y":"MntSweetProducts",
          "yref":"y"
         },
         {
          "font":{
           "color":"#FFFFFF"
          },
          "showarrow":false,
          "text":"0.4488",
          "x":"MntSweetProducts",
          "xref":"x",
          "y":"MntSweetProducts",
          "yref":"y"
         },
         {
          "font":{
           "color":"#FFFFFF"
          },
          "showarrow":false,
          "text":"0.3817",
          "x":"MntGoldProds",
          "xref":"x",
          "y":"MntSweetProducts",
          "yref":"y"
         },
         {
          "font":{
           "color":"#FFFFFF"
          },
          "showarrow":false,
          "text":"0.0689",
          "x":"NumDealsPurchases",
          "xref":"x",
          "y":"MntSweetProducts",
          "yref":"y"
         },
         {
          "font":{
           "color":"#FFFFFF"
          },
          "showarrow":false,
          "text":"0.5027",
          "x":"NumWebPurchases",
          "xref":"x",
          "y":"MntSweetProducts",
          "yref":"y"
         },
         {
          "font":{
           "color":"#FFFFFF"
          },
          "showarrow":false,
          "text":"0.5187",
          "x":"NumCatalogPurchases",
          "xref":"x",
          "y":"MntSweetProducts",
          "yref":"y"
         },
         {
          "font":{
           "color":"#FFFFFF"
          },
          "showarrow":false,
          "text":"1.0",
          "x":"NumStorePurchases",
          "xref":"x",
          "y":"MntSweetProducts",
          "yref":"y"
         },
         {
          "font":{
           "color":"#FFFFFF"
          },
          "showarrow":false,
          "text":"-0.4285",
          "x":"NumWebVisitsMonth",
          "xref":"x",
          "y":"MntSweetProducts",
          "yref":"y"
         },
         {
          "font":{
           "color":"#FFFFFF"
          },
          "showarrow":false,
          "text":"-0.0676",
          "x":"AcceptedCmp3",
          "xref":"x",
          "y":"MntSweetProducts",
          "yref":"y"
         },
         {
          "font":{
           "color":"#FFFFFF"
          },
          "showarrow":false,
          "text":"0.1794",
          "x":"AcceptedCmp4",
          "xref":"x",
          "y":"MntSweetProducts",
          "yref":"y"
         },
         {
          "font":{
           "color":"#FFFFFF"
          },
          "showarrow":false,
          "text":"0.2148",
          "x":"AcceptedCmp5",
          "xref":"x",
          "y":"MntSweetProducts",
          "yref":"y"
         },
         {
          "font":{
           "color":"#FFFFFF"
          },
          "showarrow":false,
          "text":"0.1832",
          "x":"AcceptedCmp1",
          "xref":"x",
          "y":"MntSweetProducts",
          "yref":"y"
         },
         {
          "font":{
           "color":"#FFFFFF"
          },
          "showarrow":false,
          "text":"0.0852",
          "x":"AcceptedCmp2",
          "xref":"x",
          "y":"MntSweetProducts",
          "yref":"y"
         },
         {
          "font":{
           "color":"#FFFFFF"
          },
          "showarrow":false,
          "text":"-0.0165",
          "x":"Complain",
          "xref":"x",
          "y":"MntSweetProducts",
          "yref":"y"
         },
         {
          "font":{
           "color":"#FFFFFF"
          },
          "showarrow":false,
          "text":"nan",
          "x":"Z_CostContact",
          "xref":"x",
          "y":"MntSweetProducts",
          "yref":"y"
         },
         {
          "font":{
           "color":"#FFFFFF"
          },
          "showarrow":false,
          "text":"nan",
          "x":"Z_Revenue",
          "xref":"x",
          "y":"MntSweetProducts",
          "yref":"y"
         },
         {
          "font":{
           "color":"#FFFFFF"
          },
          "showarrow":false,
          "text":"0.0394",
          "x":"Response",
          "xref":"x",
          "y":"MntSweetProducts",
          "yref":"y"
         },
         {
          "font":{
           "color":"#FFFFFF"
          },
          "showarrow":false,
          "text":"-0.0074",
          "x":"ID",
          "xref":"x",
          "y":"MntFishProducts",
          "yref":"y"
         },
         {
          "font":{
           "color":"#FFFFFF"
          },
          "showarrow":false,
          "text":"0.1211",
          "x":"Year_Birth",
          "xref":"x",
          "y":"MntFishProducts",
          "yref":"y"
         },
         {
          "font":{
           "color":"#FFFFFF"
          },
          "showarrow":false,
          "text":"-0.5531",
          "x":"Income",
          "xref":"x",
          "y":"MntFishProducts",
          "yref":"y"
         },
         {
          "font":{
           "color":"#FFFFFF"
          },
          "showarrow":false,
          "text":"0.4478",
          "x":"Kidhome",
          "xref":"x",
          "y":"MntFishProducts",
          "yref":"y"
         },
         {
          "font":{
           "color":"#FFFFFF"
          },
          "showarrow":false,
          "text":"0.1349",
          "x":"Teenhome",
          "xref":"x",
          "y":"MntFishProducts",
          "yref":"y"
         },
         {
          "font":{
           "color":"#FFFFFF"
          },
          "showarrow":false,
          "text":"-0.0214",
          "x":"Recency",
          "xref":"x",
          "y":"MntFishProducts",
          "yref":"y"
         },
         {
          "font":{
           "color":"#FFFFFF"
          },
          "showarrow":false,
          "text":"-0.3207",
          "x":"MntWines",
          "xref":"x",
          "y":"MntFishProducts",
          "yref":"y"
         },
         {
          "font":{
           "color":"#FFFFFF"
          },
          "showarrow":false,
          "text":"-0.4184",
          "x":"MntFruits",
          "xref":"x",
          "y":"MntFishProducts",
          "yref":"y"
         },
         {
          "font":{
           "color":"#FFFFFF"
          },
          "showarrow":false,
          "text":"-0.5395",
          "x":"MntMeatProducts",
          "xref":"x",
          "y":"MntFishProducts",
          "yref":"y"
         },
         {
          "font":{
           "color":"#FFFFFF"
          },
          "showarrow":false,
          "text":"-0.446",
          "x":"MntFishProducts",
          "xref":"x",
          "y":"MntFishProducts",
          "yref":"y"
         },
         {
          "font":{
           "color":"#FFFFFF"
          },
          "showarrow":false,
          "text":"-0.4233",
          "x":"MntSweetProducts",
          "xref":"x",
          "y":"MntFishProducts",
          "yref":"y"
         },
         {
          "font":{
           "color":"#FFFFFF"
          },
          "showarrow":false,
          "text":"-0.2507",
          "x":"MntGoldProds",
          "xref":"x",
          "y":"MntFishProducts",
          "yref":"y"
         },
         {
          "font":{
           "color":"#FFFFFF"
          },
          "showarrow":false,
          "text":"0.3476",
          "x":"NumDealsPurchases",
          "xref":"x",
          "y":"MntFishProducts",
          "yref":"y"
         },
         {
          "font":{
           "color":"#FFFFFF"
          },
          "showarrow":false,
          "text":"-0.0558",
          "x":"NumWebPurchases",
          "xref":"x",
          "y":"MntFishProducts",
          "yref":"y"
         },
         {
          "font":{
           "color":"#FFFFFF"
          },
          "showarrow":false,
          "text":"-0.5204",
          "x":"NumCatalogPurchases",
          "xref":"x",
          "y":"MntFishProducts",
          "yref":"y"
         },
         {
          "font":{
           "color":"#FFFFFF"
          },
          "showarrow":false,
          "text":"-0.4285",
          "x":"NumStorePurchases",
          "xref":"x",
          "y":"MntFishProducts",
          "yref":"y"
         },
         {
          "font":{
           "color":"#FFFFFF"
          },
          "showarrow":false,
          "text":"1.0",
          "x":"NumWebVisitsMonth",
          "xref":"x",
          "y":"MntFishProducts",
          "yref":"y"
         },
         {
          "font":{
           "color":"#FFFFFF"
          },
          "showarrow":false,
          "text":"0.0612",
          "x":"AcceptedCmp3",
          "xref":"x",
          "y":"MntFishProducts",
          "yref":"y"
         },
         {
          "font":{
           "color":"#FFFFFF"
          },
          "showarrow":false,
          "text":"-0.0321",
          "x":"AcceptedCmp4",
          "xref":"x",
          "y":"MntFishProducts",
          "yref":"y"
         },
         {
          "font":{
           "color":"#FFFFFF"
          },
          "showarrow":false,
          "text":"-0.2781",
          "x":"AcceptedCmp5",
          "xref":"x",
          "y":"MntFishProducts",
          "yref":"y"
         },
         {
          "font":{
           "color":"#FFFFFF"
          },
          "showarrow":false,
          "text":"-0.1925",
          "x":"AcceptedCmp1",
          "xref":"x",
          "y":"MntFishProducts",
          "yref":"y"
         },
         {
          "font":{
           "color":"#FFFFFF"
          },
          "showarrow":false,
          "text":"-0.0072",
          "x":"AcceptedCmp2",
          "xref":"x",
          "y":"MntFishProducts",
          "yref":"y"
         },
         {
          "font":{
           "color":"#FFFFFF"
          },
          "showarrow":false,
          "text":"0.0198",
          "x":"Complain",
          "xref":"x",
          "y":"MntFishProducts",
          "yref":"y"
         },
         {
          "font":{
           "color":"#FFFFFF"
          },
          "showarrow":false,
          "text":"nan",
          "x":"Z_CostContact",
          "xref":"x",
          "y":"MntFishProducts",
          "yref":"y"
         },
         {
          "font":{
           "color":"#FFFFFF"
          },
          "showarrow":false,
          "text":"nan",
          "x":"Z_Revenue",
          "xref":"x",
          "y":"MntFishProducts",
          "yref":"y"
         },
         {
          "font":{
           "color":"#FFFFFF"
          },
          "showarrow":false,
          "text":"-0.004",
          "x":"Response",
          "xref":"x",
          "y":"MntFishProducts",
          "yref":"y"
         },
         {
          "font":{
           "color":"#FFFFFF"
          },
          "showarrow":false,
          "text":"-0.036",
          "x":"ID",
          "xref":"x",
          "y":"MntMeatProducts",
          "yref":"y"
         },
         {
          "font":{
           "color":"#FFFFFF"
          },
          "showarrow":false,
          "text":"0.0618",
          "x":"Year_Birth",
          "xref":"x",
          "y":"MntMeatProducts",
          "yref":"y"
         },
         {
          "font":{
           "color":"#FFFFFF"
          },
          "showarrow":false,
          "text":"-0.0162",
          "x":"Income",
          "xref":"x",
          "y":"MntMeatProducts",
          "yref":"y"
         },
         {
          "font":{
           "color":"#FFFFFF"
          },
          "showarrow":false,
          "text":"0.0147",
          "x":"Kidhome",
          "xref":"x",
          "y":"MntMeatProducts",
          "yref":"y"
         },
         {
          "font":{
           "color":"#FFFFFF"
          },
          "showarrow":false,
          "text":"-0.0427",
          "x":"Teenhome",
          "xref":"x",
          "y":"MntMeatProducts",
          "yref":"y"
         },
         {
          "font":{
           "color":"#FFFFFF"
          },
          "showarrow":false,
          "text":"-0.033",
          "x":"Recency",
          "xref":"x",
          "y":"MntMeatProducts",
          "yref":"y"
         },
         {
          "font":{
           "color":"#FFFFFF"
          },
          "showarrow":false,
          "text":"0.0622",
          "x":"MntWines",
          "xref":"x",
          "y":"MntMeatProducts",
          "yref":"y"
         },
         {
          "font":{
           "color":"#FFFFFF"
          },
          "showarrow":false,
          "text":"0.0147",
          "x":"MntFruits",
          "xref":"x",
          "y":"MntMeatProducts",
          "yref":"y"
         },
         {
          "font":{
           "color":"#FFFFFF"
          },
          "showarrow":false,
          "text":"0.0183",
          "x":"MntMeatProducts",
          "xref":"x",
          "y":"MntMeatProducts",
          "yref":"y"
         },
         {
          "font":{
           "color":"#FFFFFF"
          },
          "showarrow":false,
          "text":"0.0004",
          "x":"MntFishProducts",
          "xref":"x",
          "y":"MntMeatProducts",
          "yref":"y"
         },
         {
          "font":{
           "color":"#FFFFFF"
          },
          "showarrow":false,
          "text":"0.0015",
          "x":"MntSweetProducts",
          "xref":"x",
          "y":"MntMeatProducts",
          "yref":"y"
         },
         {
          "font":{
           "color":"#FFFFFF"
          },
          "showarrow":false,
          "text":"0.1231",
          "x":"MntGoldProds",
          "xref":"x",
          "y":"MntMeatProducts",
          "yref":"y"
         },
         {
          "font":{
           "color":"#FFFFFF"
          },
          "showarrow":false,
          "text":"-0.0231",
          "x":"NumDealsPurchases",
          "xref":"x",
          "y":"MntMeatProducts",
          "yref":"y"
         },
         {
          "font":{
           "color":"#FFFFFF"
          },
          "showarrow":false,
          "text":"0.0422",
          "x":"NumWebPurchases",
          "xref":"x",
          "y":"MntMeatProducts",
          "yref":"y"
         },
         {
          "font":{
           "color":"#FFFFFF"
          },
          "showarrow":false,
          "text":"0.1047",
          "x":"NumCatalogPurchases",
          "xref":"x",
          "y":"MntMeatProducts",
          "yref":"y"
         },
         {
          "font":{
           "color":"#FFFFFF"
          },
          "showarrow":false,
          "text":"-0.0676",
          "x":"NumStorePurchases",
          "xref":"x",
          "y":"MntMeatProducts",
          "yref":"y"
         },
         {
          "font":{
           "color":"#FFFFFF"
          },
          "showarrow":false,
          "text":"0.0612",
          "x":"NumWebVisitsMonth",
          "xref":"x",
          "y":"MntMeatProducts",
          "yref":"y"
         },
         {
          "font":{
           "color":"#FFFFFF"
          },
          "showarrow":false,
          "text":"1.0",
          "x":"AcceptedCmp3",
          "xref":"x",
          "y":"MntMeatProducts",
          "yref":"y"
         },
         {
          "font":{
           "color":"#FFFFFF"
          },
          "showarrow":false,
          "text":"-0.0795",
          "x":"AcceptedCmp4",
          "xref":"x",
          "y":"MntMeatProducts",
          "yref":"y"
         },
         {
          "font":{
           "color":"#FFFFFF"
          },
          "showarrow":false,
          "text":"0.0803",
          "x":"AcceptedCmp5",
          "xref":"x",
          "y":"MntMeatProducts",
          "yref":"y"
         },
         {
          "font":{
           "color":"#FFFFFF"
          },
          "showarrow":false,
          "text":"0.0948",
          "x":"AcceptedCmp1",
          "xref":"x",
          "y":"MntMeatProducts",
          "yref":"y"
         },
         {
          "font":{
           "color":"#FFFFFF"
          },
          "showarrow":false,
          "text":"0.072",
          "x":"AcceptedCmp2",
          "xref":"x",
          "y":"MntMeatProducts",
          "yref":"y"
         },
         {
          "font":{
           "color":"#FFFFFF"
          },
          "showarrow":false,
          "text":"0.0084",
          "x":"Complain",
          "xref":"x",
          "y":"MntMeatProducts",
          "yref":"y"
         },
         {
          "font":{
           "color":"#FFFFFF"
          },
          "showarrow":false,
          "text":"nan",
          "x":"Z_CostContact",
          "xref":"x",
          "y":"MntMeatProducts",
          "yref":"y"
         },
         {
          "font":{
           "color":"#FFFFFF"
          },
          "showarrow":false,
          "text":"nan",
          "x":"Z_Revenue",
          "xref":"x",
          "y":"MntMeatProducts",
          "yref":"y"
         },
         {
          "font":{
           "color":"#FFFFFF"
          },
          "showarrow":false,
          "text":"0.2543",
          "x":"Response",
          "xref":"x",
          "y":"MntMeatProducts",
          "yref":"y"
         },
         {
          "font":{
           "color":"#FFFFFF"
          },
          "showarrow":false,
          "text":"-0.0254",
          "x":"ID",
          "xref":"x",
          "y":"MntFruits",
          "yref":"y"
         },
         {
          "font":{
           "color":"#FFFFFF"
          },
          "showarrow":false,
          "text":"-0.0605",
          "x":"Year_Birth",
          "xref":"x",
          "y":"MntFruits",
          "yref":"y"
         },
         {
          "font":{
           "color":"#FFFFFF"
          },
          "showarrow":false,
          "text":"0.1844",
          "x":"Income",
          "xref":"x",
          "y":"MntFruits",
          "yref":"y"
         },
         {
          "font":{
           "color":"#FFFFFF"
          },
          "showarrow":false,
          "text":"-0.1616",
          "x":"Kidhome",
          "xref":"x",
          "y":"MntFruits",
          "yref":"y"
         },
         {
          "font":{
           "color":"#FFFFFF"
          },
          "showarrow":false,
          "text":"0.0389",
          "x":"Teenhome",
          "xref":"x",
          "y":"MntFruits",
          "yref":"y"
         },
         {
          "font":{
           "color":"#FFFFFF"
          },
          "showarrow":false,
          "text":"0.0188",
          "x":"Recency",
          "xref":"x",
          "y":"MntFruits",
          "yref":"y"
         },
         {
          "font":{
           "color":"#FFFFFF"
          },
          "showarrow":false,
          "text":"0.3733",
          "x":"MntWines",
          "xref":"x",
          "y":"MntFruits",
          "yref":"y"
         },
         {
          "font":{
           "color":"#FFFFFF"
          },
          "showarrow":false,
          "text":"0.0102",
          "x":"MntFruits",
          "xref":"x",
          "y":"MntFruits",
          "yref":"y"
         },
         {
          "font":{
           "color":"#FFFFFF"
          },
          "showarrow":false,
          "text":"0.1029",
          "x":"MntMeatProducts",
          "xref":"x",
          "y":"MntFruits",
          "yref":"y"
         },
         {
          "font":{
           "color":"#FFFFFF"
          },
          "showarrow":false,
          "text":"0.0168",
          "x":"MntFishProducts",
          "xref":"x",
          "y":"MntFruits",
          "yref":"y"
         },
         {
          "font":{
           "color":"#FFFFFF"
          },
          "showarrow":false,
          "text":"0.0286",
          "x":"MntSweetProducts",
          "xref":"x",
          "y":"MntFruits",
          "yref":"y"
         },
         {
          "font":{
           "color":"#FFFFFF"
          },
          "showarrow":false,
          "text":"0.0223",
          "x":"MntGoldProds",
          "xref":"x",
          "y":"MntFruits",
          "yref":"y"
         },
         {
          "font":{
           "color":"#FFFFFF"
          },
          "showarrow":false,
          "text":"0.0156",
          "x":"NumDealsPurchases",
          "xref":"x",
          "y":"MntFruits",
          "yref":"y"
         },
         {
          "font":{
           "color":"#FFFFFF"
          },
          "showarrow":false,
          "text":"0.1559",
          "x":"NumWebPurchases",
          "xref":"x",
          "y":"MntFruits",
          "yref":"y"
         },
         {
          "font":{
           "color":"#FFFFFF"
          },
          "showarrow":false,
          "text":"0.1392",
          "x":"NumCatalogPurchases",
          "xref":"x",
          "y":"MntFruits",
          "yref":"y"
         },
         {
          "font":{
           "color":"#FFFFFF"
          },
          "showarrow":false,
          "text":"0.1794",
          "x":"NumStorePurchases",
          "xref":"x",
          "y":"MntFruits",
          "yref":"y"
         },
         {
          "font":{
           "color":"#FFFFFF"
          },
          "showarrow":false,
          "text":"-0.0321",
          "x":"NumWebVisitsMonth",
          "xref":"x",
          "y":"MntFruits",
          "yref":"y"
         },
         {
          "font":{
           "color":"#FFFFFF"
          },
          "showarrow":false,
          "text":"-0.0795",
          "x":"AcceptedCmp3",
          "xref":"x",
          "y":"MntFruits",
          "yref":"y"
         },
         {
          "font":{
           "color":"#FFFFFF"
          },
          "showarrow":false,
          "text":"1.0",
          "x":"AcceptedCmp4",
          "xref":"x",
          "y":"MntFruits",
          "yref":"y"
         },
         {
          "font":{
           "color":"#FFFFFF"
          },
          "showarrow":false,
          "text":"0.3065",
          "x":"AcceptedCmp5",
          "xref":"x",
          "y":"MntFruits",
          "yref":"y"
         },
         {
          "font":{
           "color":"#FFFFFF"
          },
          "showarrow":false,
          "text":"0.2513",
          "x":"AcceptedCmp1",
          "xref":"x",
          "y":"MntFruits",
          "yref":"y"
         },
         {
          "font":{
           "color":"#FFFFFF"
          },
          "showarrow":false,
          "text":"0.2922",
          "x":"AcceptedCmp2",
          "xref":"x",
          "y":"MntFruits",
          "yref":"y"
         },
         {
          "font":{
           "color":"#FFFFFF"
          },
          "showarrow":false,
          "text":"-0.0276",
          "x":"Complain",
          "xref":"x",
          "y":"MntFruits",
          "yref":"y"
         },
         {
          "font":{
           "color":"#FFFFFF"
          },
          "showarrow":false,
          "text":"nan",
          "x":"Z_CostContact",
          "xref":"x",
          "y":"MntFruits",
          "yref":"y"
         },
         {
          "font":{
           "color":"#FFFFFF"
          },
          "showarrow":false,
          "text":"nan",
          "x":"Z_Revenue",
          "xref":"x",
          "y":"MntFruits",
          "yref":"y"
         },
         {
          "font":{
           "color":"#FFFFFF"
          },
          "showarrow":false,
          "text":"0.177",
          "x":"Response",
          "xref":"x",
          "y":"MntFruits",
          "yref":"y"
         },
         {
          "font":{
           "color":"#FFFFFF"
          },
          "showarrow":false,
          "text":"-0.0075",
          "x":"ID",
          "xref":"x",
          "y":"MntWines",
          "yref":"y"
         },
         {
          "font":{
           "color":"#FFFFFF"
          },
          "showarrow":false,
          "text":"0.0071",
          "x":"Year_Birth",
          "xref":"x",
          "y":"MntWines",
          "yref":"y"
         },
         {
          "font":{
           "color":"#FFFFFF"
          },
          "showarrow":false,
          "text":"0.3359",
          "x":"Income",
          "xref":"x",
          "y":"MntWines",
          "yref":"y"
         },
         {
          "font":{
           "color":"#FFFFFF"
          },
          "showarrow":false,
          "text":"-0.2056",
          "x":"Kidhome",
          "xref":"x",
          "y":"MntWines",
          "yref":"y"
         },
         {
          "font":{
           "color":"#FFFFFF"
          },
          "showarrow":false,
          "text":"-0.191",
          "x":"Teenhome",
          "xref":"x",
          "y":"MntWines",
          "yref":"y"
         },
         {
          "font":{
           "color":"#FFFFFF"
          },
          "showarrow":false,
          "text":"0.0001",
          "x":"Recency",
          "xref":"x",
          "y":"MntWines",
          "yref":"y"
         },
         {
          "font":{
           "color":"#FFFFFF"
          },
          "showarrow":false,
          "text":"0.4726",
          "x":"MntWines",
          "xref":"x",
          "y":"MntWines",
          "yref":"y"
         },
         {
          "font":{
           "color":"#FFFFFF"
          },
          "showarrow":false,
          "text":"0.2158",
          "x":"MntFruits",
          "xref":"x",
          "y":"MntWines",
          "yref":"y"
         },
         {
          "font":{
           "color":"#FFFFFF"
          },
          "showarrow":false,
          "text":"0.3738",
          "x":"MntMeatProducts",
          "xref":"x",
          "y":"MntWines",
          "yref":"y"
         },
         {
          "font":{
           "color":"#FFFFFF"
          },
          "showarrow":false,
          "text":"0.1996",
          "x":"MntFishProducts",
          "xref":"x",
          "y":"MntWines",
          "yref":"y"
         },
         {
          "font":{
           "color":"#FFFFFF"
          },
          "showarrow":false,
          "text":"0.2596",
          "x":"MntSweetProducts",
          "xref":"x",
          "y":"MntWines",
          "yref":"y"
         },
         {
          "font":{
           "color":"#FFFFFF"
          },
          "showarrow":false,
          "text":"0.181",
          "x":"MntGoldProds",
          "xref":"x",
          "y":"MntWines",
          "yref":"y"
         },
         {
          "font":{
           "color":"#FFFFFF"
          },
          "showarrow":false,
          "text":"-0.1832",
          "x":"NumDealsPurchases",
          "xref":"x",
          "y":"MntWines",
          "yref":"y"
         },
         {
          "font":{
           "color":"#FFFFFF"
          },
          "showarrow":false,
          "text":"0.1387",
          "x":"NumWebPurchases",
          "xref":"x",
          "y":"MntWines",
          "yref":"y"
         },
         {
          "font":{
           "color":"#FFFFFF"
          },
          "showarrow":false,
          "text":"0.3223",
          "x":"NumCatalogPurchases",
          "xref":"x",
          "y":"MntWines",
          "yref":"y"
         },
         {
          "font":{
           "color":"#FFFFFF"
          },
          "showarrow":false,
          "text":"0.2148",
          "x":"NumStorePurchases",
          "xref":"x",
          "y":"MntWines",
          "yref":"y"
         },
         {
          "font":{
           "color":"#FFFFFF"
          },
          "showarrow":false,
          "text":"-0.2781",
          "x":"NumWebVisitsMonth",
          "xref":"x",
          "y":"MntWines",
          "yref":"y"
         },
         {
          "font":{
           "color":"#FFFFFF"
          },
          "showarrow":false,
          "text":"0.0803",
          "x":"AcceptedCmp3",
          "xref":"x",
          "y":"MntWines",
          "yref":"y"
         },
         {
          "font":{
           "color":"#FFFFFF"
          },
          "showarrow":false,
          "text":"0.3065",
          "x":"AcceptedCmp4",
          "xref":"x",
          "y":"MntWines",
          "yref":"y"
         },
         {
          "font":{
           "color":"#FFFFFF"
          },
          "showarrow":false,
          "text":"1.0",
          "x":"AcceptedCmp5",
          "xref":"x",
          "y":"MntWines",
          "yref":"y"
         },
         {
          "font":{
           "color":"#FFFFFF"
          },
          "showarrow":false,
          "text":"0.4031",
          "x":"AcceptedCmp1",
          "xref":"x",
          "y":"MntWines",
          "yref":"y"
         },
         {
          "font":{
           "color":"#FFFFFF"
          },
          "showarrow":false,
          "text":"0.2215",
          "x":"AcceptedCmp2",
          "xref":"x",
          "y":"MntWines",
          "yref":"y"
         },
         {
          "font":{
           "color":"#FFFFFF"
          },
          "showarrow":false,
          "text":"-0.0094",
          "x":"Complain",
          "xref":"x",
          "y":"MntWines",
          "yref":"y"
         },
         {
          "font":{
           "color":"#FFFFFF"
          },
          "showarrow":false,
          "text":"nan",
          "x":"Z_CostContact",
          "xref":"x",
          "y":"MntWines",
          "yref":"y"
         },
         {
          "font":{
           "color":"#FFFFFF"
          },
          "showarrow":false,
          "text":"nan",
          "x":"Z_Revenue",
          "xref":"x",
          "y":"MntWines",
          "yref":"y"
         },
         {
          "font":{
           "color":"#FFFFFF"
          },
          "showarrow":false,
          "text":"0.3266",
          "x":"Response",
          "xref":"x",
          "y":"MntWines",
          "yref":"y"
         },
         {
          "font":{
           "color":"#FFFFFF"
          },
          "showarrow":false,
          "text":"-0.0216",
          "x":"ID",
          "xref":"x",
          "y":"Recency",
          "yref":"y"
         },
         {
          "font":{
           "color":"#FFFFFF"
          },
          "showarrow":false,
          "text":"-0.0059",
          "x":"Year_Birth",
          "xref":"x",
          "y":"Recency",
          "yref":"y"
         },
         {
          "font":{
           "color":"#FFFFFF"
          },
          "showarrow":false,
          "text":"0.2768",
          "x":"Income",
          "xref":"x",
          "y":"Recency",
          "yref":"y"
         },
         {
          "font":{
           "color":"#FFFFFF"
          },
          "showarrow":false,
          "text":"-0.1723",
          "x":"Kidhome",
          "xref":"x",
          "y":"Recency",
          "yref":"y"
         },
         {
          "font":{
           "color":"#FFFFFF"
          },
          "showarrow":false,
          "text":"-0.1401",
          "x":"Teenhome",
          "xref":"x",
          "y":"Recency",
          "yref":"y"
         },
         {
          "font":{
           "color":"#FFFFFF"
          },
          "showarrow":false,
          "text":"-0.0193",
          "x":"Recency",
          "xref":"x",
          "y":"Recency",
          "yref":"y"
         },
         {
          "font":{
           "color":"#FFFFFF"
          },
          "showarrow":false,
          "text":"0.3541",
          "x":"MntWines",
          "xref":"x",
          "y":"Recency",
          "yref":"y"
         },
         {
          "font":{
           "color":"#FFFFFF"
          },
          "showarrow":false,
          "text":"0.1947",
          "x":"MntFruits",
          "xref":"x",
          "y":"Recency",
          "yref":"y"
         },
         {
          "font":{
           "color":"#FFFFFF"
          },
          "showarrow":false,
          "text":"0.3098",
          "x":"MntMeatProducts",
          "xref":"x",
          "y":"Recency",
          "yref":"y"
         },
         {
          "font":{
           "color":"#FFFFFF"
          },
          "showarrow":false,
          "text":"0.2608",
          "x":"MntFishProducts",
          "xref":"x",
          "y":"Recency",
          "yref":"y"
         },
         {
          "font":{
           "color":"#FFFFFF"
          },
          "showarrow":false,
          "text":"0.2418",
          "x":"MntSweetProducts",
          "xref":"x",
          "y":"Recency",
          "yref":"y"
         },
         {
          "font":{
           "color":"#FFFFFF"
          },
          "showarrow":false,
          "text":"0.1664",
          "x":"MntGoldProds",
          "xref":"x",
          "y":"Recency",
          "yref":"y"
         },
         {
          "font":{
           "color":"#FFFFFF"
          },
          "showarrow":false,
          "text":"-0.1232",
          "x":"NumDealsPurchases",
          "xref":"x",
          "y":"Recency",
          "yref":"y"
         },
         {
          "font":{
           "color":"#FFFFFF"
          },
          "showarrow":false,
          "text":"0.1551",
          "x":"NumWebPurchases",
          "xref":"x",
          "y":"Recency",
          "yref":"y"
         },
         {
          "font":{
           "color":"#FFFFFF"
          },
          "showarrow":false,
          "text":"0.3081",
          "x":"NumCatalogPurchases",
          "xref":"x",
          "y":"Recency",
          "yref":"y"
         },
         {
          "font":{
           "color":"#FFFFFF"
          },
          "showarrow":false,
          "text":"0.1832",
          "x":"NumStorePurchases",
          "xref":"x",
          "y":"Recency",
          "yref":"y"
         },
         {
          "font":{
           "color":"#FFFFFF"
          },
          "showarrow":false,
          "text":"-0.1925",
          "x":"NumWebVisitsMonth",
          "xref":"x",
          "y":"Recency",
          "yref":"y"
         },
         {
          "font":{
           "color":"#FFFFFF"
          },
          "showarrow":false,
          "text":"0.0948",
          "x":"AcceptedCmp3",
          "xref":"x",
          "y":"Recency",
          "yref":"y"
         },
         {
          "font":{
           "color":"#FFFFFF"
          },
          "showarrow":false,
          "text":"0.2513",
          "x":"AcceptedCmp4",
          "xref":"x",
          "y":"Recency",
          "yref":"y"
         },
         {
          "font":{
           "color":"#FFFFFF"
          },
          "showarrow":false,
          "text":"0.4031",
          "x":"AcceptedCmp5",
          "xref":"x",
          "y":"Recency",
          "yref":"y"
         },
         {
          "font":{
           "color":"#FFFFFF"
          },
          "showarrow":false,
          "text":"1.0",
          "x":"AcceptedCmp1",
          "xref":"x",
          "y":"Recency",
          "yref":"y"
         },
         {
          "font":{
           "color":"#FFFFFF"
          },
          "showarrow":false,
          "text":"0.1753",
          "x":"AcceptedCmp2",
          "xref":"x",
          "y":"Recency",
          "yref":"y"
         },
         {
          "font":{
           "color":"#FFFFFF"
          },
          "showarrow":false,
          "text":"-0.0255",
          "x":"Complain",
          "xref":"x",
          "y":"Recency",
          "yref":"y"
         },
         {
          "font":{
           "color":"#FFFFFF"
          },
          "showarrow":false,
          "text":"nan",
          "x":"Z_CostContact",
          "xref":"x",
          "y":"Recency",
          "yref":"y"
         },
         {
          "font":{
           "color":"#FFFFFF"
          },
          "showarrow":false,
          "text":"nan",
          "x":"Z_Revenue",
          "xref":"x",
          "y":"Recency",
          "yref":"y"
         },
         {
          "font":{
           "color":"#FFFFFF"
          },
          "showarrow":false,
          "text":"0.294",
          "x":"Response",
          "xref":"x",
          "y":"Recency",
          "yref":"y"
         },
         {
          "font":{
           "color":"#FFFFFF"
          },
          "showarrow":false,
          "text":"-0.0151",
          "x":"ID",
          "xref":"x",
          "y":"Teenhome",
          "yref":"y"
         },
         {
          "font":{
           "color":"#FFFFFF"
          },
          "showarrow":false,
          "text":"-0.0065",
          "x":"Year_Birth",
          "xref":"x",
          "y":"Teenhome",
          "yref":"y"
         },
         {
          "font":{
           "color":"#FFFFFF"
          },
          "showarrow":false,
          "text":"0.0875",
          "x":"Income",
          "xref":"x",
          "y":"Teenhome",
          "yref":"y"
         },
         {
          "font":{
           "color":"#FFFFFF"
          },
          "showarrow":false,
          "text":"-0.0817",
          "x":"Kidhome",
          "xref":"x",
          "y":"Teenhome",
          "yref":"y"
         },
         {
          "font":{
           "color":"#FFFFFF"
          },
          "showarrow":false,
          "text":"-0.0156",
          "x":"Teenhome",
          "xref":"x",
          "y":"Teenhome",
          "yref":"y"
         },
         {
          "font":{
           "color":"#FFFFFF"
          },
          "showarrow":false,
          "text":"-0.0018",
          "x":"Recency",
          "xref":"x",
          "y":"Teenhome",
          "yref":"y"
         },
         {
          "font":{
           "color":"#FFFFFF"
          },
          "showarrow":false,
          "text":"0.2059",
          "x":"MntWines",
          "xref":"x",
          "y":"Teenhome",
          "yref":"y"
         },
         {
          "font":{
           "color":"#FFFFFF"
          },
          "showarrow":false,
          "text":"-0.0098",
          "x":"MntFruits",
          "xref":"x",
          "y":"Teenhome",
          "yref":"y"
         },
         {
          "font":{
           "color":"#FFFFFF"
          },
          "showarrow":false,
          "text":"0.043",
          "x":"MntMeatProducts",
          "xref":"x",
          "y":"Teenhome",
          "yref":"y"
         },
         {
          "font":{
           "color":"#FFFFFF"
          },
          "showarrow":false,
          "text":"0.0026",
          "x":"MntFishProducts",
          "xref":"x",
          "y":"Teenhome",
          "yref":"y"
         },
         {
          "font":{
           "color":"#FFFFFF"
          },
          "showarrow":false,
          "text":"0.01",
          "x":"MntSweetProducts",
          "xref":"x",
          "y":"Teenhome",
          "yref":"y"
         },
         {
          "font":{
           "color":"#FFFFFF"
          },
          "showarrow":false,
          "text":"0.05",
          "x":"MntGoldProds",
          "xref":"x",
          "y":"Teenhome",
          "yref":"y"
         },
         {
          "font":{
           "color":"#FFFFFF"
          },
          "showarrow":false,
          "text":"-0.0377",
          "x":"NumDealsPurchases",
          "xref":"x",
          "y":"Teenhome",
          "yref":"y"
         },
         {
          "font":{
           "color":"#FFFFFF"
          },
          "showarrow":false,
          "text":"0.0342",
          "x":"NumWebPurchases",
          "xref":"x",
          "y":"Teenhome",
          "yref":"y"
         },
         {
          "font":{
           "color":"#FFFFFF"
          },
          "showarrow":false,
          "text":"0.0999",
          "x":"NumCatalogPurchases",
          "xref":"x",
          "y":"Teenhome",
          "yref":"y"
         },
         {
          "font":{
           "color":"#FFFFFF"
          },
          "showarrow":false,
          "text":"0.0852",
          "x":"NumStorePurchases",
          "xref":"x",
          "y":"Teenhome",
          "yref":"y"
         },
         {
          "font":{
           "color":"#FFFFFF"
          },
          "showarrow":false,
          "text":"-0.0072",
          "x":"NumWebVisitsMonth",
          "xref":"x",
          "y":"Teenhome",
          "yref":"y"
         },
         {
          "font":{
           "color":"#FFFFFF"
          },
          "showarrow":false,
          "text":"0.072",
          "x":"AcceptedCmp3",
          "xref":"x",
          "y":"Teenhome",
          "yref":"y"
         },
         {
          "font":{
           "color":"#FFFFFF"
          },
          "showarrow":false,
          "text":"0.2922",
          "x":"AcceptedCmp4",
          "xref":"x",
          "y":"Teenhome",
          "yref":"y"
         },
         {
          "font":{
           "color":"#FFFFFF"
          },
          "showarrow":false,
          "text":"0.2215",
          "x":"AcceptedCmp5",
          "xref":"x",
          "y":"Teenhome",
          "yref":"y"
         },
         {
          "font":{
           "color":"#FFFFFF"
          },
          "showarrow":false,
          "text":"0.1753",
          "x":"AcceptedCmp1",
          "xref":"x",
          "y":"Teenhome",
          "yref":"y"
         },
         {
          "font":{
           "color":"#FFFFFF"
          },
          "showarrow":false,
          "text":"1.0",
          "x":"AcceptedCmp2",
          "xref":"x",
          "y":"Teenhome",
          "yref":"y"
         },
         {
          "font":{
           "color":"#FFFFFF"
          },
          "showarrow":false,
          "text":"-0.0113",
          "x":"Complain",
          "xref":"x",
          "y":"Teenhome",
          "yref":"y"
         },
         {
          "font":{
           "color":"#FFFFFF"
          },
          "showarrow":false,
          "text":"nan",
          "x":"Z_CostContact",
          "xref":"x",
          "y":"Teenhome",
          "yref":"y"
         },
         {
          "font":{
           "color":"#FFFFFF"
          },
          "showarrow":false,
          "text":"nan",
          "x":"Z_Revenue",
          "xref":"x",
          "y":"Teenhome",
          "yref":"y"
         },
         {
          "font":{
           "color":"#FFFFFF"
          },
          "showarrow":false,
          "text":"0.1693",
          "x":"Response",
          "xref":"x",
          "y":"Teenhome",
          "yref":"y"
         },
         {
          "font":{
           "color":"#FFFFFF"
          },
          "showarrow":false,
          "text":"0.0339",
          "x":"ID",
          "xref":"x",
          "y":"Kidhome",
          "yref":"y"
         },
         {
          "font":{
           "color":"#FFFFFF"
          },
          "showarrow":false,
          "text":"-0.0301",
          "x":"Year_Birth",
          "xref":"x",
          "y":"Kidhome",
          "yref":"y"
         },
         {
          "font":{
           "color":"#FFFFFF"
          },
          "showarrow":false,
          "text":"-0.0272",
          "x":"Income",
          "xref":"x",
          "y":"Kidhome",
          "yref":"y"
         },
         {
          "font":{
           "color":"#FFFFFF"
          },
          "showarrow":false,
          "text":"0.0402",
          "x":"Kidhome",
          "xref":"x",
          "y":"Kidhome",
          "yref":"y"
         },
         {
          "font":{
           "color":"#FFFFFF"
          },
          "showarrow":false,
          "text":"0.0031",
          "x":"Teenhome",
          "xref":"x",
          "y":"Kidhome",
          "yref":"y"
         },
         {
          "font":{
           "color":"#FFFFFF"
          },
          "showarrow":false,
          "text":"0.0132",
          "x":"Recency",
          "xref":"x",
          "y":"Kidhome",
          "yref":"y"
         },
         {
          "font":{
           "color":"#FFFFFF"
          },
          "showarrow":false,
          "text":"-0.039",
          "x":"MntWines",
          "xref":"x",
          "y":"Kidhome",
          "yref":"y"
         },
         {
          "font":{
           "color":"#FFFFFF"
          },
          "showarrow":false,
          "text":"-0.0052",
          "x":"MntFruits",
          "xref":"x",
          "y":"Kidhome",
          "yref":"y"
         },
         {
          "font":{
           "color":"#FFFFFF"
          },
          "showarrow":false,
          "text":"-0.0235",
          "x":"MntMeatProducts",
          "xref":"x",
          "y":"Kidhome",
          "yref":"y"
         },
         {
          "font":{
           "color":"#FFFFFF"
          },
          "showarrow":false,
          "text":"-0.021",
          "x":"MntFishProducts",
          "xref":"x",
          "y":"Kidhome",
          "yref":"y"
         },
         {
          "font":{
           "color":"#FFFFFF"
          },
          "showarrow":false,
          "text":"-0.0225",
          "x":"MntSweetProducts",
          "xref":"x",
          "y":"Kidhome",
          "yref":"y"
         },
         {
          "font":{
           "color":"#FFFFFF"
          },
          "showarrow":false,
          "text":"-0.0309",
          "x":"MntGoldProds",
          "xref":"x",
          "y":"Kidhome",
          "yref":"y"
         },
         {
          "font":{
           "color":"#FFFFFF"
          },
          "showarrow":false,
          "text":"0.0004",
          "x":"NumDealsPurchases",
          "xref":"x",
          "y":"Kidhome",
          "yref":"y"
         },
         {
          "font":{
           "color":"#FFFFFF"
          },
          "showarrow":false,
          "text":"-0.0163",
          "x":"NumWebPurchases",
          "xref":"x",
          "y":"Kidhome",
          "yref":"y"
         },
         {
          "font":{
           "color":"#FFFFFF"
          },
          "showarrow":false,
          "text":"-0.0205",
          "x":"NumCatalogPurchases",
          "xref":"x",
          "y":"Kidhome",
          "yref":"y"
         },
         {
          "font":{
           "color":"#FFFFFF"
          },
          "showarrow":false,
          "text":"-0.0165",
          "x":"NumStorePurchases",
          "xref":"x",
          "y":"Kidhome",
          "yref":"y"
         },
         {
          "font":{
           "color":"#FFFFFF"
          },
          "showarrow":false,
          "text":"0.0198",
          "x":"NumWebVisitsMonth",
          "xref":"x",
          "y":"Kidhome",
          "yref":"y"
         },
         {
          "font":{
           "color":"#FFFFFF"
          },
          "showarrow":false,
          "text":"0.0084",
          "x":"AcceptedCmp3",
          "xref":"x",
          "y":"Kidhome",
          "yref":"y"
         },
         {
          "font":{
           "color":"#FFFFFF"
          },
          "showarrow":false,
          "text":"-0.0276",
          "x":"AcceptedCmp4",
          "xref":"x",
          "y":"Kidhome",
          "yref":"y"
         },
         {
          "font":{
           "color":"#FFFFFF"
          },
          "showarrow":false,
          "text":"-0.0094",
          "x":"AcceptedCmp5",
          "xref":"x",
          "y":"Kidhome",
          "yref":"y"
         },
         {
          "font":{
           "color":"#FFFFFF"
          },
          "showarrow":false,
          "text":"-0.0255",
          "x":"AcceptedCmp1",
          "xref":"x",
          "y":"Kidhome",
          "yref":"y"
         },
         {
          "font":{
           "color":"#FFFFFF"
          },
          "showarrow":false,
          "text":"-0.0113",
          "x":"AcceptedCmp2",
          "xref":"x",
          "y":"Kidhome",
          "yref":"y"
         },
         {
          "font":{
           "color":"#FFFFFF"
          },
          "showarrow":false,
          "text":"1.0",
          "x":"Complain",
          "xref":"x",
          "y":"Kidhome",
          "yref":"y"
         },
         {
          "font":{
           "color":"#FFFFFF"
          },
          "showarrow":false,
          "text":"nan",
          "x":"Z_CostContact",
          "xref":"x",
          "y":"Kidhome",
          "yref":"y"
         },
         {
          "font":{
           "color":"#FFFFFF"
          },
          "showarrow":false,
          "text":"nan",
          "x":"Z_Revenue",
          "xref":"x",
          "y":"Kidhome",
          "yref":"y"
         },
         {
          "font":{
           "color":"#FFFFFF"
          },
          "showarrow":false,
          "text":"-0.0017",
          "x":"Response",
          "xref":"x",
          "y":"Kidhome",
          "yref":"y"
         },
         {
          "font":{
           "color":"#FFFFFF"
          },
          "showarrow":false,
          "text":"nan",
          "x":"ID",
          "xref":"x",
          "y":"Income",
          "yref":"y"
         },
         {
          "font":{
           "color":"#FFFFFF"
          },
          "showarrow":false,
          "text":"nan",
          "x":"Year_Birth",
          "xref":"x",
          "y":"Income",
          "yref":"y"
         },
         {
          "font":{
           "color":"#FFFFFF"
          },
          "showarrow":false,
          "text":"nan",
          "x":"Income",
          "xref":"x",
          "y":"Income",
          "yref":"y"
         },
         {
          "font":{
           "color":"#FFFFFF"
          },
          "showarrow":false,
          "text":"nan",
          "x":"Kidhome",
          "xref":"x",
          "y":"Income",
          "yref":"y"
         },
         {
          "font":{
           "color":"#FFFFFF"
          },
          "showarrow":false,
          "text":"nan",
          "x":"Teenhome",
          "xref":"x",
          "y":"Income",
          "yref":"y"
         },
         {
          "font":{
           "color":"#FFFFFF"
          },
          "showarrow":false,
          "text":"nan",
          "x":"Recency",
          "xref":"x",
          "y":"Income",
          "yref":"y"
         },
         {
          "font":{
           "color":"#FFFFFF"
          },
          "showarrow":false,
          "text":"nan",
          "x":"MntWines",
          "xref":"x",
          "y":"Income",
          "yref":"y"
         },
         {
          "font":{
           "color":"#FFFFFF"
          },
          "showarrow":false,
          "text":"nan",
          "x":"MntFruits",
          "xref":"x",
          "y":"Income",
          "yref":"y"
         },
         {
          "font":{
           "color":"#FFFFFF"
          },
          "showarrow":false,
          "text":"nan",
          "x":"MntMeatProducts",
          "xref":"x",
          "y":"Income",
          "yref":"y"
         },
         {
          "font":{
           "color":"#FFFFFF"
          },
          "showarrow":false,
          "text":"nan",
          "x":"MntFishProducts",
          "xref":"x",
          "y":"Income",
          "yref":"y"
         },
         {
          "font":{
           "color":"#FFFFFF"
          },
          "showarrow":false,
          "text":"nan",
          "x":"MntSweetProducts",
          "xref":"x",
          "y":"Income",
          "yref":"y"
         },
         {
          "font":{
           "color":"#FFFFFF"
          },
          "showarrow":false,
          "text":"nan",
          "x":"MntGoldProds",
          "xref":"x",
          "y":"Income",
          "yref":"y"
         },
         {
          "font":{
           "color":"#FFFFFF"
          },
          "showarrow":false,
          "text":"nan",
          "x":"NumDealsPurchases",
          "xref":"x",
          "y":"Income",
          "yref":"y"
         },
         {
          "font":{
           "color":"#FFFFFF"
          },
          "showarrow":false,
          "text":"nan",
          "x":"NumWebPurchases",
          "xref":"x",
          "y":"Income",
          "yref":"y"
         },
         {
          "font":{
           "color":"#FFFFFF"
          },
          "showarrow":false,
          "text":"nan",
          "x":"NumCatalogPurchases",
          "xref":"x",
          "y":"Income",
          "yref":"y"
         },
         {
          "font":{
           "color":"#FFFFFF"
          },
          "showarrow":false,
          "text":"nan",
          "x":"NumStorePurchases",
          "xref":"x",
          "y":"Income",
          "yref":"y"
         },
         {
          "font":{
           "color":"#FFFFFF"
          },
          "showarrow":false,
          "text":"nan",
          "x":"NumWebVisitsMonth",
          "xref":"x",
          "y":"Income",
          "yref":"y"
         },
         {
          "font":{
           "color":"#FFFFFF"
          },
          "showarrow":false,
          "text":"nan",
          "x":"AcceptedCmp3",
          "xref":"x",
          "y":"Income",
          "yref":"y"
         },
         {
          "font":{
           "color":"#FFFFFF"
          },
          "showarrow":false,
          "text":"nan",
          "x":"AcceptedCmp4",
          "xref":"x",
          "y":"Income",
          "yref":"y"
         },
         {
          "font":{
           "color":"#FFFFFF"
          },
          "showarrow":false,
          "text":"nan",
          "x":"AcceptedCmp5",
          "xref":"x",
          "y":"Income",
          "yref":"y"
         },
         {
          "font":{
           "color":"#FFFFFF"
          },
          "showarrow":false,
          "text":"nan",
          "x":"AcceptedCmp1",
          "xref":"x",
          "y":"Income",
          "yref":"y"
         },
         {
          "font":{
           "color":"#FFFFFF"
          },
          "showarrow":false,
          "text":"nan",
          "x":"AcceptedCmp2",
          "xref":"x",
          "y":"Income",
          "yref":"y"
         },
         {
          "font":{
           "color":"#FFFFFF"
          },
          "showarrow":false,
          "text":"nan",
          "x":"Complain",
          "xref":"x",
          "y":"Income",
          "yref":"y"
         },
         {
          "font":{
           "color":"#FFFFFF"
          },
          "showarrow":false,
          "text":"nan",
          "x":"Z_CostContact",
          "xref":"x",
          "y":"Income",
          "yref":"y"
         },
         {
          "font":{
           "color":"#FFFFFF"
          },
          "showarrow":false,
          "text":"nan",
          "x":"Z_Revenue",
          "xref":"x",
          "y":"Income",
          "yref":"y"
         },
         {
          "font":{
           "color":"#FFFFFF"
          },
          "showarrow":false,
          "text":"nan",
          "x":"Response",
          "xref":"x",
          "y":"Income",
          "yref":"y"
         },
         {
          "font":{
           "color":"#FFFFFF"
          },
          "showarrow":false,
          "text":"nan",
          "x":"ID",
          "xref":"x",
          "y":"Year_Birth",
          "yref":"y"
         },
         {
          "font":{
           "color":"#FFFFFF"
          },
          "showarrow":false,
          "text":"nan",
          "x":"Year_Birth",
          "xref":"x",
          "y":"Year_Birth",
          "yref":"y"
         },
         {
          "font":{
           "color":"#FFFFFF"
          },
          "showarrow":false,
          "text":"nan",
          "x":"Income",
          "xref":"x",
          "y":"Year_Birth",
          "yref":"y"
         },
         {
          "font":{
           "color":"#FFFFFF"
          },
          "showarrow":false,
          "text":"nan",
          "x":"Kidhome",
          "xref":"x",
          "y":"Year_Birth",
          "yref":"y"
         },
         {
          "font":{
           "color":"#FFFFFF"
          },
          "showarrow":false,
          "text":"nan",
          "x":"Teenhome",
          "xref":"x",
          "y":"Year_Birth",
          "yref":"y"
         },
         {
          "font":{
           "color":"#FFFFFF"
          },
          "showarrow":false,
          "text":"nan",
          "x":"Recency",
          "xref":"x",
          "y":"Year_Birth",
          "yref":"y"
         },
         {
          "font":{
           "color":"#FFFFFF"
          },
          "showarrow":false,
          "text":"nan",
          "x":"MntWines",
          "xref":"x",
          "y":"Year_Birth",
          "yref":"y"
         },
         {
          "font":{
           "color":"#FFFFFF"
          },
          "showarrow":false,
          "text":"nan",
          "x":"MntFruits",
          "xref":"x",
          "y":"Year_Birth",
          "yref":"y"
         },
         {
          "font":{
           "color":"#FFFFFF"
          },
          "showarrow":false,
          "text":"nan",
          "x":"MntMeatProducts",
          "xref":"x",
          "y":"Year_Birth",
          "yref":"y"
         },
         {
          "font":{
           "color":"#FFFFFF"
          },
          "showarrow":false,
          "text":"nan",
          "x":"MntFishProducts",
          "xref":"x",
          "y":"Year_Birth",
          "yref":"y"
         },
         {
          "font":{
           "color":"#FFFFFF"
          },
          "showarrow":false,
          "text":"nan",
          "x":"MntSweetProducts",
          "xref":"x",
          "y":"Year_Birth",
          "yref":"y"
         },
         {
          "font":{
           "color":"#FFFFFF"
          },
          "showarrow":false,
          "text":"nan",
          "x":"MntGoldProds",
          "xref":"x",
          "y":"Year_Birth",
          "yref":"y"
         },
         {
          "font":{
           "color":"#FFFFFF"
          },
          "showarrow":false,
          "text":"nan",
          "x":"NumDealsPurchases",
          "xref":"x",
          "y":"Year_Birth",
          "yref":"y"
         },
         {
          "font":{
           "color":"#FFFFFF"
          },
          "showarrow":false,
          "text":"nan",
          "x":"NumWebPurchases",
          "xref":"x",
          "y":"Year_Birth",
          "yref":"y"
         },
         {
          "font":{
           "color":"#FFFFFF"
          },
          "showarrow":false,
          "text":"nan",
          "x":"NumCatalogPurchases",
          "xref":"x",
          "y":"Year_Birth",
          "yref":"y"
         },
         {
          "font":{
           "color":"#FFFFFF"
          },
          "showarrow":false,
          "text":"nan",
          "x":"NumStorePurchases",
          "xref":"x",
          "y":"Year_Birth",
          "yref":"y"
         },
         {
          "font":{
           "color":"#FFFFFF"
          },
          "showarrow":false,
          "text":"nan",
          "x":"NumWebVisitsMonth",
          "xref":"x",
          "y":"Year_Birth",
          "yref":"y"
         },
         {
          "font":{
           "color":"#FFFFFF"
          },
          "showarrow":false,
          "text":"nan",
          "x":"AcceptedCmp3",
          "xref":"x",
          "y":"Year_Birth",
          "yref":"y"
         },
         {
          "font":{
           "color":"#FFFFFF"
          },
          "showarrow":false,
          "text":"nan",
          "x":"AcceptedCmp4",
          "xref":"x",
          "y":"Year_Birth",
          "yref":"y"
         },
         {
          "font":{
           "color":"#FFFFFF"
          },
          "showarrow":false,
          "text":"nan",
          "x":"AcceptedCmp5",
          "xref":"x",
          "y":"Year_Birth",
          "yref":"y"
         },
         {
          "font":{
           "color":"#FFFFFF"
          },
          "showarrow":false,
          "text":"nan",
          "x":"AcceptedCmp1",
          "xref":"x",
          "y":"Year_Birth",
          "yref":"y"
         },
         {
          "font":{
           "color":"#FFFFFF"
          },
          "showarrow":false,
          "text":"nan",
          "x":"AcceptedCmp2",
          "xref":"x",
          "y":"Year_Birth",
          "yref":"y"
         },
         {
          "font":{
           "color":"#FFFFFF"
          },
          "showarrow":false,
          "text":"nan",
          "x":"Complain",
          "xref":"x",
          "y":"Year_Birth",
          "yref":"y"
         },
         {
          "font":{
           "color":"#FFFFFF"
          },
          "showarrow":false,
          "text":"nan",
          "x":"Z_CostContact",
          "xref":"x",
          "y":"Year_Birth",
          "yref":"y"
         },
         {
          "font":{
           "color":"#FFFFFF"
          },
          "showarrow":false,
          "text":"nan",
          "x":"Z_Revenue",
          "xref":"x",
          "y":"Year_Birth",
          "yref":"y"
         },
         {
          "font":{
           "color":"#FFFFFF"
          },
          "showarrow":false,
          "text":"nan",
          "x":"Response",
          "xref":"x",
          "y":"Year_Birth",
          "yref":"y"
         },
         {
          "font":{
           "color":"#FFFFFF"
          },
          "showarrow":false,
          "text":"-0.022",
          "x":"ID",
          "xref":"x",
          "y":"ID",
          "yref":"y"
         },
         {
          "font":{
           "color":"#FFFFFF"
          },
          "showarrow":false,
          "text":"0.0213",
          "x":"Year_Birth",
          "xref":"x",
          "y":"ID",
          "yref":"y"
         },
         {
          "font":{
           "color":"#FFFFFF"
          },
          "showarrow":false,
          "text":"0.133",
          "x":"Income",
          "xref":"x",
          "y":"ID",
          "yref":"y"
         },
         {
          "font":{
           "color":"#FFFFFF"
          },
          "showarrow":false,
          "text":"-0.08",
          "x":"Kidhome",
          "xref":"x",
          "y":"ID",
          "yref":"y"
         },
         {
          "font":{
           "color":"#FFFFFF"
          },
          "showarrow":false,
          "text":"-0.1544",
          "x":"Teenhome",
          "xref":"x",
          "y":"ID",
          "yref":"y"
         },
         {
          "font":{
           "color":"#FFFFFF"
          },
          "showarrow":false,
          "text":"-0.1984",
          "x":"Recency",
          "xref":"x",
          "y":"ID",
          "yref":"y"
         },
         {
          "font":{
           "color":"#FFFFFF"
          },
          "showarrow":false,
          "text":"0.2473",
          "x":"MntWines",
          "xref":"x",
          "y":"ID",
          "yref":"y"
         },
         {
          "font":{
           "color":"#FFFFFF"
          },
          "showarrow":false,
          "text":"0.1253",
          "x":"MntFruits",
          "xref":"x",
          "y":"ID",
          "yref":"y"
         },
         {
          "font":{
           "color":"#FFFFFF"
          },
          "showarrow":false,
          "text":"0.2363",
          "x":"MntMeatProducts",
          "xref":"x",
          "y":"ID",
          "yref":"y"
         },
         {
          "font":{
           "color":"#FFFFFF"
          },
          "showarrow":false,
          "text":"0.1113",
          "x":"MntFishProducts",
          "xref":"x",
          "y":"ID",
          "yref":"y"
         },
         {
          "font":{
           "color":"#FFFFFF"
          },
          "showarrow":false,
          "text":"0.1174",
          "x":"MntSweetProducts",
          "xref":"x",
          "y":"ID",
          "yref":"y"
         },
         {
          "font":{
           "color":"#FFFFFF"
          },
          "showarrow":false,
          "text":"0.1399",
          "x":"MntGoldProds",
          "xref":"x",
          "y":"ID",
          "yref":"y"
         },
         {
          "font":{
           "color":"#FFFFFF"
          },
          "showarrow":false,
          "text":"0.0022",
          "x":"NumDealsPurchases",
          "xref":"x",
          "y":"ID",
          "yref":"y"
         },
         {
          "font":{
           "color":"#FFFFFF"
          },
          "showarrow":false,
          "text":"0.1487",
          "x":"NumWebPurchases",
          "xref":"x",
          "y":"ID",
          "yref":"y"
         },
         {
          "font":{
           "color":"#FFFFFF"
          },
          "showarrow":false,
          "text":"0.2208",
          "x":"NumCatalogPurchases",
          "xref":"x",
          "y":"ID",
          "yref":"y"
         },
         {
          "font":{
           "color":"#FFFFFF"
          },
          "showarrow":false,
          "text":"0.0394",
          "x":"NumStorePurchases",
          "xref":"x",
          "y":"ID",
          "yref":"y"
         },
         {
          "font":{
           "color":"#FFFFFF"
          },
          "showarrow":false,
          "text":"-0.004",
          "x":"NumWebVisitsMonth",
          "xref":"x",
          "y":"ID",
          "yref":"y"
         },
         {
          "font":{
           "color":"#FFFFFF"
          },
          "showarrow":false,
          "text":"0.2543",
          "x":"AcceptedCmp3",
          "xref":"x",
          "y":"ID",
          "yref":"y"
         },
         {
          "font":{
           "color":"#FFFFFF"
          },
          "showarrow":false,
          "text":"0.177",
          "x":"AcceptedCmp4",
          "xref":"x",
          "y":"ID",
          "yref":"y"
         },
         {
          "font":{
           "color":"#FFFFFF"
          },
          "showarrow":false,
          "text":"0.3266",
          "x":"AcceptedCmp5",
          "xref":"x",
          "y":"ID",
          "yref":"y"
         },
         {
          "font":{
           "color":"#FFFFFF"
          },
          "showarrow":false,
          "text":"0.294",
          "x":"AcceptedCmp1",
          "xref":"x",
          "y":"ID",
          "yref":"y"
         },
         {
          "font":{
           "color":"#FFFFFF"
          },
          "showarrow":false,
          "text":"0.1693",
          "x":"AcceptedCmp2",
          "xref":"x",
          "y":"ID",
          "yref":"y"
         },
         {
          "font":{
           "color":"#FFFFFF"
          },
          "showarrow":false,
          "text":"-0.0017",
          "x":"Complain",
          "xref":"x",
          "y":"ID",
          "yref":"y"
         },
         {
          "font":{
           "color":"#FFFFFF"
          },
          "showarrow":false,
          "text":"nan",
          "x":"Z_CostContact",
          "xref":"x",
          "y":"ID",
          "yref":"y"
         },
         {
          "font":{
           "color":"#FFFFFF"
          },
          "showarrow":false,
          "text":"nan",
          "x":"Z_Revenue",
          "xref":"x",
          "y":"ID",
          "yref":"y"
         },
         {
          "font":{
           "color":"#FFFFFF"
          },
          "showarrow":false,
          "text":"1.0",
          "x":"Response",
          "xref":"x",
          "y":"ID",
          "yref":"y"
         }
        ],
        "xaxis":{
         "dtick":1,
         "gridcolor":"rgb(0, 0, 0)",
         "side":"top",
         "ticks":""
        },
        "yaxis":{
         "dtick":1,
         "ticks":"",
         "ticksuffix":"  "
        },
        "template":{
         "data":{
          "bar":[
           {
            "error_x":{
             "color":"#2a3f5f"
            },
            "error_y":{
             "color":"#2a3f5f"
            },
            "marker":{
             "line":{
              "color":"#E5ECF6",
              "width":0.5
             },
             "pattern":{
              "fillmode":"overlay",
              "size":10,
              "solidity":0.2
             }
            },
            "type":"bar"
           }
          ],
          "barpolar":[
           {
            "marker":{
             "line":{
              "color":"#E5ECF6",
              "width":0.5
             },
             "pattern":{
              "fillmode":"overlay",
              "size":10,
              "solidity":0.2
             }
            },
            "type":"barpolar"
           }
          ],
          "carpet":[
           {
            "aaxis":{
             "endlinecolor":"#2a3f5f",
             "gridcolor":"white",
             "linecolor":"white",
             "minorgridcolor":"white",
             "startlinecolor":"#2a3f5f"
            },
            "baxis":{
             "endlinecolor":"#2a3f5f",
             "gridcolor":"white",
             "linecolor":"white",
             "minorgridcolor":"white",
             "startlinecolor":"#2a3f5f"
            },
            "type":"carpet"
           }
          ],
          "choropleth":[
           {
            "colorbar":{
             "outlinewidth":0,
             "ticks":""
            },
            "type":"choropleth"
           }
          ],
          "contour":[
           {
            "colorbar":{
             "outlinewidth":0,
             "ticks":""
            },
            "colorscale":[
             [
              0,
              "#0d0887"
             ],
             [
              0.1111111111111111,
              "#46039f"
             ],
             [
              0.2222222222222222,
              "#7201a8"
             ],
             [
              0.3333333333333333,
              "#9c179e"
             ],
             [
              0.4444444444444444,
              "#bd3786"
             ],
             [
              0.5555555555555556,
              "#d8576b"
             ],
             [
              0.6666666666666666,
              "#ed7953"
             ],
             [
              0.7777777777777778,
              "#fb9f3a"
             ],
             [
              0.8888888888888888,
              "#fdca26"
             ],
             [
              1,
              "#f0f921"
             ]
            ],
            "type":"contour"
           }
          ],
          "contourcarpet":[
           {
            "colorbar":{
             "outlinewidth":0,
             "ticks":""
            },
            "type":"contourcarpet"
           }
          ],
          "heatmap":[
           {
            "colorbar":{
             "outlinewidth":0,
             "ticks":""
            },
            "colorscale":[
             [
              0,
              "#0d0887"
             ],
             [
              0.1111111111111111,
              "#46039f"
             ],
             [
              0.2222222222222222,
              "#7201a8"
             ],
             [
              0.3333333333333333,
              "#9c179e"
             ],
             [
              0.4444444444444444,
              "#bd3786"
             ],
             [
              0.5555555555555556,
              "#d8576b"
             ],
             [
              0.6666666666666666,
              "#ed7953"
             ],
             [
              0.7777777777777778,
              "#fb9f3a"
             ],
             [
              0.8888888888888888,
              "#fdca26"
             ],
             [
              1,
              "#f0f921"
             ]
            ],
            "type":"heatmap"
           }
          ],
          "heatmapgl":[
           {
            "colorbar":{
             "outlinewidth":0,
             "ticks":""
            },
            "colorscale":[
             [
              0,
              "#0d0887"
             ],
             [
              0.1111111111111111,
              "#46039f"
             ],
             [
              0.2222222222222222,
              "#7201a8"
             ],
             [
              0.3333333333333333,
              "#9c179e"
             ],
             [
              0.4444444444444444,
              "#bd3786"
             ],
             [
              0.5555555555555556,
              "#d8576b"
             ],
             [
              0.6666666666666666,
              "#ed7953"
             ],
             [
              0.7777777777777778,
              "#fb9f3a"
             ],
             [
              0.8888888888888888,
              "#fdca26"
             ],
             [
              1,
              "#f0f921"
             ]
            ],
            "type":"heatmapgl"
           }
          ],
          "histogram":[
           {
            "marker":{
             "pattern":{
              "fillmode":"overlay",
              "size":10,
              "solidity":0.2
             }
            },
            "type":"histogram"
           }
          ],
          "histogram2d":[
           {
            "colorbar":{
             "outlinewidth":0,
             "ticks":""
            },
            "colorscale":[
             [
              0,
              "#0d0887"
             ],
             [
              0.1111111111111111,
              "#46039f"
             ],
             [
              0.2222222222222222,
              "#7201a8"
             ],
             [
              0.3333333333333333,
              "#9c179e"
             ],
             [
              0.4444444444444444,
              "#bd3786"
             ],
             [
              0.5555555555555556,
              "#d8576b"
             ],
             [
              0.6666666666666666,
              "#ed7953"
             ],
             [
              0.7777777777777778,
              "#fb9f3a"
             ],
             [
              0.8888888888888888,
              "#fdca26"
             ],
             [
              1,
              "#f0f921"
             ]
            ],
            "type":"histogram2d"
           }
          ],
          "histogram2dcontour":[
           {
            "colorbar":{
             "outlinewidth":0,
             "ticks":""
            },
            "colorscale":[
             [
              0,
              "#0d0887"
             ],
             [
              0.1111111111111111,
              "#46039f"
             ],
             [
              0.2222222222222222,
              "#7201a8"
             ],
             [
              0.3333333333333333,
              "#9c179e"
             ],
             [
              0.4444444444444444,
              "#bd3786"
             ],
             [
              0.5555555555555556,
              "#d8576b"
             ],
             [
              0.6666666666666666,
              "#ed7953"
             ],
             [
              0.7777777777777778,
              "#fb9f3a"
             ],
             [
              0.8888888888888888,
              "#fdca26"
             ],
             [
              1,
              "#f0f921"
             ]
            ],
            "type":"histogram2dcontour"
           }
          ],
          "mesh3d":[
           {
            "colorbar":{
             "outlinewidth":0,
             "ticks":""
            },
            "type":"mesh3d"
           }
          ],
          "parcoords":[
           {
            "line":{
             "colorbar":{
              "outlinewidth":0,
              "ticks":""
             }
            },
            "type":"parcoords"
           }
          ],
          "pie":[
           {
            "automargin":true,
            "type":"pie"
           }
          ],
          "scatter":[
           {
            "marker":{
             "colorbar":{
              "outlinewidth":0,
              "ticks":""
             }
            },
            "type":"scatter"
           }
          ],
          "scatter3d":[
           {
            "line":{
             "colorbar":{
              "outlinewidth":0,
              "ticks":""
             }
            },
            "marker":{
             "colorbar":{
              "outlinewidth":0,
              "ticks":""
             }
            },
            "type":"scatter3d"
           }
          ],
          "scattercarpet":[
           {
            "marker":{
             "colorbar":{
              "outlinewidth":0,
              "ticks":""
             }
            },
            "type":"scattercarpet"
           }
          ],
          "scattergeo":[
           {
            "marker":{
             "colorbar":{
              "outlinewidth":0,
              "ticks":""
             }
            },
            "type":"scattergeo"
           }
          ],
          "scattergl":[
           {
            "marker":{
             "colorbar":{
              "outlinewidth":0,
              "ticks":""
             }
            },
            "type":"scattergl"
           }
          ],
          "scattermapbox":[
           {
            "marker":{
             "colorbar":{
              "outlinewidth":0,
              "ticks":""
             }
            },
            "type":"scattermapbox"
           }
          ],
          "scatterpolar":[
           {
            "marker":{
             "colorbar":{
              "outlinewidth":0,
              "ticks":""
             }
            },
            "type":"scatterpolar"
           }
          ],
          "scatterpolargl":[
           {
            "marker":{
             "colorbar":{
              "outlinewidth":0,
              "ticks":""
             }
            },
            "type":"scatterpolargl"
           }
          ],
          "scatterternary":[
           {
            "marker":{
             "colorbar":{
              "outlinewidth":0,
              "ticks":""
             }
            },
            "type":"scatterternary"
           }
          ],
          "surface":[
           {
            "colorbar":{
             "outlinewidth":0,
             "ticks":""
            },
            "colorscale":[
             [
              0,
              "#0d0887"
             ],
             [
              0.1111111111111111,
              "#46039f"
             ],
             [
              0.2222222222222222,
              "#7201a8"
             ],
             [
              0.3333333333333333,
              "#9c179e"
             ],
             [
              0.4444444444444444,
              "#bd3786"
             ],
             [
              0.5555555555555556,
              "#d8576b"
             ],
             [
              0.6666666666666666,
              "#ed7953"
             ],
             [
              0.7777777777777778,
              "#fb9f3a"
             ],
             [
              0.8888888888888888,
              "#fdca26"
             ],
             [
              1,
              "#f0f921"
             ]
            ],
            "type":"surface"
           }
          ],
          "table":[
           {
            "cells":{
             "fill":{
              "color":"#EBF0F8"
             },
             "line":{
              "color":"white"
             }
            },
            "header":{
             "fill":{
              "color":"#C8D4E3"
             },
             "line":{
              "color":"white"
             }
            },
            "type":"table"
           }
          ]
         },
         "layout":{
          "annotationdefaults":{
           "arrowcolor":"#2a3f5f",
           "arrowhead":0,
           "arrowwidth":1
          },
          "autotypenumbers":"strict",
          "coloraxis":{
           "colorbar":{
            "outlinewidth":0,
            "ticks":""
           }
          },
          "colorscale":{
           "diverging":[
            [
             0,
             "#8e0152"
            ],
            [
             0.1,
             "#c51b7d"
            ],
            [
             0.2,
             "#de77ae"
            ],
            [
             0.3,
             "#f1b6da"
            ],
            [
             0.4,
             "#fde0ef"
            ],
            [
             0.5,
             "#f7f7f7"
            ],
            [
             0.6,
             "#e6f5d0"
            ],
            [
             0.7,
             "#b8e186"
            ],
            [
             0.8,
             "#7fbc41"
            ],
            [
             0.9,
             "#4d9221"
            ],
            [
             1,
             "#276419"
            ]
           ],
           "sequential":[
            [
             0,
             "#0d0887"
            ],
            [
             0.1111111111111111,
             "#46039f"
            ],
            [
             0.2222222222222222,
             "#7201a8"
            ],
            [
             0.3333333333333333,
             "#9c179e"
            ],
            [
             0.4444444444444444,
             "#bd3786"
            ],
            [
             0.5555555555555556,
             "#d8576b"
            ],
            [
             0.6666666666666666,
             "#ed7953"
            ],
            [
             0.7777777777777778,
             "#fb9f3a"
            ],
            [
             0.8888888888888888,
             "#fdca26"
            ],
            [
             1,
             "#f0f921"
            ]
           ],
           "sequentialminus":[
            [
             0,
             "#0d0887"
            ],
            [
             0.1111111111111111,
             "#46039f"
            ],
            [
             0.2222222222222222,
             "#7201a8"
            ],
            [
             0.3333333333333333,
             "#9c179e"
            ],
            [
             0.4444444444444444,
             "#bd3786"
            ],
            [
             0.5555555555555556,
             "#d8576b"
            ],
            [
             0.6666666666666666,
             "#ed7953"
            ],
            [
             0.7777777777777778,
             "#fb9f3a"
            ],
            [
             0.8888888888888888,
             "#fdca26"
            ],
            [
             1,
             "#f0f921"
            ]
           ]
          },
          "colorway":[
           "#636efa",
           "#EF553B",
           "#00cc96",
           "#ab63fa",
           "#FFA15A",
           "#19d3f3",
           "#FF6692",
           "#B6E880",
           "#FF97FF",
           "#FECB52"
          ],
          "font":{
           "color":"#2a3f5f"
          },
          "geo":{
           "bgcolor":"white",
           "lakecolor":"white",
           "landcolor":"#E5ECF6",
           "showlakes":true,
           "showland":true,
           "subunitcolor":"white"
          },
          "hoverlabel":{
           "align":"left"
          },
          "hovermode":"closest",
          "mapbox":{
           "style":"light"
          },
          "paper_bgcolor":"white",
          "plot_bgcolor":"#E5ECF6",
          "polar":{
           "angularaxis":{
            "gridcolor":"white",
            "linecolor":"white",
            "ticks":""
           },
           "bgcolor":"#E5ECF6",
           "radialaxis":{
            "gridcolor":"white",
            "linecolor":"white",
            "ticks":""
           }
          },
          "scene":{
           "xaxis":{
            "backgroundcolor":"#E5ECF6",
            "gridcolor":"white",
            "gridwidth":2,
            "linecolor":"white",
            "showbackground":true,
            "ticks":"",
            "zerolinecolor":"white"
           },
           "yaxis":{
            "backgroundcolor":"#E5ECF6",
            "gridcolor":"white",
            "gridwidth":2,
            "linecolor":"white",
            "showbackground":true,
            "ticks":"",
            "zerolinecolor":"white"
           },
           "zaxis":{
            "backgroundcolor":"#E5ECF6",
            "gridcolor":"white",
            "gridwidth":2,
            "linecolor":"white",
            "showbackground":true,
            "ticks":"",
            "zerolinecolor":"white"
           }
          },
          "shapedefaults":{
           "line":{
            "color":"#2a3f5f"
           }
          },
          "ternary":{
           "aaxis":{
            "gridcolor":"white",
            "linecolor":"white",
            "ticks":""
           },
           "baxis":{
            "gridcolor":"white",
            "linecolor":"white",
            "ticks":""
           },
           "bgcolor":"#E5ECF6",
           "caxis":{
            "gridcolor":"white",
            "linecolor":"white",
            "ticks":""
           }
          },
          "title":{
           "x":0.05
          },
          "xaxis":{
           "automargin":true,
           "gridcolor":"white",
           "linecolor":"white",
           "ticks":"",
           "title":{
            "standoff":15
           },
           "zerolinecolor":"white",
           "zerolinewidth":2
          },
          "yaxis":{
           "automargin":true,
           "gridcolor":"white",
           "linecolor":"white",
           "ticks":"",
           "title":{
            "standoff":15
           },
           "zerolinecolor":"white",
           "zerolinewidth":2
          }
         }
        }
       },
       "config":{
        "plotlyServerURL":"https:\/\/plot.ly"
       }
      }
     },
     "metadata":{
      
     },
     "output_type":"display_data"
    }
   ],
   "metadata":{
    "datalore":{
     "node_id":"KGjjmIfBtlWIm4BI4ibvWE",
     "type":"CODE",
     "hide_input_from_viewers":false,
     "hide_output_from_viewers":false
    }
   }
  },
  {
   "cell_type":"code",
   "source":[
    "df.nunique()"
   ],
   "execution_count":105,
   "outputs":[
    {
     "data":{
      "text\/html":[
       
      ]
     },
     "metadata":{
      
     },
     "output_type":"display_data"
    }
   ],
   "metadata":{
    "datalore":{
     "node_id":"6crdtkx3JzDdzNdMstEV5n",
     "type":"CODE",
     "hide_input_from_viewers":false,
     "hide_output_from_viewers":false
    }
   }
  },
  {
   "cell_type":"code",
   "source":[
    
   ],
   "execution_count":null,
   "outputs":[
    
   ],
   "metadata":{
    "datalore":{
     "node_id":"Nms3XjYGiDWThZwr0KrawR",
     "type":"CODE",
     "hide_input_from_viewers":false,
     "hide_output_from_viewers":false
    }
   }
  }
 ],
 "metadata":{
  "kernelspec":{
   "display_name":"Python",
   "language":"python",
   "name":"python"
  },
  "datalore":{
   "version":1,
   "computation_mode":"JUPYTER",
   "package_manager":"pip",
   "base_environment":"default",
   "packages":[
    
   ]
  }
 },
 "nbformat":4,
 "nbformat_minor":4
}
